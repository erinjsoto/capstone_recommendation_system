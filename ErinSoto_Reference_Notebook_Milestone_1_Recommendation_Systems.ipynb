{
  "nbformat": 4,
  "nbformat_minor": 0,
  "metadata": {
    "kernelspec": {
      "display_name": "Python 3",
      "language": "python",
      "name": "python3"
    },
    "language_info": {
      "codemirror_mode": {
        "name": "ipython",
        "version": 3
      },
      "file_extension": ".py",
      "mimetype": "text/x-python",
      "name": "python",
      "nbconvert_exporter": "python",
      "pygments_lexer": "ipython3",
      "version": "3.8.3"
    },
    "colab": {
      "provenance": [],
      "include_colab_link": true
    }
  },
  "cells": [
    {
      "cell_type": "markdown",
      "metadata": {
        "id": "view-in-github",
        "colab_type": "text"
      },
      "source": [
        "<a href=\"https://colab.research.google.com/github/erinjsoto/capstone_recommendation_system/blob/main/ErinSoto_Reference_Notebook_Milestone_1_Recommendation_Systems.ipynb\" target=\"_parent\"><img src=\"https://colab.research.google.com/assets/colab-badge.svg\" alt=\"Open In Colab\"/></a>"
      ]
    },
    {
      "cell_type": "markdown",
      "metadata": {
        "id": "DyAjEw4OHmDb"
      },
      "source": [
        "# **Music Recommendation System**"
      ]
    },
    {
      "cell_type": "markdown",
      "metadata": {
        "id": "Km5ozaHFh_cU"
      },
      "source": [
        "## **Milestone 1**"
      ]
    },
    {
      "cell_type": "markdown",
      "metadata": {
        "id": "BVUiyhYTHS1t"
      },
      "source": [
        "## **Problem Definition**\n",
        "\n",
        "**The context:** Why is this problem important to solve?<br>\n",
        "**The objectives:** What is the intended goal?<br>\n",
        "**The key questions:** What are the key questions that need to be answered?<br>\n",
        "**The problem formulation:** What are we trying to solve using data science?\n",
        "\n",
        "\n",
        "## **Data Dictionary**\n",
        "\n",
        "The core data is the Taste Profile Subset released by the Echo Nest as part of the Million Song Dataset. There are two files in this dataset. The first file contains the details about the song id, titles, release, artist name, and the year of release. The second file contains the user id, song id, and the play count of users.\n",
        "\n",
        "song_data\n",
        "\n",
        "song_id - A unique id given to every song\n",
        "\n",
        "title - Title of the song\n",
        "\n",
        "Release - Name of the released album\n",
        "\n",
        "Artist_name - Name of the artist \n",
        "\n",
        "year - Year of release\n",
        "\n",
        "count_data\n",
        "\n",
        "user _id - A unique id given to the user\n",
        "\n",
        "song_id - A unique id given to the song\n",
        "\n",
        "play_count - Number of times the song was played\n",
        "\n",
        "## **Data Source**\n",
        "http://millionsongdataset.com/"
      ]
    },
    {
      "cell_type": "markdown",
      "metadata": {
        "id": "entENKtxK-g-"
      },
      "source": [
        "## **Important Notes**\n",
        "\n",
        "- This notebook can be considered a guide to refer to while solving the problem. The evaluation will be as per the Rubric shared for each Milestone. Unlike previous courses, it does not follow the pattern of the graded questions in different sections. This notebook would give you a direction on what steps need to be taken to get a feasible solution to the problem. Please note that this is just one way of doing this. **There can be other 'creative' ways to solve the problem, and we encourage you to feel free and explore them as an 'optional' exercise**. \n",
        "\n",
        "- In the notebook, there are markdown cells called Observations and Insights. It is a good practice to provide observations and extract insights from the outputs.\n",
        "\n",
        "- The naming convention for different variables can vary. **Please consider the code provided in this notebook as a sample code.**\n",
        "\n",
        "- All the outputs in the notebook are just for reference and can be different if you follow a different approach.\n",
        "\n",
        "- There are sections called **Think About It** in the notebook that will help you get a better understanding of the reasoning behind a particular technique/step. Interested learners can take alternative approaches if they want to explore different techniques."
      ]
    },
    {
      "cell_type": "code",
      "source": [
        "#%%shell\n",
        "#jupyter nbconvert --to html /content/drive/MyDrive/Colab_Notebooks/spotify_music/Reference_Notebook_Milestone_1_Recommendation_Systems_%282%29+%281%29.ipynb"
      ],
      "metadata": {
        "id": "jrmvA-Lhoj5C"
      },
      "execution_count": null,
      "outputs": []
    },
    {
      "cell_type": "markdown",
      "metadata": {
        "id": "NRJtXkTrHxMQ"
      },
      "source": [
        "### **Importing Libraries and the Dataset**"
      ]
    },
    {
      "cell_type": "code",
      "source": [
        "# Mounting the drive\n",
        "from google.colab import drive\n",
        "drive.mount('/content/drive')"
      ],
      "metadata": {
        "id": "6SRzOPXI2Efn",
        "colab": {
          "base_uri": "https://localhost:8080/"
        },
        "outputId": "d957421f-7519-4a27-b7f8-5c115a93d166"
      },
      "execution_count": null,
      "outputs": [
        {
          "output_type": "stream",
          "name": "stdout",
          "text": [
            "Mounted at /content/drive\n"
          ]
        }
      ]
    },
    {
      "cell_type": "code",
      "metadata": {
        "id": "R4YvKrpzId3K"
      },
      "source": [
        "# Used to ignore the warning given as output of the code\n",
        "import warnings\n",
        "warnings.filterwarnings('ignore')\n",
        "\n",
        "# Basic libraries of python for numeric and dataframe computations\n",
        "import numpy as np\n",
        "import pandas as pd\n",
        "\n",
        "# Basic library for data visualization\n",
        "import matplotlib.pyplot as plt\n",
        "\n",
        "# Slightly advanced library for data visualization\n",
        "import seaborn as sns\n",
        "\n",
        "# To compute the cosine similarity between two vectors\n",
        "from sklearn.metrics.pairwise import cosine_similarity\n",
        "\n",
        "# A dictionary output that does not raise a key error\n",
        "from collections import defaultdict\n",
        "\n",
        "# A performance metrics in sklearn\n",
        "from sklearn.metrics import mean_squared_error\n",
        "\n",
        "# To do label encoding\n",
        "from sklearn.preprocessing import LabelEncoder"
      ],
      "execution_count": null,
      "outputs": []
    },
    {
      "cell_type": "markdown",
      "source": [
        "### **Load the dataset**"
      ],
      "metadata": {
        "id": "bUGKX140wf-S"
      }
    },
    {
      "cell_type": "code",
      "metadata": {
        "id": "si6ulhIYImck"
      },
      "source": [
        "# Importing the datasets\n",
        "count_df = pd.read_csv('/content/drive/MyDrive/Colab_Notebooks/spotify_music/count_data.csv')\n",
        "song_df = pd.read_csv('/content/drive/MyDrive/Colab_Notebooks/spotify_music/song_data.csv')"
      ],
      "execution_count": null,
      "outputs": []
    },
    {
      "cell_type": "markdown",
      "metadata": {
        "id": "12TKB2M7XyC6"
      },
      "source": [
        "### **Understanding the data by viewing a few observations**"
      ]
    },
    {
      "cell_type": "code",
      "execution_count": null,
      "metadata": {
        "id": "GCLzBuYiXlPM",
        "colab": {
          "base_uri": "https://localhost:8080/",
          "height": 363
        },
        "outputId": "57d8dd5f-4f4d-4cd5-ddf3-8015e2ca1673"
      },
      "outputs": [
        {
          "output_type": "execute_result",
          "data": {
            "text/plain": [
              "         Unnamed: 0                                   user_id  \\\n",
              "1228366     1228366  d13609d62db6df876d3cc388225478618bb7b912   \n",
              "1048310     1048310  50996bbabb6f7857bf0c8019435b5246a0e45cfd   \n",
              "1586780     1586780  5ea608df0357ec4fda191cb9316fe8e6e65e3777   \n",
              "31179         31179  bb85bb79612e5373ac714fcd4469cabeb5ed94e1   \n",
              "1875121     1875121  c012ec364329bb08cbe3e62fe76db31f8c5d8ec3   \n",
              "1644909     1644909  70caceccaa745b6f7bc2898a154538eb1ada4d5a   \n",
              "1731945     1731945  972cce803aa7beceaa7d0039e4c7c0ff097e4d55   \n",
              "1374693     1374693  d2232ac7a1ec17b283b5dff243161902b2cb706c   \n",
              "1819571     1819571  f5363481018dc87e8b06f9451e99804610a594fa   \n",
              "515442       515442  f1bdbb9fb7399b402a09fa124210dedf78e76034   \n",
              "\n",
              "                    song_id  play_count  \n",
              "1228366  SOFCGSE12AF72A674F        2213  \n",
              "1048310  SOUAGPQ12A8AE47B3A         920  \n",
              "1586780  SOKOSPK12A8C13C088         879  \n",
              "31179    SOZQSVB12A8C13C271         796  \n",
              "1875121  SOBONKR12A58A7A7E0         683  \n",
              "1644909  SOPREHY12AB01815F9         676  \n",
              "1731945  SOJRFWQ12AB0183582         664  \n",
              "1374693  SOLGIWB12A58A77A05         649  \n",
              "1819571  SOVRIPE12A6D4FEA19         605  \n",
              "515442   SOZPMJT12AAF3B40D1         585  "
            ],
            "text/html": [
              "\n",
              "  <div id=\"df-58ca9bf7-269e-40ff-a24f-2d2d628bf8cd\">\n",
              "    <div class=\"colab-df-container\">\n",
              "      <div>\n",
              "<style scoped>\n",
              "    .dataframe tbody tr th:only-of-type {\n",
              "        vertical-align: middle;\n",
              "    }\n",
              "\n",
              "    .dataframe tbody tr th {\n",
              "        vertical-align: top;\n",
              "    }\n",
              "\n",
              "    .dataframe thead th {\n",
              "        text-align: right;\n",
              "    }\n",
              "</style>\n",
              "<table border=\"1\" class=\"dataframe\">\n",
              "  <thead>\n",
              "    <tr style=\"text-align: right;\">\n",
              "      <th></th>\n",
              "      <th>Unnamed: 0</th>\n",
              "      <th>user_id</th>\n",
              "      <th>song_id</th>\n",
              "      <th>play_count</th>\n",
              "    </tr>\n",
              "  </thead>\n",
              "  <tbody>\n",
              "    <tr>\n",
              "      <th>1228366</th>\n",
              "      <td>1228366</td>\n",
              "      <td>d13609d62db6df876d3cc388225478618bb7b912</td>\n",
              "      <td>SOFCGSE12AF72A674F</td>\n",
              "      <td>2213</td>\n",
              "    </tr>\n",
              "    <tr>\n",
              "      <th>1048310</th>\n",
              "      <td>1048310</td>\n",
              "      <td>50996bbabb6f7857bf0c8019435b5246a0e45cfd</td>\n",
              "      <td>SOUAGPQ12A8AE47B3A</td>\n",
              "      <td>920</td>\n",
              "    </tr>\n",
              "    <tr>\n",
              "      <th>1586780</th>\n",
              "      <td>1586780</td>\n",
              "      <td>5ea608df0357ec4fda191cb9316fe8e6e65e3777</td>\n",
              "      <td>SOKOSPK12A8C13C088</td>\n",
              "      <td>879</td>\n",
              "    </tr>\n",
              "    <tr>\n",
              "      <th>31179</th>\n",
              "      <td>31179</td>\n",
              "      <td>bb85bb79612e5373ac714fcd4469cabeb5ed94e1</td>\n",
              "      <td>SOZQSVB12A8C13C271</td>\n",
              "      <td>796</td>\n",
              "    </tr>\n",
              "    <tr>\n",
              "      <th>1875121</th>\n",
              "      <td>1875121</td>\n",
              "      <td>c012ec364329bb08cbe3e62fe76db31f8c5d8ec3</td>\n",
              "      <td>SOBONKR12A58A7A7E0</td>\n",
              "      <td>683</td>\n",
              "    </tr>\n",
              "    <tr>\n",
              "      <th>1644909</th>\n",
              "      <td>1644909</td>\n",
              "      <td>70caceccaa745b6f7bc2898a154538eb1ada4d5a</td>\n",
              "      <td>SOPREHY12AB01815F9</td>\n",
              "      <td>676</td>\n",
              "    </tr>\n",
              "    <tr>\n",
              "      <th>1731945</th>\n",
              "      <td>1731945</td>\n",
              "      <td>972cce803aa7beceaa7d0039e4c7c0ff097e4d55</td>\n",
              "      <td>SOJRFWQ12AB0183582</td>\n",
              "      <td>664</td>\n",
              "    </tr>\n",
              "    <tr>\n",
              "      <th>1374693</th>\n",
              "      <td>1374693</td>\n",
              "      <td>d2232ac7a1ec17b283b5dff243161902b2cb706c</td>\n",
              "      <td>SOLGIWB12A58A77A05</td>\n",
              "      <td>649</td>\n",
              "    </tr>\n",
              "    <tr>\n",
              "      <th>1819571</th>\n",
              "      <td>1819571</td>\n",
              "      <td>f5363481018dc87e8b06f9451e99804610a594fa</td>\n",
              "      <td>SOVRIPE12A6D4FEA19</td>\n",
              "      <td>605</td>\n",
              "    </tr>\n",
              "    <tr>\n",
              "      <th>515442</th>\n",
              "      <td>515442</td>\n",
              "      <td>f1bdbb9fb7399b402a09fa124210dedf78e76034</td>\n",
              "      <td>SOZPMJT12AAF3B40D1</td>\n",
              "      <td>585</td>\n",
              "    </tr>\n",
              "  </tbody>\n",
              "</table>\n",
              "</div>\n",
              "      <button class=\"colab-df-convert\" onclick=\"convertToInteractive('df-58ca9bf7-269e-40ff-a24f-2d2d628bf8cd')\"\n",
              "              title=\"Convert this dataframe to an interactive table.\"\n",
              "              style=\"display:none;\">\n",
              "        \n",
              "  <svg xmlns=\"http://www.w3.org/2000/svg\" height=\"24px\"viewBox=\"0 0 24 24\"\n",
              "       width=\"24px\">\n",
              "    <path d=\"M0 0h24v24H0V0z\" fill=\"none\"/>\n",
              "    <path d=\"M18.56 5.44l.94 2.06.94-2.06 2.06-.94-2.06-.94-.94-2.06-.94 2.06-2.06.94zm-11 1L8.5 8.5l.94-2.06 2.06-.94-2.06-.94L8.5 2.5l-.94 2.06-2.06.94zm10 10l.94 2.06.94-2.06 2.06-.94-2.06-.94-.94-2.06-.94 2.06-2.06.94z\"/><path d=\"M17.41 7.96l-1.37-1.37c-.4-.4-.92-.59-1.43-.59-.52 0-1.04.2-1.43.59L10.3 9.45l-7.72 7.72c-.78.78-.78 2.05 0 2.83L4 21.41c.39.39.9.59 1.41.59.51 0 1.02-.2 1.41-.59l7.78-7.78 2.81-2.81c.8-.78.8-2.07 0-2.86zM5.41 20L4 18.59l7.72-7.72 1.47 1.35L5.41 20z\"/>\n",
              "  </svg>\n",
              "      </button>\n",
              "      \n",
              "  <style>\n",
              "    .colab-df-container {\n",
              "      display:flex;\n",
              "      flex-wrap:wrap;\n",
              "      gap: 12px;\n",
              "    }\n",
              "\n",
              "    .colab-df-convert {\n",
              "      background-color: #E8F0FE;\n",
              "      border: none;\n",
              "      border-radius: 50%;\n",
              "      cursor: pointer;\n",
              "      display: none;\n",
              "      fill: #1967D2;\n",
              "      height: 32px;\n",
              "      padding: 0 0 0 0;\n",
              "      width: 32px;\n",
              "    }\n",
              "\n",
              "    .colab-df-convert:hover {\n",
              "      background-color: #E2EBFA;\n",
              "      box-shadow: 0px 1px 2px rgba(60, 64, 67, 0.3), 0px 1px 3px 1px rgba(60, 64, 67, 0.15);\n",
              "      fill: #174EA6;\n",
              "    }\n",
              "\n",
              "    [theme=dark] .colab-df-convert {\n",
              "      background-color: #3B4455;\n",
              "      fill: #D2E3FC;\n",
              "    }\n",
              "\n",
              "    [theme=dark] .colab-df-convert:hover {\n",
              "      background-color: #434B5C;\n",
              "      box-shadow: 0px 1px 3px 1px rgba(0, 0, 0, 0.15);\n",
              "      filter: drop-shadow(0px 1px 2px rgba(0, 0, 0, 0.3));\n",
              "      fill: #FFFFFF;\n",
              "    }\n",
              "  </style>\n",
              "\n",
              "      <script>\n",
              "        const buttonEl =\n",
              "          document.querySelector('#df-58ca9bf7-269e-40ff-a24f-2d2d628bf8cd button.colab-df-convert');\n",
              "        buttonEl.style.display =\n",
              "          google.colab.kernel.accessAllowed ? 'block' : 'none';\n",
              "\n",
              "        async function convertToInteractive(key) {\n",
              "          const element = document.querySelector('#df-58ca9bf7-269e-40ff-a24f-2d2d628bf8cd');\n",
              "          const dataTable =\n",
              "            await google.colab.kernel.invokeFunction('convertToInteractive',\n",
              "                                                     [key], {});\n",
              "          if (!dataTable) return;\n",
              "\n",
              "          const docLinkHtml = 'Like what you see? Visit the ' +\n",
              "            '<a target=\"_blank\" href=https://colab.research.google.com/notebooks/data_table.ipynb>data table notebook</a>'\n",
              "            + ' to learn more about interactive tables.';\n",
              "          element.innerHTML = '';\n",
              "          dataTable['output_type'] = 'display_data';\n",
              "          await google.colab.output.renderOutput(dataTable, element);\n",
              "          const docLink = document.createElement('div');\n",
              "          docLink.innerHTML = docLinkHtml;\n",
              "          element.appendChild(docLink);\n",
              "        }\n",
              "      </script>\n",
              "    </div>\n",
              "  </div>\n",
              "  "
            ]
          },
          "metadata": {},
          "execution_count": 5
        }
      ],
      "source": [
        "# See top 10 records of count_df data\n",
        "# Top 10 records based on play_count column\n",
        "count_df.sort_values(by=['play_count'], ascending=False).head(10)"
      ]
    },
    {
      "cell_type": "code",
      "execution_count": null,
      "metadata": {
        "id": "tV1ed0ApXpu3",
        "colab": {
          "base_uri": "https://localhost:8080/",
          "height": 363
        },
        "outputId": "e3c0e0cc-4be8-4cd3-e96e-238c54e454fb"
      },
      "outputs": [
        {
          "output_type": "execute_result",
          "data": {
            "text/plain": [
              "              song_id                                              title  \\\n",
              "0  SOQMMHC12AB0180CB8                                       Silent Night   \n",
              "1  SOVFVAK12A8C1350D9                                        Tanssi vaan   \n",
              "2  SOGTUKN12AB017F4F1                                  No One Could Ever   \n",
              "3  SOBNYVR12A8C13558C                                      Si Vos Querés   \n",
              "4  SOHSBXH12A8C13B0DF                                   Tangle Of Aspens   \n",
              "5  SOZVAPQ12A8C13B63C  Symphony No. 1 G minor \"Sinfonie Serieuse\"/All...   \n",
              "6  SOQVRHI12A6D4FB2D7                                   We Have Got Love   \n",
              "7  SOEYRFT12AB018936C                                  2 Da Beat Ch'yall   \n",
              "8  SOPMIYT12A6D4F851E                                            Goodbye   \n",
              "9  SOJCFMH12A8C13B0C2                         Mama_ mama can't you see ?   \n",
              "\n",
              "                                release  \\\n",
              "0                 Monster Ballads X-Mas   \n",
              "1                           Karkuteillä   \n",
              "2                                Butter   \n",
              "3                               De Culo   \n",
              "4  Rene Ablaze Presents Winter Sessions   \n",
              "5      Berwald: Symphonies Nos. 1/2/3/4   \n",
              "6             Strictly The Best Vol. 34   \n",
              "7                               Da Bomb   \n",
              "8                             Danny Boy   \n",
              "9  March to cadence with the US marines   \n",
              "\n",
              "                                      artist_name  year  \n",
              "0                                Faster Pussy cat  2003  \n",
              "1                                Karkkiautomaatti  1995  \n",
              "2                                  Hudson Mohawke  2006  \n",
              "3                                     Yerba Brava  2003  \n",
              "4                                      Der Mystic     0  \n",
              "5                                David Montgomery     0  \n",
              "6                              Sasha / Turbulence     0  \n",
              "7                                      Kris Kross  1993  \n",
              "8                                    Joseph Locke     0  \n",
              "9  The Sun Harbor's Chorus-Documentary Recordings     0  "
            ],
            "text/html": [
              "\n",
              "  <div id=\"df-09a17654-6895-4451-98a7-526243d485c5\">\n",
              "    <div class=\"colab-df-container\">\n",
              "      <div>\n",
              "<style scoped>\n",
              "    .dataframe tbody tr th:only-of-type {\n",
              "        vertical-align: middle;\n",
              "    }\n",
              "\n",
              "    .dataframe tbody tr th {\n",
              "        vertical-align: top;\n",
              "    }\n",
              "\n",
              "    .dataframe thead th {\n",
              "        text-align: right;\n",
              "    }\n",
              "</style>\n",
              "<table border=\"1\" class=\"dataframe\">\n",
              "  <thead>\n",
              "    <tr style=\"text-align: right;\">\n",
              "      <th></th>\n",
              "      <th>song_id</th>\n",
              "      <th>title</th>\n",
              "      <th>release</th>\n",
              "      <th>artist_name</th>\n",
              "      <th>year</th>\n",
              "    </tr>\n",
              "  </thead>\n",
              "  <tbody>\n",
              "    <tr>\n",
              "      <th>0</th>\n",
              "      <td>SOQMMHC12AB0180CB8</td>\n",
              "      <td>Silent Night</td>\n",
              "      <td>Monster Ballads X-Mas</td>\n",
              "      <td>Faster Pussy cat</td>\n",
              "      <td>2003</td>\n",
              "    </tr>\n",
              "    <tr>\n",
              "      <th>1</th>\n",
              "      <td>SOVFVAK12A8C1350D9</td>\n",
              "      <td>Tanssi vaan</td>\n",
              "      <td>Karkuteillä</td>\n",
              "      <td>Karkkiautomaatti</td>\n",
              "      <td>1995</td>\n",
              "    </tr>\n",
              "    <tr>\n",
              "      <th>2</th>\n",
              "      <td>SOGTUKN12AB017F4F1</td>\n",
              "      <td>No One Could Ever</td>\n",
              "      <td>Butter</td>\n",
              "      <td>Hudson Mohawke</td>\n",
              "      <td>2006</td>\n",
              "    </tr>\n",
              "    <tr>\n",
              "      <th>3</th>\n",
              "      <td>SOBNYVR12A8C13558C</td>\n",
              "      <td>Si Vos Querés</td>\n",
              "      <td>De Culo</td>\n",
              "      <td>Yerba Brava</td>\n",
              "      <td>2003</td>\n",
              "    </tr>\n",
              "    <tr>\n",
              "      <th>4</th>\n",
              "      <td>SOHSBXH12A8C13B0DF</td>\n",
              "      <td>Tangle Of Aspens</td>\n",
              "      <td>Rene Ablaze Presents Winter Sessions</td>\n",
              "      <td>Der Mystic</td>\n",
              "      <td>0</td>\n",
              "    </tr>\n",
              "    <tr>\n",
              "      <th>5</th>\n",
              "      <td>SOZVAPQ12A8C13B63C</td>\n",
              "      <td>Symphony No. 1 G minor \"Sinfonie Serieuse\"/All...</td>\n",
              "      <td>Berwald: Symphonies Nos. 1/2/3/4</td>\n",
              "      <td>David Montgomery</td>\n",
              "      <td>0</td>\n",
              "    </tr>\n",
              "    <tr>\n",
              "      <th>6</th>\n",
              "      <td>SOQVRHI12A6D4FB2D7</td>\n",
              "      <td>We Have Got Love</td>\n",
              "      <td>Strictly The Best Vol. 34</td>\n",
              "      <td>Sasha / Turbulence</td>\n",
              "      <td>0</td>\n",
              "    </tr>\n",
              "    <tr>\n",
              "      <th>7</th>\n",
              "      <td>SOEYRFT12AB018936C</td>\n",
              "      <td>2 Da Beat Ch'yall</td>\n",
              "      <td>Da Bomb</td>\n",
              "      <td>Kris Kross</td>\n",
              "      <td>1993</td>\n",
              "    </tr>\n",
              "    <tr>\n",
              "      <th>8</th>\n",
              "      <td>SOPMIYT12A6D4F851E</td>\n",
              "      <td>Goodbye</td>\n",
              "      <td>Danny Boy</td>\n",
              "      <td>Joseph Locke</td>\n",
              "      <td>0</td>\n",
              "    </tr>\n",
              "    <tr>\n",
              "      <th>9</th>\n",
              "      <td>SOJCFMH12A8C13B0C2</td>\n",
              "      <td>Mama_ mama can't you see ?</td>\n",
              "      <td>March to cadence with the US marines</td>\n",
              "      <td>The Sun Harbor's Chorus-Documentary Recordings</td>\n",
              "      <td>0</td>\n",
              "    </tr>\n",
              "  </tbody>\n",
              "</table>\n",
              "</div>\n",
              "      <button class=\"colab-df-convert\" onclick=\"convertToInteractive('df-09a17654-6895-4451-98a7-526243d485c5')\"\n",
              "              title=\"Convert this dataframe to an interactive table.\"\n",
              "              style=\"display:none;\">\n",
              "        \n",
              "  <svg xmlns=\"http://www.w3.org/2000/svg\" height=\"24px\"viewBox=\"0 0 24 24\"\n",
              "       width=\"24px\">\n",
              "    <path d=\"M0 0h24v24H0V0z\" fill=\"none\"/>\n",
              "    <path d=\"M18.56 5.44l.94 2.06.94-2.06 2.06-.94-2.06-.94-.94-2.06-.94 2.06-2.06.94zm-11 1L8.5 8.5l.94-2.06 2.06-.94-2.06-.94L8.5 2.5l-.94 2.06-2.06.94zm10 10l.94 2.06.94-2.06 2.06-.94-2.06-.94-.94-2.06-.94 2.06-2.06.94z\"/><path d=\"M17.41 7.96l-1.37-1.37c-.4-.4-.92-.59-1.43-.59-.52 0-1.04.2-1.43.59L10.3 9.45l-7.72 7.72c-.78.78-.78 2.05 0 2.83L4 21.41c.39.39.9.59 1.41.59.51 0 1.02-.2 1.41-.59l7.78-7.78 2.81-2.81c.8-.78.8-2.07 0-2.86zM5.41 20L4 18.59l7.72-7.72 1.47 1.35L5.41 20z\"/>\n",
              "  </svg>\n",
              "      </button>\n",
              "      \n",
              "  <style>\n",
              "    .colab-df-container {\n",
              "      display:flex;\n",
              "      flex-wrap:wrap;\n",
              "      gap: 12px;\n",
              "    }\n",
              "\n",
              "    .colab-df-convert {\n",
              "      background-color: #E8F0FE;\n",
              "      border: none;\n",
              "      border-radius: 50%;\n",
              "      cursor: pointer;\n",
              "      display: none;\n",
              "      fill: #1967D2;\n",
              "      height: 32px;\n",
              "      padding: 0 0 0 0;\n",
              "      width: 32px;\n",
              "    }\n",
              "\n",
              "    .colab-df-convert:hover {\n",
              "      background-color: #E2EBFA;\n",
              "      box-shadow: 0px 1px 2px rgba(60, 64, 67, 0.3), 0px 1px 3px 1px rgba(60, 64, 67, 0.15);\n",
              "      fill: #174EA6;\n",
              "    }\n",
              "\n",
              "    [theme=dark] .colab-df-convert {\n",
              "      background-color: #3B4455;\n",
              "      fill: #D2E3FC;\n",
              "    }\n",
              "\n",
              "    [theme=dark] .colab-df-convert:hover {\n",
              "      background-color: #434B5C;\n",
              "      box-shadow: 0px 1px 3px 1px rgba(0, 0, 0, 0.15);\n",
              "      filter: drop-shadow(0px 1px 2px rgba(0, 0, 0, 0.3));\n",
              "      fill: #FFFFFF;\n",
              "    }\n",
              "  </style>\n",
              "\n",
              "      <script>\n",
              "        const buttonEl =\n",
              "          document.querySelector('#df-09a17654-6895-4451-98a7-526243d485c5 button.colab-df-convert');\n",
              "        buttonEl.style.display =\n",
              "          google.colab.kernel.accessAllowed ? 'block' : 'none';\n",
              "\n",
              "        async function convertToInteractive(key) {\n",
              "          const element = document.querySelector('#df-09a17654-6895-4451-98a7-526243d485c5');\n",
              "          const dataTable =\n",
              "            await google.colab.kernel.invokeFunction('convertToInteractive',\n",
              "                                                     [key], {});\n",
              "          if (!dataTable) return;\n",
              "\n",
              "          const docLinkHtml = 'Like what you see? Visit the ' +\n",
              "            '<a target=\"_blank\" href=https://colab.research.google.com/notebooks/data_table.ipynb>data table notebook</a>'\n",
              "            + ' to learn more about interactive tables.';\n",
              "          element.innerHTML = '';\n",
              "          dataTable['output_type'] = 'display_data';\n",
              "          await google.colab.output.renderOutput(dataTable, element);\n",
              "          const docLink = document.createElement('div');\n",
              "          docLink.innerHTML = docLinkHtml;\n",
              "          element.appendChild(docLink);\n",
              "        }\n",
              "      </script>\n",
              "    </div>\n",
              "  </div>\n",
              "  "
            ]
          },
          "metadata": {},
          "execution_count": 6
        }
      ],
      "source": [
        "# See 10 records of song_df data\n",
        "song_df.head(10)"
      ]
    },
    {
      "cell_type": "code",
      "source": [
        "# Testing\n",
        "song_df.groupby(['song_id']).count().sum()"
      ],
      "metadata": {
        "colab": {
          "base_uri": "https://localhost:8080/"
        },
        "id": "jwqBluZkXoCI",
        "outputId": "8d4a6496-168a-4003-a5ec-ce8c1f18ea7c"
      },
      "execution_count": null,
      "outputs": [
        {
          "output_type": "execute_result",
          "data": {
            "text/plain": [
              "title           999985\n",
              "release         999995\n",
              "artist_name    1000000\n",
              "year           1000000\n",
              "dtype: int64"
            ]
          },
          "metadata": {},
          "execution_count": 7
        }
      ]
    },
    {
      "cell_type": "code",
      "source": [
        "# See top 10 records of song_df data\n",
        "a = song_df['song_id'].value_counts()\n",
        "a.head(10)"
      ],
      "metadata": {
        "colab": {
          "base_uri": "https://localhost:8080/"
        },
        "id": "W76vd2AZYzeO",
        "outputId": "fa65934c-d5f7-43e2-9b95-b4b295a90505"
      },
      "execution_count": null,
      "outputs": [
        {
          "output_type": "execute_result",
          "data": {
            "text/plain": [
              "SOUYQYY12AF72A000F    3\n",
              "SOKUAGP12A8C133B94    3\n",
              "SOFQIZF12A67ADE730    3\n",
              "SOBPICV12A8151CDF1    3\n",
              "SORBGBD12A8C141CEA    3\n",
              "SONBEKD12AB01894DC    3\n",
              "SOBPAEP12A58A77F49    3\n",
              "SOUWROC12A8C141CF3    3\n",
              "SOQNMCD12A8C1383D4    3\n",
              "SOODBWM12A6D4F6B0E    3\n",
              "Name: song_id, dtype: int64"
            ]
          },
          "metadata": {},
          "execution_count": 8
        }
      ]
    },
    {
      "cell_type": "code",
      "source": [
        "# See top 10 artists of song_df data\n",
        "a = song_df['artist_name'].value_counts()\n",
        "a.head(10)"
      ],
      "metadata": {
        "colab": {
          "base_uri": "https://localhost:8080/"
        },
        "id": "7YulW7QvYJIt",
        "outputId": "ed75de2d-05dc-4ccb-91b4-aa54a05f2f42"
      },
      "execution_count": null,
      "outputs": [
        {
          "output_type": "execute_result",
          "data": {
            "text/plain": [
              "Michael Jackson       194\n",
              "Johnny Cash           193\n",
              "Beastie Boys          187\n",
              "Joan Baez             181\n",
              "Neil Diamond          176\n",
              "Duran Duran           175\n",
              "Radiohead             173\n",
              "Franz Ferdinand       173\n",
              "Aerosmith             173\n",
              "The Rolling Stones    171\n",
              "Name: artist_name, dtype: int64"
            ]
          },
          "metadata": {},
          "execution_count": 9
        }
      ]
    },
    {
      "cell_type": "markdown",
      "metadata": {
        "id": "bvKb5FHcXzcN"
      },
      "source": [
        "### **Let us check the data types and and missing values of each column**"
      ]
    },
    {
      "cell_type": "code",
      "execution_count": null,
      "metadata": {
        "id": "yyoHc_cnX19J",
        "colab": {
          "base_uri": "https://localhost:8080/"
        },
        "outputId": "5087346f-360d-4de9-9468-abdffc5cc851"
      },
      "outputs": [
        {
          "output_type": "stream",
          "name": "stdout",
          "text": [
            "<class 'pandas.core.frame.DataFrame'>\n",
            "RangeIndex: 2000000 entries, 0 to 1999999\n",
            "Data columns (total 4 columns):\n",
            " #   Column      Dtype \n",
            "---  ------      ----- \n",
            " 0   Unnamed: 0  int64 \n",
            " 1   user_id     object\n",
            " 2   song_id     object\n",
            " 3   play_count  int64 \n",
            "dtypes: int64(2), object(2)\n",
            "memory usage: 61.0+ MB\n"
          ]
        }
      ],
      "source": [
        "# See the info of the count_df data\n",
        "count_df.info()"
      ]
    },
    {
      "cell_type": "code",
      "execution_count": null,
      "metadata": {
        "id": "rz3zDx_LX42y",
        "colab": {
          "base_uri": "https://localhost:8080/"
        },
        "outputId": "488f9694-bb66-43fe-fd4b-99557726dd08"
      },
      "outputs": [
        {
          "output_type": "stream",
          "name": "stdout",
          "text": [
            "<class 'pandas.core.frame.DataFrame'>\n",
            "RangeIndex: 1000000 entries, 0 to 999999\n",
            "Data columns (total 5 columns):\n",
            " #   Column       Non-Null Count    Dtype \n",
            "---  ------       --------------    ----- \n",
            " 0   song_id      1000000 non-null  object\n",
            " 1   title        999985 non-null   object\n",
            " 2   release      999995 non-null   object\n",
            " 3   artist_name  1000000 non-null  object\n",
            " 4   year         1000000 non-null  int64 \n",
            "dtypes: int64(1), object(4)\n",
            "memory usage: 38.1+ MB\n"
          ]
        }
      ],
      "source": [
        "# See the info of the song_df data\n",
        "song_df.info()"
      ]
    },
    {
      "cell_type": "markdown",
      "metadata": {
        "id": "Ze2TlWxpYadn"
      },
      "source": [
        "#### **Observations and Insights:**\n",
        "\n",
        "*   Currently there are two different data sets (song_df and count_df)\n",
        "*   song_df contains data related to songs such as release year, artist, album, etc. \n",
        "*   count_df contains data related to the users such as user id, and play_count\n",
        "*   Both datasets have a song_id column\n",
        "*   Both datasets have object and int data types\n",
        "*   It appears that within song_df there is some missing data regarding title and release"
      ]
    },
    {
      "cell_type": "code",
      "execution_count": null,
      "metadata": {
        "id": "oTeurvID2T9U"
      },
      "outputs": [],
      "source": [
        "# Left merge the count_df and song_df data on \"song_id\". Drop duplicates from song_df data simultaneously\n",
        "#df = count_df.merge(song_df.drop_duplicates(['song_id']), how=\"left\", on=\"song_id\")\n",
        "df = pd.merge(count_df, song_df.drop_duplicates(['song_id']), on=\"song_id\", how=\"left\")\n",
        "df.head()\n",
        "# Drop the column 'Unnamed: 0'\n",
        "df = df.drop(['Unnamed: 0'], axis=1)"
      ]
    },
    {
      "cell_type": "markdown",
      "source": [
        "**Think About It:** As the user_id and song_id are encrypted. Can they be encoded to numeric features?"
      ],
      "metadata": {
        "id": "yWeY9ZT43XFX"
      }
    },
    {
      "cell_type": "code",
      "source": [
        "# Label Encoding\n",
        "le = LabelEncoder()\n",
        "\n",
        "# Fit transform the user_id column\n",
        "df['user_id'] = le.fit_transform(df['user_id'])\n",
        "\n",
        "# Fit transform the business_id column\n",
        "df['business_id'] = le.fit_transform(df['song_id'])"
      ],
      "metadata": {
        "id": "gD8pWA6mTHUj"
      },
      "execution_count": null,
      "outputs": []
    },
    {
      "cell_type": "markdown",
      "source": [
        "**Think About It:** As the data also contains users who have listened to very few songs and vice versa, is it required to filter the data so that it contains users who have listened to a good count of songs and vice versa?"
      ],
      "metadata": {
        "id": "6Q9EFYwj35Ju"
      }
    },
    {
      "cell_type": "code",
      "execution_count": null,
      "metadata": {
        "id": "7GGH9TW0_9uX"
      },
      "outputs": [],
      "source": [
        "# Get the column containing the users\n",
        "users = df.user_id\n",
        "\n",
        "# Create a dictionary from users to their number of songs\n",
        "ratings_count = dict()\n",
        "\n",
        "for user in users:\n",
        "    # If we already have the user, just add 1 to their rating count\n",
        "    if user in ratings_count:\n",
        "        ratings_count[user] += 1\n",
        "    \n",
        "    # Otherwise, set their rating count to 1\n",
        "    else:\n",
        "        ratings_count[user] = 1    "
      ]
    },
    {
      "cell_type": "code",
      "execution_count": null,
      "metadata": {
        "id": "-cc6mOK7_9uX"
      },
      "outputs": [],
      "source": [
        "# We want our users to have listened at least 90 songs\n",
        "RATINGS_CUTOFF = 90\n",
        "\n",
        "# Create a list of users who need to be removed\n",
        "remove_users = []\n",
        "\n",
        "for user, num_ratings in ratings_count.items():\n",
        "    \n",
        "    if num_ratings < RATINGS_CUTOFF:\n",
        "        remove_users.append(user)\n",
        "\n",
        "df = df.loc[ ~ df.user_id.isin(remove_users)]"
      ]
    },
    {
      "cell_type": "code",
      "execution_count": null,
      "metadata": {
        "id": "B5BS-Wk5_9uY"
      },
      "outputs": [],
      "source": [
        "# Get the column containing the songs\n",
        "songs = df.song_id\n",
        "\n",
        "# Create a dictionary from songs to their number of users\n",
        "ratings_count = dict()\n",
        "\n",
        "for song in songs:\n",
        "    # If we already have the song, just add 1 to their rating count\n",
        "    if song in ratings_count:\n",
        "        ratings_count[song] += 1\n",
        "    \n",
        "    # Otherwise, set their rating count to 1\n",
        "    else:\n",
        "        ratings_count[song] = 1    "
      ]
    },
    {
      "cell_type": "code",
      "execution_count": null,
      "metadata": {
        "id": "_nCtGwGO_9uY"
      },
      "outputs": [],
      "source": [
        "# We want our song to be listened by at least 120 users to be considred\n",
        "RATINGS_CUTOFF = 120\n",
        "\n",
        "remove_songs = []\n",
        "\n",
        "for song, num_ratings in ratings_count.items():\n",
        "    if num_ratings < RATINGS_CUTOFF:\n",
        "        remove_songs.append(song)\n",
        "\n",
        "df_final= df.loc[ ~ df.song_id.isin(remove_songs)]"
      ]
    },
    {
      "cell_type": "code",
      "execution_count": null,
      "metadata": {
        "id": "8qaKeoMcGpad"
      },
      "outputs": [],
      "source": [
        "# Drop records with play_count more than(>) 5\n",
        "#df_final.drop(df_final[df_final['play_count']>5].index, inplace=True)\n",
        "df_final.drop(df_final.index[df_final['play_count'] > 5], inplace = True)"
      ]
    },
    {
      "cell_type": "code",
      "source": [
        "# Check the shape of the pre narrowed down dataset to compare to the narrowed down df_final\n",
        "df.shape"
      ],
      "metadata": {
        "colab": {
          "base_uri": "https://localhost:8080/"
        },
        "id": "vQcYK1WJe4QH",
        "outputId": "34e3344a-8942-4f89-88f2-ae308eb39bd9"
      },
      "execution_count": null,
      "outputs": [
        {
          "output_type": "execute_result",
          "data": {
            "text/plain": [
              "(438390, 8)"
            ]
          },
          "metadata": {},
          "execution_count": 20
        }
      ]
    },
    {
      "cell_type": "code",
      "execution_count": null,
      "metadata": {
        "id": "aL1JZ00o5JtQ",
        "colab": {
          "base_uri": "https://localhost:8080/"
        },
        "outputId": "f2da1504-3454-4535-81ed-6ed5b59c68f7"
      },
      "outputs": [
        {
          "output_type": "execute_result",
          "data": {
            "text/plain": [
              "(117876, 8)"
            ]
          },
          "metadata": {},
          "execution_count": 21
        }
      ],
      "source": [
        "# Check the shape of the narrowed down data\n",
        "df_final.shape"
      ]
    },
    {
      "cell_type": "markdown",
      "metadata": {
        "id": "uZcr1Eke2T9W"
      },
      "source": [
        "## **Exploratory Data Analysis**"
      ]
    },
    {
      "cell_type": "markdown",
      "metadata": {
        "id": "ByuHmvWDeBJI"
      },
      "source": [
        "### **Let's check the total number of unique users, songs, artists in the data**"
      ]
    },
    {
      "cell_type": "markdown",
      "metadata": {
        "id": "DE_gukSJ2T9W"
      },
      "source": [
        "Total number of unique user id"
      ]
    },
    {
      "cell_type": "code",
      "execution_count": null,
      "metadata": {
        "id": "n5E24_Ec2T9W",
        "colab": {
          "base_uri": "https://localhost:8080/"
        },
        "outputId": "22bf8fa7-332a-4078-b5b7-eac101c3a101"
      },
      "outputs": [
        {
          "output_type": "stream",
          "name": "stdout",
          "text": [
            "Total number of unique user_ids: 3155\n"
          ]
        }
      ],
      "source": [
        "# Display total number of unique user_id\n",
        "print(\"Total number of unique user_ids:\", df_final.user_id.nunique())"
      ]
    },
    {
      "cell_type": "markdown",
      "metadata": {
        "id": "wV3BOTdJII-t"
      },
      "source": [
        "Total number of unique song id"
      ]
    },
    {
      "cell_type": "code",
      "execution_count": null,
      "metadata": {
        "id": "5SlpPkIE2T9W",
        "colab": {
          "base_uri": "https://localhost:8080/"
        },
        "outputId": "d7118c7f-d144-43d5-948f-8f255ab9de5e"
      },
      "outputs": [
        {
          "output_type": "stream",
          "name": "stdout",
          "text": [
            "Total number of unique song_ids: 563\n"
          ]
        }
      ],
      "source": [
        "# Display total number of unique song_id\n",
        "print(\"Total number of unique song_ids:\", df_final.song_id.nunique())"
      ]
    },
    {
      "cell_type": "markdown",
      "metadata": {
        "id": "eGXPsCjXVpUW"
      },
      "source": [
        "Total number of unique artists"
      ]
    },
    {
      "cell_type": "code",
      "execution_count": null,
      "metadata": {
        "id": "qSVUwb8h2T9X",
        "colab": {
          "base_uri": "https://localhost:8080/"
        },
        "outputId": "e35b4add-a7db-40ae-ea32-3306c095044c"
      },
      "outputs": [
        {
          "output_type": "stream",
          "name": "stdout",
          "text": [
            "Total number of unique artists: 232\n"
          ]
        }
      ],
      "source": [
        "# Display total number of unique artists\n",
        "print(\"Total number of unique artists:\",df_final.artist_name.nunique())"
      ]
    },
    {
      "cell_type": "markdown",
      "metadata": {
        "id": "bvk-YAo-eGGW"
      },
      "source": [
        "#### **Observations and Insights:**\n",
        "\n",
        "\n",
        "*   The total number of unique users are 3155\n",
        "*   The total number of unique songs are 563\n",
        "*   The total number of Unique artists are 232\n",
        "*   After narrowing down the dataset to df_final we can see that the dataset went from 438390 rows and 8 columns to 117876 rows and 8 columns\n",
        "*   To narrow the data only users who have listened to 90 or more songs were kept int the df_final dataset. Any song that had not been listened to at least 120 times was also removed. "
      ]
    },
    {
      "cell_type": "markdown",
      "metadata": {
        "id": "rLdIfv22ISBK"
      },
      "source": [
        "### **Let's find out about the most interacted songs and interacted users**"
      ]
    },
    {
      "cell_type": "markdown",
      "metadata": {
        "id": "W3DyN_8atsCx"
      },
      "source": [
        "Most interacted songs"
      ]
    },
    {
      "cell_type": "code",
      "source": [
        "# Finding the most played songs in the dataset\n",
        "df_final['song_id'].value_counts().head(10)"
      ],
      "metadata": {
        "colab": {
          "base_uri": "https://localhost:8080/"
        },
        "id": "jN34StFIagaE",
        "outputId": "72475e0c-3a6c-4eff-9672-bddd1da1e52b"
      },
      "execution_count": null,
      "outputs": [
        {
          "output_type": "execute_result",
          "data": {
            "text/plain": [
              "SOWCKVR12A8C142411    751\n",
              "SOAXGDH12A8C13F8A1    748\n",
              "SOFRQTD12A81C233C0    713\n",
              "SOCVTLJ12A6310F0FD    662\n",
              "SOKLRPJ12A8C13C3FE    652\n",
              "SONYKOW12AB01849C9    618\n",
              "SOLFXKT12AB017E3E0    609\n",
              "SOPQLBY12A6310E992    606\n",
              "SOPXKYD12A6D4FA876    583\n",
              "SODJWHY12A8C142CCE    570\n",
              "Name: song_id, dtype: int64"
            ]
          },
          "metadata": {},
          "execution_count": 25
        }
      ]
    },
    {
      "cell_type": "code",
      "source": [
        "# See top 10 artists of df_final data\n",
        "df_final['artist_name'].value_counts().head()"
      ],
      "metadata": {
        "colab": {
          "base_uri": "https://localhost:8080/"
        },
        "id": "ihZWHzDrfbN2",
        "outputId": "bf3238fd-b7e9-4501-e990-595899db15a1"
      },
      "execution_count": null,
      "outputs": [
        {
          "output_type": "execute_result",
          "data": {
            "text/plain": [
              "Coldplay                  5317\n",
              "The Killers               4128\n",
              "Florence + The Machine    2896\n",
              "Kings Of Leon             2864\n",
              "the bird and the bee      2387\n",
              "Name: artist_name, dtype: int64"
            ]
          },
          "metadata": {},
          "execution_count": 26
        }
      ]
    },
    {
      "cell_type": "code",
      "source": [
        "# Display some songs by the most popular artist_name\n",
        "df_final.loc[df_final['artist_name'] == 'Coldplay']"
      ],
      "metadata": {
        "colab": {
          "base_uri": "https://localhost:8080/",
          "height": 424
        },
        "id": "Le3SC7Bel6GC",
        "outputId": "fee4c411-12bc-41d6-fc16-1064462a1fa4"
      },
      "execution_count": null,
      "outputs": [
        {
          "output_type": "execute_result",
          "data": {
            "text/plain": [
              "         user_id             song_id  play_count  \\\n",
              "396        27018  SOCVTLJ12A6310F0FD           2   \n",
              "428        27018  SOEWTBE12A58A7E7C2           2   \n",
              "433        27018  SOFBOXR12A6310F0FC           2   \n",
              "439        27018  SOFPZCI12A58A7CF79           2   \n",
              "473        27018  SOICNON12A8C140437           2   \n",
              "...          ...                 ...         ...   \n",
              "1994217    30647  SOWEJXA12A6701C574           2   \n",
              "1995068     9570  SOCVTLJ12A6310F0FD           3   \n",
              "1995179     9570  SOKLRPJ12A8C13C3FE           1   \n",
              "1995272     9570  SOPXKYD12A6D4FA876           4   \n",
              "1995376     9570  SOWEJXA12A6701C574           4   \n",
              "\n",
              "                                  title  \\\n",
              "396                              Clocks   \n",
              "428                    Strawberry Swing   \n",
              "433      God Put A Smile Upon Your Face   \n",
              "439                  Brothers & Sisters   \n",
              "473              Life In Technicolor ii   \n",
              "...                                 ...   \n",
              "1994217                         Fix You   \n",
              "1995068                          Clocks   \n",
              "1995179                   The Scientist   \n",
              "1995272                          Yellow   \n",
              "1995376                         Fix You   \n",
              "\n",
              "                                         release artist_name  year  \\\n",
              "396                  A Rush Of Blood To The Head    Coldplay  2002   \n",
              "428      Viva La Vida - Prospekt's March Edition    Coldplay  2008   \n",
              "433                  A Rush Of Blood To The Head    Coldplay  2002   \n",
              "439                             Trouble (B-Side)    Coldplay  1999   \n",
              "473      Viva La Vida - Prospekt's March Edition    Coldplay  2008   \n",
              "...                                          ...         ...   ...   \n",
              "1994217                                    X & Y    Coldplay  2005   \n",
              "1995068              A Rush Of Blood To The Head    Coldplay  2002   \n",
              "1995179                            The Scientist    Coldplay  2002   \n",
              "1995272                                   Yellow    Coldplay  2000   \n",
              "1995376                                    X & Y    Coldplay  2005   \n",
              "\n",
              "         business_id  \n",
              "396             1118  \n",
              "428             1907  \n",
              "433             1983  \n",
              "439             2187  \n",
              "473             3232  \n",
              "...              ...  \n",
              "1994217         8612  \n",
              "1995068         1118  \n",
              "1995179         4152  \n",
              "1995272         6293  \n",
              "1995376         8612  \n",
              "\n",
              "[5317 rows x 8 columns]"
            ],
            "text/html": [
              "\n",
              "  <div id=\"df-99e38f0a-7dc8-4bd3-81de-afd859d97e9d\">\n",
              "    <div class=\"colab-df-container\">\n",
              "      <div>\n",
              "<style scoped>\n",
              "    .dataframe tbody tr th:only-of-type {\n",
              "        vertical-align: middle;\n",
              "    }\n",
              "\n",
              "    .dataframe tbody tr th {\n",
              "        vertical-align: top;\n",
              "    }\n",
              "\n",
              "    .dataframe thead th {\n",
              "        text-align: right;\n",
              "    }\n",
              "</style>\n",
              "<table border=\"1\" class=\"dataframe\">\n",
              "  <thead>\n",
              "    <tr style=\"text-align: right;\">\n",
              "      <th></th>\n",
              "      <th>user_id</th>\n",
              "      <th>song_id</th>\n",
              "      <th>play_count</th>\n",
              "      <th>title</th>\n",
              "      <th>release</th>\n",
              "      <th>artist_name</th>\n",
              "      <th>year</th>\n",
              "      <th>business_id</th>\n",
              "    </tr>\n",
              "  </thead>\n",
              "  <tbody>\n",
              "    <tr>\n",
              "      <th>396</th>\n",
              "      <td>27018</td>\n",
              "      <td>SOCVTLJ12A6310F0FD</td>\n",
              "      <td>2</td>\n",
              "      <td>Clocks</td>\n",
              "      <td>A Rush Of Blood To The Head</td>\n",
              "      <td>Coldplay</td>\n",
              "      <td>2002</td>\n",
              "      <td>1118</td>\n",
              "    </tr>\n",
              "    <tr>\n",
              "      <th>428</th>\n",
              "      <td>27018</td>\n",
              "      <td>SOEWTBE12A58A7E7C2</td>\n",
              "      <td>2</td>\n",
              "      <td>Strawberry Swing</td>\n",
              "      <td>Viva La Vida - Prospekt's March Edition</td>\n",
              "      <td>Coldplay</td>\n",
              "      <td>2008</td>\n",
              "      <td>1907</td>\n",
              "    </tr>\n",
              "    <tr>\n",
              "      <th>433</th>\n",
              "      <td>27018</td>\n",
              "      <td>SOFBOXR12A6310F0FC</td>\n",
              "      <td>2</td>\n",
              "      <td>God Put A Smile Upon Your Face</td>\n",
              "      <td>A Rush Of Blood To The Head</td>\n",
              "      <td>Coldplay</td>\n",
              "      <td>2002</td>\n",
              "      <td>1983</td>\n",
              "    </tr>\n",
              "    <tr>\n",
              "      <th>439</th>\n",
              "      <td>27018</td>\n",
              "      <td>SOFPZCI12A58A7CF79</td>\n",
              "      <td>2</td>\n",
              "      <td>Brothers &amp; Sisters</td>\n",
              "      <td>Trouble (B-Side)</td>\n",
              "      <td>Coldplay</td>\n",
              "      <td>1999</td>\n",
              "      <td>2187</td>\n",
              "    </tr>\n",
              "    <tr>\n",
              "      <th>473</th>\n",
              "      <td>27018</td>\n",
              "      <td>SOICNON12A8C140437</td>\n",
              "      <td>2</td>\n",
              "      <td>Life In Technicolor ii</td>\n",
              "      <td>Viva La Vida - Prospekt's March Edition</td>\n",
              "      <td>Coldplay</td>\n",
              "      <td>2008</td>\n",
              "      <td>3232</td>\n",
              "    </tr>\n",
              "    <tr>\n",
              "      <th>...</th>\n",
              "      <td>...</td>\n",
              "      <td>...</td>\n",
              "      <td>...</td>\n",
              "      <td>...</td>\n",
              "      <td>...</td>\n",
              "      <td>...</td>\n",
              "      <td>...</td>\n",
              "      <td>...</td>\n",
              "    </tr>\n",
              "    <tr>\n",
              "      <th>1994217</th>\n",
              "      <td>30647</td>\n",
              "      <td>SOWEJXA12A6701C574</td>\n",
              "      <td>2</td>\n",
              "      <td>Fix You</td>\n",
              "      <td>X &amp; Y</td>\n",
              "      <td>Coldplay</td>\n",
              "      <td>2005</td>\n",
              "      <td>8612</td>\n",
              "    </tr>\n",
              "    <tr>\n",
              "      <th>1995068</th>\n",
              "      <td>9570</td>\n",
              "      <td>SOCVTLJ12A6310F0FD</td>\n",
              "      <td>3</td>\n",
              "      <td>Clocks</td>\n",
              "      <td>A Rush Of Blood To The Head</td>\n",
              "      <td>Coldplay</td>\n",
              "      <td>2002</td>\n",
              "      <td>1118</td>\n",
              "    </tr>\n",
              "    <tr>\n",
              "      <th>1995179</th>\n",
              "      <td>9570</td>\n",
              "      <td>SOKLRPJ12A8C13C3FE</td>\n",
              "      <td>1</td>\n",
              "      <td>The Scientist</td>\n",
              "      <td>The Scientist</td>\n",
              "      <td>Coldplay</td>\n",
              "      <td>2002</td>\n",
              "      <td>4152</td>\n",
              "    </tr>\n",
              "    <tr>\n",
              "      <th>1995272</th>\n",
              "      <td>9570</td>\n",
              "      <td>SOPXKYD12A6D4FA876</td>\n",
              "      <td>4</td>\n",
              "      <td>Yellow</td>\n",
              "      <td>Yellow</td>\n",
              "      <td>Coldplay</td>\n",
              "      <td>2000</td>\n",
              "      <td>6293</td>\n",
              "    </tr>\n",
              "    <tr>\n",
              "      <th>1995376</th>\n",
              "      <td>9570</td>\n",
              "      <td>SOWEJXA12A6701C574</td>\n",
              "      <td>4</td>\n",
              "      <td>Fix You</td>\n",
              "      <td>X &amp; Y</td>\n",
              "      <td>Coldplay</td>\n",
              "      <td>2005</td>\n",
              "      <td>8612</td>\n",
              "    </tr>\n",
              "  </tbody>\n",
              "</table>\n",
              "<p>5317 rows × 8 columns</p>\n",
              "</div>\n",
              "      <button class=\"colab-df-convert\" onclick=\"convertToInteractive('df-99e38f0a-7dc8-4bd3-81de-afd859d97e9d')\"\n",
              "              title=\"Convert this dataframe to an interactive table.\"\n",
              "              style=\"display:none;\">\n",
              "        \n",
              "  <svg xmlns=\"http://www.w3.org/2000/svg\" height=\"24px\"viewBox=\"0 0 24 24\"\n",
              "       width=\"24px\">\n",
              "    <path d=\"M0 0h24v24H0V0z\" fill=\"none\"/>\n",
              "    <path d=\"M18.56 5.44l.94 2.06.94-2.06 2.06-.94-2.06-.94-.94-2.06-.94 2.06-2.06.94zm-11 1L8.5 8.5l.94-2.06 2.06-.94-2.06-.94L8.5 2.5l-.94 2.06-2.06.94zm10 10l.94 2.06.94-2.06 2.06-.94-2.06-.94-.94-2.06-.94 2.06-2.06.94z\"/><path d=\"M17.41 7.96l-1.37-1.37c-.4-.4-.92-.59-1.43-.59-.52 0-1.04.2-1.43.59L10.3 9.45l-7.72 7.72c-.78.78-.78 2.05 0 2.83L4 21.41c.39.39.9.59 1.41.59.51 0 1.02-.2 1.41-.59l7.78-7.78 2.81-2.81c.8-.78.8-2.07 0-2.86zM5.41 20L4 18.59l7.72-7.72 1.47 1.35L5.41 20z\"/>\n",
              "  </svg>\n",
              "      </button>\n",
              "      \n",
              "  <style>\n",
              "    .colab-df-container {\n",
              "      display:flex;\n",
              "      flex-wrap:wrap;\n",
              "      gap: 12px;\n",
              "    }\n",
              "\n",
              "    .colab-df-convert {\n",
              "      background-color: #E8F0FE;\n",
              "      border: none;\n",
              "      border-radius: 50%;\n",
              "      cursor: pointer;\n",
              "      display: none;\n",
              "      fill: #1967D2;\n",
              "      height: 32px;\n",
              "      padding: 0 0 0 0;\n",
              "      width: 32px;\n",
              "    }\n",
              "\n",
              "    .colab-df-convert:hover {\n",
              "      background-color: #E2EBFA;\n",
              "      box-shadow: 0px 1px 2px rgba(60, 64, 67, 0.3), 0px 1px 3px 1px rgba(60, 64, 67, 0.15);\n",
              "      fill: #174EA6;\n",
              "    }\n",
              "\n",
              "    [theme=dark] .colab-df-convert {\n",
              "      background-color: #3B4455;\n",
              "      fill: #D2E3FC;\n",
              "    }\n",
              "\n",
              "    [theme=dark] .colab-df-convert:hover {\n",
              "      background-color: #434B5C;\n",
              "      box-shadow: 0px 1px 3px 1px rgba(0, 0, 0, 0.15);\n",
              "      filter: drop-shadow(0px 1px 2px rgba(0, 0, 0, 0.3));\n",
              "      fill: #FFFFFF;\n",
              "    }\n",
              "  </style>\n",
              "\n",
              "      <script>\n",
              "        const buttonEl =\n",
              "          document.querySelector('#df-99e38f0a-7dc8-4bd3-81de-afd859d97e9d button.colab-df-convert');\n",
              "        buttonEl.style.display =\n",
              "          google.colab.kernel.accessAllowed ? 'block' : 'none';\n",
              "\n",
              "        async function convertToInteractive(key) {\n",
              "          const element = document.querySelector('#df-99e38f0a-7dc8-4bd3-81de-afd859d97e9d');\n",
              "          const dataTable =\n",
              "            await google.colab.kernel.invokeFunction('convertToInteractive',\n",
              "                                                     [key], {});\n",
              "          if (!dataTable) return;\n",
              "\n",
              "          const docLinkHtml = 'Like what you see? Visit the ' +\n",
              "            '<a target=\"_blank\" href=https://colab.research.google.com/notebooks/data_table.ipynb>data table notebook</a>'\n",
              "            + ' to learn more about interactive tables.';\n",
              "          element.innerHTML = '';\n",
              "          dataTable['output_type'] = 'display_data';\n",
              "          await google.colab.output.renderOutput(dataTable, element);\n",
              "          const docLink = document.createElement('div');\n",
              "          docLink.innerHTML = docLinkHtml;\n",
              "          element.appendChild(docLink);\n",
              "        }\n",
              "      </script>\n",
              "    </div>\n",
              "  </div>\n",
              "  "
            ]
          },
          "metadata": {},
          "execution_count": 27
        }
      ]
    },
    {
      "cell_type": "markdown",
      "metadata": {
        "id": "nnoXCc9zIV45"
      },
      "source": [
        "Most interacted users"
      ]
    },
    {
      "cell_type": "code",
      "execution_count": null,
      "metadata": {
        "id": "971EiBdf2T9X",
        "colab": {
          "base_uri": "https://localhost:8080/"
        },
        "outputId": "da186258-209b-432c-df61-8078ec2b518d"
      },
      "outputs": [
        {
          "output_type": "execute_result",
          "data": {
            "text/plain": [
              "61472    243\n",
              "15733    227\n",
              "37049    202\n",
              "9570     184\n",
              "23337    177\n",
              "10763    176\n",
              "26616    175\n",
              "9097     175\n",
              "43041    174\n",
              "65994    171\n",
              "Name: user_id, dtype: int64"
            ]
          },
          "metadata": {},
          "execution_count": 28
        }
      ],
      "source": [
        "# Finding the most played songs in the dataset\n",
        "df_final['user_id'].value_counts().head(10)"
      ]
    },
    {
      "cell_type": "code",
      "source": [
        "df_final.to_csv(r'/content/drive/MyDrive/Colab_Notebooks/spotify_music/my_data.csv', index=False)"
      ],
      "metadata": {
        "id": "MlBr-pZ4IGaO"
      },
      "execution_count": null,
      "outputs": []
    },
    {
      "cell_type": "markdown",
      "metadata": {
        "id": "tPZRc1e-eyyO"
      },
      "source": [
        "#### **Observations and Insights:**\n",
        "\n",
        "\n",
        "*   The most intereacted song id is SOWCKVR12A8C142411 being played 751 times\n",
        "*   The most interacted user id is 61472\n",
        "\n",
        "\n",
        "\n",
        "\n"
      ]
    },
    {
      "cell_type": "markdown",
      "metadata": {
        "id": "joFF5zndX1Dk"
      },
      "source": [
        "Songs played in a year"
      ]
    },
    {
      "cell_type": "code",
      "execution_count": null,
      "metadata": {
        "id": "bQp2iVMC2T9Y",
        "colab": {
          "base_uri": "https://localhost:8080/",
          "height": 238
        },
        "outputId": "40c9a6e0-baf4-4a1f-fdb7-65e5f41a5fa6"
      },
      "outputs": [
        {
          "output_type": "execute_result",
          "data": {
            "text/plain": [
              "      title\n",
              "year       \n",
              "2006   7592\n",
              "2007  13750\n",
              "2008  14031\n",
              "2009  16351\n",
              "2010   4087"
            ],
            "text/html": [
              "\n",
              "  <div id=\"df-b0e69fad-4e30-4ec7-bf74-e3df1344d9d9\">\n",
              "    <div class=\"colab-df-container\">\n",
              "      <div>\n",
              "<style scoped>\n",
              "    .dataframe tbody tr th:only-of-type {\n",
              "        vertical-align: middle;\n",
              "    }\n",
              "\n",
              "    .dataframe tbody tr th {\n",
              "        vertical-align: top;\n",
              "    }\n",
              "\n",
              "    .dataframe thead th {\n",
              "        text-align: right;\n",
              "    }\n",
              "</style>\n",
              "<table border=\"1\" class=\"dataframe\">\n",
              "  <thead>\n",
              "    <tr style=\"text-align: right;\">\n",
              "      <th></th>\n",
              "      <th>title</th>\n",
              "    </tr>\n",
              "    <tr>\n",
              "      <th>year</th>\n",
              "      <th></th>\n",
              "    </tr>\n",
              "  </thead>\n",
              "  <tbody>\n",
              "    <tr>\n",
              "      <th>2006</th>\n",
              "      <td>7592</td>\n",
              "    </tr>\n",
              "    <tr>\n",
              "      <th>2007</th>\n",
              "      <td>13750</td>\n",
              "    </tr>\n",
              "    <tr>\n",
              "      <th>2008</th>\n",
              "      <td>14031</td>\n",
              "    </tr>\n",
              "    <tr>\n",
              "      <th>2009</th>\n",
              "      <td>16351</td>\n",
              "    </tr>\n",
              "    <tr>\n",
              "      <th>2010</th>\n",
              "      <td>4087</td>\n",
              "    </tr>\n",
              "  </tbody>\n",
              "</table>\n",
              "</div>\n",
              "      <button class=\"colab-df-convert\" onclick=\"convertToInteractive('df-b0e69fad-4e30-4ec7-bf74-e3df1344d9d9')\"\n",
              "              title=\"Convert this dataframe to an interactive table.\"\n",
              "              style=\"display:none;\">\n",
              "        \n",
              "  <svg xmlns=\"http://www.w3.org/2000/svg\" height=\"24px\"viewBox=\"0 0 24 24\"\n",
              "       width=\"24px\">\n",
              "    <path d=\"M0 0h24v24H0V0z\" fill=\"none\"/>\n",
              "    <path d=\"M18.56 5.44l.94 2.06.94-2.06 2.06-.94-2.06-.94-.94-2.06-.94 2.06-2.06.94zm-11 1L8.5 8.5l.94-2.06 2.06-.94-2.06-.94L8.5 2.5l-.94 2.06-2.06.94zm10 10l.94 2.06.94-2.06 2.06-.94-2.06-.94-.94-2.06-.94 2.06-2.06.94z\"/><path d=\"M17.41 7.96l-1.37-1.37c-.4-.4-.92-.59-1.43-.59-.52 0-1.04.2-1.43.59L10.3 9.45l-7.72 7.72c-.78.78-.78 2.05 0 2.83L4 21.41c.39.39.9.59 1.41.59.51 0 1.02-.2 1.41-.59l7.78-7.78 2.81-2.81c.8-.78.8-2.07 0-2.86zM5.41 20L4 18.59l7.72-7.72 1.47 1.35L5.41 20z\"/>\n",
              "  </svg>\n",
              "      </button>\n",
              "      \n",
              "  <style>\n",
              "    .colab-df-container {\n",
              "      display:flex;\n",
              "      flex-wrap:wrap;\n",
              "      gap: 12px;\n",
              "    }\n",
              "\n",
              "    .colab-df-convert {\n",
              "      background-color: #E8F0FE;\n",
              "      border: none;\n",
              "      border-radius: 50%;\n",
              "      cursor: pointer;\n",
              "      display: none;\n",
              "      fill: #1967D2;\n",
              "      height: 32px;\n",
              "      padding: 0 0 0 0;\n",
              "      width: 32px;\n",
              "    }\n",
              "\n",
              "    .colab-df-convert:hover {\n",
              "      background-color: #E2EBFA;\n",
              "      box-shadow: 0px 1px 2px rgba(60, 64, 67, 0.3), 0px 1px 3px 1px rgba(60, 64, 67, 0.15);\n",
              "      fill: #174EA6;\n",
              "    }\n",
              "\n",
              "    [theme=dark] .colab-df-convert {\n",
              "      background-color: #3B4455;\n",
              "      fill: #D2E3FC;\n",
              "    }\n",
              "\n",
              "    [theme=dark] .colab-df-convert:hover {\n",
              "      background-color: #434B5C;\n",
              "      box-shadow: 0px 1px 3px 1px rgba(0, 0, 0, 0.15);\n",
              "      filter: drop-shadow(0px 1px 2px rgba(0, 0, 0, 0.3));\n",
              "      fill: #FFFFFF;\n",
              "    }\n",
              "  </style>\n",
              "\n",
              "      <script>\n",
              "        const buttonEl =\n",
              "          document.querySelector('#df-b0e69fad-4e30-4ec7-bf74-e3df1344d9d9 button.colab-df-convert');\n",
              "        buttonEl.style.display =\n",
              "          google.colab.kernel.accessAllowed ? 'block' : 'none';\n",
              "\n",
              "        async function convertToInteractive(key) {\n",
              "          const element = document.querySelector('#df-b0e69fad-4e30-4ec7-bf74-e3df1344d9d9');\n",
              "          const dataTable =\n",
              "            await google.colab.kernel.invokeFunction('convertToInteractive',\n",
              "                                                     [key], {});\n",
              "          if (!dataTable) return;\n",
              "\n",
              "          const docLinkHtml = 'Like what you see? Visit the ' +\n",
              "            '<a target=\"_blank\" href=https://colab.research.google.com/notebooks/data_table.ipynb>data table notebook</a>'\n",
              "            + ' to learn more about interactive tables.';\n",
              "          element.innerHTML = '';\n",
              "          dataTable['output_type'] = 'display_data';\n",
              "          await google.colab.output.renderOutput(dataTable, element);\n",
              "          const docLink = document.createElement('div');\n",
              "          docLink.innerHTML = docLinkHtml;\n",
              "          element.appendChild(docLink);\n",
              "        }\n",
              "      </script>\n",
              "    </div>\n",
              "  </div>\n",
              "  "
            ]
          },
          "metadata": {},
          "execution_count": 30
        }
      ],
      "source": [
        "count_songs = df_final.groupby('year').count()['title']\n",
        "\n",
        "count = pd.DataFrame(count_songs)\n",
        "\n",
        "count.drop(count.index[0], inplace = True)\n",
        "\n",
        "count.tail()"
      ]
    },
    {
      "cell_type": "code",
      "execution_count": null,
      "metadata": {
        "id": "bZCkOiAB2T9Y",
        "colab": {
          "base_uri": "https://localhost:8080/",
          "height": 1000
        },
        "outputId": "ee084e55-b607-4c0d-c80f-06130a5cd69d"
      },
      "outputs": [
        {
          "output_type": "display_data",
          "data": {
            "text/plain": [
              "<Figure size 2160x1440 with 1 Axes>"
            ],
            "image/png": "[encoded data removed]"
          },
          "metadata": {
            "needs_background": "light"
          }
        }
      ],
      "source": [
        "# Create the plot\n",
        "\n",
        "# Set the figure size\n",
        "plt.figure(figsize = (30, 20))\n",
        "\n",
        "sns.barplot(x = count.index,\n",
        "            y = 'title',\n",
        "            data = count,\n",
        "            estimator = np.median)\n",
        "\n",
        "# Set the y label of the plot\n",
        "plt.ylabel('number of titles played') \n",
        "\n",
        "# Show the plot\n",
        "plt.show()"
      ]
    },
    {
      "cell_type": "markdown",
      "metadata": {
        "id": "VUcXc7ZYfaGl"
      },
      "source": [
        "#### **Observations and Insights:** \n",
        "\n",
        "*   The year with the most amount of song played is 2009 with 16351 counted songs\n",
        "*   There is a correlation between the more popular songs with the year they came out. \n",
        "*   You can see a significant increase in songs listened to per year starting around 2000. This indicates the users who are listening to music are listening to more recent music compared to music that came out prior to 2000\n",
        "*   It would be interesting to see the user_ids age, I believe the reason there is a spike starting around 2000 might be because users who are more familir with technology are younger and more tech savy compared to older generations. Threfore, the users are more likely to listen to recent music compared music released in older years."
      ]
    },
    {
      "cell_type": "markdown",
      "source": [
        "**Think About It:** What other insights can be drawn using exploratory data analysis?"
      ],
      "metadata": {
        "id": "RtAjyDMioHCp"
      }
    },
    {
      "cell_type": "markdown",
      "source": [
        "-   Problem Definition\n",
        "\n",
        "    -   The context - Why is this problem important to solve?\n",
        "\n",
        "        -   Spotify is a digital music platform that provides 70 million\n",
        "            songs to its premium users. One of the largest advantages of\n",
        "            containing such a large database is the ability to provide\n",
        "            song recommendations. With a recommendation system, Spotify\n",
        "            can provide a recommendation of liked songs based on the\n",
        "            user's previously listed songs. Why is a recommendation\n",
        "            system important in this context? It enhances user\n",
        "            experience, and the ability to bring a user alternative\n",
        "            suggestion based on the previous song usage can keep user\n",
        "            loyalty and provide a fit-for-purpose experience.\n",
        "\n",
        "    -   The objectives - What is the intended goal?\n",
        "\n",
        "        -   The objective of this project is to provide a list of top\n",
        "            recommended songs based on fields such as play_count to\n",
        "            understand what the user would be interested in listening\n",
        "            to.\n",
        "\n",
        "    -   The key questions - What are the key questions that need to be\n",
        "        answered?\n",
        "\n",
        "        -   Some key questions that need to be answered do we have\n",
        "            enough data to create a model out of this? Is our data\n",
        "            structured? Does the data make sense? What does my data look\n",
        "            like by utilizing .info()? Understanding the dataset and\n",
        "            what values are in place is important to understand how to\n",
        "            create the appropriate model. Implementing logic to help\n",
        "            provide a stronger recommendation would require asking\n",
        "            questions such as \"is the column of data relevant to answer\n",
        "            my recommendation\" i.e., a year a song was released,\n",
        "            depending on the model it could be yes or no.\n",
        "\n",
        "    -   The problem formulation - What is that we are trying to solve\n",
        "        using data science?\n",
        "\n",
        "        -   Using data science, we are trying to solve what a good song\n",
        "            recommendation for a specific user_id would be based on the\n",
        "            previous song listens.\n",
        "\n",
        "-   Data Exploration/Data Description\n",
        "\n",
        "    -   What is the background of this data? What does it contain?\n",
        "\n",
        "        -   Understanding the data is crucial to constructing the\n",
        "            appropriate model. Utilizing items such as .head(), .info(),\n",
        "            .describe(), and .nunique() help me better understand the\n",
        "            background of the Spotify dataset. The data provided\n",
        "            contained two datasets that were related to Spotify user\n",
        "            information. This data was eventually merged on song_id.\n",
        "            Count_df dataset contained user information such as user_id,\n",
        "            song_id, and play_count. Song_df dataset contained song\n",
        "            information such as song_id, song title, release,\n",
        "            artist_name, and year.\n",
        "\n",
        "-   Observations & Insights\n",
        "\n",
        "    -   What are some key patterns in the data?\n",
        "\n",
        "        -   Some key patterns in the data were the release years that\n",
        "            most interacted songs came out. I noticed that the most\n",
        "            popular song released years were in 2009 once the dataset\n",
        "            was narrowed down.\n",
        "\n",
        "    -   What does it mean for the problem formulation?\n",
        "\n",
        "        -   \n",
        "\n",
        "    -   Are there any data treatments or pre-processing required?\n",
        "\n",
        "        -   For the data we want to make sure that there are no null\n",
        "            values, or at least no copious amounts of missing data. To\n",
        "            clean the data and remove useless values we will use .drop.\n",
        "\n",
        "-   Proposed approach\n",
        "\n",
        "    -   Potential techniques - What different techniques should be\n",
        "        explored?\n",
        "\n",
        "        -   Some potential techniques for a recommendation could be\n",
        "            Popularity-based focusing on popular song trends,\n",
        "            Collaborative filtering receiving insights based on\n",
        "            user-user or item-item collaboration, or matrix\n",
        "            factorization for more scalability.\n",
        "\n",
        "    -   Overall solution design - What is the potential solution design?\n",
        "\n",
        "        -   The solution design is to provide recommendations based on\n",
        "            user-specific data, trend data, etc. We want the\n",
        "            recommendation model to be accurate in what it is suggesting\n",
        "            that users continue to use the Spotify platform.\n",
        "\n",
        "    -   Measures of success - What are the key measures of success?\n",
        "\n",
        "        -   Key measures of success would first be a working model, then\n",
        "            utilizing measurements such as F_1 score to determine the\n",
        "            precision and recall optimization of a recommendation being\n",
        "            useful. Other metrics include Precision, Recall, and RMSE.\n",
        "            Utilizing recall and precision analysis will help determine\n",
        "            if the model is working appropriately. Tuning\n",
        "            hyperparameters for the KNNBasic algorithms helps infer more\n",
        "            precise and accurate recommendations/predictions. Ideally,\n",
        "            we would look for a high F_1 score in our testing.\n"
      ],
      "metadata": {
        "id": "wZ_0fClYkq69"
      }
    },
    {
      "cell_type": "code",
      "source": [],
      "metadata": {
        "id": "XQVdbx-kkrkz"
      },
      "execution_count": null,
      "outputs": []
    }
  ]
}