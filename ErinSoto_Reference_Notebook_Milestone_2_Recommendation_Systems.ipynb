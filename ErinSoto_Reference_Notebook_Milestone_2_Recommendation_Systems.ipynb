{
  "nbformat": 4,
  "nbformat_minor": 0,
  "metadata": {
    "kernelspec": {
      "display_name": "Python 3",
      "language": "python",
      "name": "python3"
    },
    "language_info": {
      "codemirror_mode": {
        "name": "ipython",
        "version": 3
      },
      "file_extension": ".py",
      "mimetype": "text/x-python",
      "name": "python",
      "nbconvert_exporter": "python",
      "pygments_lexer": "ipython3",
      "version": "3.8.3"
    },
    "colab": {
      "provenance": [],
      "include_colab_link": true
    },
    "accelerator": "GPU"
  },
  "cells": [
    {
      "cell_type": "markdown",
      "metadata": {
        "id": "view-in-github",
        "colab_type": "text"
      },
      "source": [
        "<a href=\"https://colab.research.google.com/github/erinjsoto/capstone_recommendation_system/blob/main/ErinSoto_Reference_Notebook_Milestone_2_Recommendation_Systems.ipynb\" target=\"_parent\"><img src=\"https://colab.research.google.com/assets/colab-badge.svg\" alt=\"Open In Colab\"/></a>"
      ]
    },
    {
      "cell_type": "markdown",
      "metadata": {
        "id": "alivWB24K_5S"
      },
      "source": [
        "# **Music Recommendation System**"
      ]
    },
    {
      "cell_type": "code",
      "source": [],
      "metadata": {
        "id": "XaAwnh2Q7pw3"
      },
      "execution_count": null,
      "outputs": []
    },
    {
      "cell_type": "markdown",
      "metadata": {
        "id": "Ll2E42N1K_5d"
      },
      "source": [
        "# **Milestone 2**"
      ]
    },
    {
      "cell_type": "markdown",
      "metadata": {
        "id": "OWO4C8KsK_5e"
      },
      "source": [
        "Now that we have explored the data, let's apply different algorithms to build recommendation systems.\n",
        "\n",
        "**Note:** Use the shorter version of the data, i.e., the data after the cutoffs as used in Milestone 1."
      ]
    },
    {
      "cell_type": "markdown",
      "source": [
        "## **Load the dataset**"
      ],
      "metadata": {
        "id": "8EExJfIi1sKA"
      }
    },
    {
      "cell_type": "code",
      "source": [
        "# %%shell\n",
        "# jupyter nbconvert --to html /content/drive/MyDrive/Colab_Notebooks/spotify_music/ErinSoto_Reference_Notebook_Milestone_2_Recommendation_Systems.ipynb"
      ],
      "metadata": {
        "colab": {
          "base_uri": "https://localhost:8080/"
        },
        "id": "96J4l96Bf1hT",
        "outputId": "0edff310-472e-488b-b7e0-89ae7d401319"
      },
      "execution_count": null,
      "outputs": [
        {
          "output_type": "stream",
          "name": "stdout",
          "text": [
            "[NbConvertApp] Converting notebook /content/drive/MyDrive/Colab_Notebooks/spotify_music/ErinSoto_Reference_Notebook_Milestone_2_Recommendation_Systems.ipynb to html\n",
            "[NbConvertApp] Writing 470604 bytes to /content/drive/MyDrive/Colab_Notebooks/spotify_music/ErinSoto_Reference_Notebook_Milestone_2_Recommendation_Systems.html\n"
          ]
        },
        {
          "output_type": "execute_result",
          "data": {
            "text/plain": []
          },
          "metadata": {},
          "execution_count": 103
        }
      ]
    },
    {
      "cell_type": "code",
      "source": [
        "# Mounting the drive\n",
        "from google.colab import drive\n",
        "drive.mount('/content/drive')"
      ],
      "metadata": {
        "colab": {
          "base_uri": "https://localhost:8080/"
        },
        "id": "m5s9jbm9JA6i",
        "outputId": "e85d2b2e-13cc-4542-84d9-2d90af8b1cd9"
      },
      "execution_count": null,
      "outputs": [
        {
          "output_type": "stream",
          "name": "stdout",
          "text": [
            "Mounted at /content/drive\n"
          ]
        }
      ]
    },
    {
      "cell_type": "code",
      "source": [
        "# Used to ignore the warning given as output of the code\n",
        "import warnings\n",
        "warnings.filterwarnings('ignore')\n",
        "\n",
        "# Basic libraries of python for numeric and dataframe computations\n",
        "import numpy as np\n",
        "import pandas as pd\n",
        "\n",
        "# Basic library for data visualization\n",
        "import matplotlib.pyplot as plt\n",
        "\n",
        "# Slightly advanced library for data visualization\n",
        "import seaborn as sns\n",
        "\n",
        "# To compute the cosine similarity between two vectors\n",
        "from sklearn.metrics.pairwise import cosine_similarity\n",
        "\n",
        "# A dictionary output that does not raise a key error\n",
        "from collections import defaultdict\n",
        "\n",
        "# A performance metrics in sklearn\n",
        "from sklearn.metrics import mean_squared_error\n",
        "\n",
        "# To do label encoding\n",
        "from sklearn.preprocessing import LabelEncoder"
      ],
      "metadata": {
        "id": "6bvR6qeAfvS5"
      },
      "execution_count": null,
      "outputs": []
    },
    {
      "cell_type": "code",
      "source": [
        "\n",
        "# Load the dataset you have saved at the end of milestone 1\n",
        "\n",
        "df_final = pd.read_csv('/content/drive/MyDrive/Colab_Notebooks/spotify_music/my_data.csv')\n"
      ],
      "metadata": {
        "id": "MF7IjMOs1vsN"
      },
      "execution_count": null,
      "outputs": []
    },
    {
      "cell_type": "code",
      "source": [
        "df_final.head()"
      ],
      "metadata": {
        "colab": {
          "base_uri": "https://localhost:8080/",
          "height": 478
        },
        "id": "GRZ6KTgdN-U2",
        "outputId": "845bbfea-da8d-46b0-9297-16171c31e843"
      },
      "execution_count": null,
      "outputs": [
        {
          "output_type": "execute_result",
          "data": {
            "text/plain": [
              "   user_id             song_id  play_count                            title  \\\n",
              "0     6958  SOBDVAK12AC90759A2           1               Daisy And Prudence   \n",
              "1     6958  SOBIMTY12A6D4F931F           1  The Ballad of Michael Valentine   \n",
              "2     6958  SOBKRVG12A8C133269           1        I Stand Corrected (Album)   \n",
              "3     6958  SOBUBLL12A58A795A8           1            They Might Follow You   \n",
              "4     6958  SOBVKFF12A8C137A79           1                       Monkey Man   \n",
              "\n",
              "                release      artist_name  year  business_id  \n",
              "0          Distillation     Erin McKeown  2000          447  \n",
              "1               Sawdust      The Killers  2004          512  \n",
              "2       Vampire Weekend  Vampire Weekend  2007          549  \n",
              "3           Tiny Vipers      Tiny Vipers  2007          703  \n",
              "4  You Know I'm No Good    Amy Winehouse  2007          719  "
            ],
            "text/html": [
              "\n",
              "  <div id=\"df-96a55c9f-edf6-4486-9233-85553a2e62c7\">\n",
              "    <div class=\"colab-df-container\">\n",
              "      <div>\n",
              "<style scoped>\n",
              "    .dataframe tbody tr th:only-of-type {\n",
              "        vertical-align: middle;\n",
              "    }\n",
              "\n",
              "    .dataframe tbody tr th {\n",
              "        vertical-align: top;\n",
              "    }\n",
              "\n",
              "    .dataframe thead th {\n",
              "        text-align: right;\n",
              "    }\n",
              "</style>\n",
              "<table border=\"1\" class=\"dataframe\">\n",
              "  <thead>\n",
              "    <tr style=\"text-align: right;\">\n",
              "      <th></th>\n",
              "      <th>user_id</th>\n",
              "      <th>song_id</th>\n",
              "      <th>play_count</th>\n",
              "      <th>title</th>\n",
              "      <th>release</th>\n",
              "      <th>artist_name</th>\n",
              "      <th>year</th>\n",
              "      <th>business_id</th>\n",
              "    </tr>\n",
              "  </thead>\n",
              "  <tbody>\n",
              "    <tr>\n",
              "      <th>0</th>\n",
              "      <td>6958</td>\n",
              "      <td>SOBDVAK12AC90759A2</td>\n",
              "      <td>1</td>\n",
              "      <td>Daisy And Prudence</td>\n",
              "      <td>Distillation</td>\n",
              "      <td>Erin McKeown</td>\n",
              "      <td>2000</td>\n",
              "      <td>447</td>\n",
              "    </tr>\n",
              "    <tr>\n",
              "      <th>1</th>\n",
              "      <td>6958</td>\n",
              "      <td>SOBIMTY12A6D4F931F</td>\n",
              "      <td>1</td>\n",
              "      <td>The Ballad of Michael Valentine</td>\n",
              "      <td>Sawdust</td>\n",
              "      <td>The Killers</td>\n",
              "      <td>2004</td>\n",
              "      <td>512</td>\n",
              "    </tr>\n",
              "    <tr>\n",
              "      <th>2</th>\n",
              "      <td>6958</td>\n",
              "      <td>SOBKRVG12A8C133269</td>\n",
              "      <td>1</td>\n",
              "      <td>I Stand Corrected (Album)</td>\n",
              "      <td>Vampire Weekend</td>\n",
              "      <td>Vampire Weekend</td>\n",
              "      <td>2007</td>\n",
              "      <td>549</td>\n",
              "    </tr>\n",
              "    <tr>\n",
              "      <th>3</th>\n",
              "      <td>6958</td>\n",
              "      <td>SOBUBLL12A58A795A8</td>\n",
              "      <td>1</td>\n",
              "      <td>They Might Follow You</td>\n",
              "      <td>Tiny Vipers</td>\n",
              "      <td>Tiny Vipers</td>\n",
              "      <td>2007</td>\n",
              "      <td>703</td>\n",
              "    </tr>\n",
              "    <tr>\n",
              "      <th>4</th>\n",
              "      <td>6958</td>\n",
              "      <td>SOBVKFF12A8C137A79</td>\n",
              "      <td>1</td>\n",
              "      <td>Monkey Man</td>\n",
              "      <td>You Know I'm No Good</td>\n",
              "      <td>Amy Winehouse</td>\n",
              "      <td>2007</td>\n",
              "      <td>719</td>\n",
              "    </tr>\n",
              "  </tbody>\n",
              "</table>\n",
              "</div>\n",
              "      <button class=\"colab-df-convert\" onclick=\"convertToInteractive('df-96a55c9f-edf6-4486-9233-85553a2e62c7')\"\n",
              "              title=\"Convert this dataframe to an interactive table.\"\n",
              "              style=\"display:none;\">\n",
              "        \n",
              "  <svg xmlns=\"http://www.w3.org/2000/svg\" height=\"24px\"viewBox=\"0 0 24 24\"\n",
              "       width=\"24px\">\n",
              "    <path d=\"M0 0h24v24H0V0z\" fill=\"none\"/>\n",
              "    <path d=\"M18.56 5.44l.94 2.06.94-2.06 2.06-.94-2.06-.94-.94-2.06-.94 2.06-2.06.94zm-11 1L8.5 8.5l.94-2.06 2.06-.94-2.06-.94L8.5 2.5l-.94 2.06-2.06.94zm10 10l.94 2.06.94-2.06 2.06-.94-2.06-.94-.94-2.06-.94 2.06-2.06.94z\"/><path d=\"M17.41 7.96l-1.37-1.37c-.4-.4-.92-.59-1.43-.59-.52 0-1.04.2-1.43.59L10.3 9.45l-7.72 7.72c-.78.78-.78 2.05 0 2.83L4 21.41c.39.39.9.59 1.41.59.51 0 1.02-.2 1.41-.59l7.78-7.78 2.81-2.81c.8-.78.8-2.07 0-2.86zM5.41 20L4 18.59l7.72-7.72 1.47 1.35L5.41 20z\"/>\n",
              "  </svg>\n",
              "      </button>\n",
              "      \n",
              "  <style>\n",
              "    .colab-df-container {\n",
              "      display:flex;\n",
              "      flex-wrap:wrap;\n",
              "      gap: 12px;\n",
              "    }\n",
              "\n",
              "    .colab-df-convert {\n",
              "      background-color: #E8F0FE;\n",
              "      border: none;\n",
              "      border-radius: 50%;\n",
              "      cursor: pointer;\n",
              "      display: none;\n",
              "      fill: #1967D2;\n",
              "      height: 32px;\n",
              "      padding: 0 0 0 0;\n",
              "      width: 32px;\n",
              "    }\n",
              "\n",
              "    .colab-df-convert:hover {\n",
              "      background-color: #E2EBFA;\n",
              "      box-shadow: 0px 1px 2px rgba(60, 64, 67, 0.3), 0px 1px 3px 1px rgba(60, 64, 67, 0.15);\n",
              "      fill: #174EA6;\n",
              "    }\n",
              "\n",
              "    [theme=dark] .colab-df-convert {\n",
              "      background-color: #3B4455;\n",
              "      fill: #D2E3FC;\n",
              "    }\n",
              "\n",
              "    [theme=dark] .colab-df-convert:hover {\n",
              "      background-color: #434B5C;\n",
              "      box-shadow: 0px 1px 3px 1px rgba(0, 0, 0, 0.15);\n",
              "      filter: drop-shadow(0px 1px 2px rgba(0, 0, 0, 0.3));\n",
              "      fill: #FFFFFF;\n",
              "    }\n",
              "  </style>\n",
              "\n",
              "      <script>\n",
              "        const buttonEl =\n",
              "          document.querySelector('#df-96a55c9f-edf6-4486-9233-85553a2e62c7 button.colab-df-convert');\n",
              "        buttonEl.style.display =\n",
              "          google.colab.kernel.accessAllowed ? 'block' : 'none';\n",
              "\n",
              "        async function convertToInteractive(key) {\n",
              "          const element = document.querySelector('#df-96a55c9f-edf6-4486-9233-85553a2e62c7');\n",
              "          const dataTable =\n",
              "            await google.colab.kernel.invokeFunction('convertToInteractive',\n",
              "                                                     [key], {});\n",
              "          if (!dataTable) return;\n",
              "\n",
              "          const docLinkHtml = 'Like what you see? Visit the ' +\n",
              "            '<a target=\"_blank\" href=https://colab.research.google.com/notebooks/data_table.ipynb>data table notebook</a>'\n",
              "            + ' to learn more about interactive tables.';\n",
              "          element.innerHTML = '';\n",
              "          dataTable['output_type'] = 'display_data';\n",
              "          await google.colab.output.renderOutput(dataTable, element);\n",
              "          const docLink = document.createElement('div');\n",
              "          docLink.innerHTML = docLinkHtml;\n",
              "          element.appendChild(docLink);\n",
              "        }\n",
              "      </script>\n",
              "    </div>\n",
              "  </div>\n",
              "  "
            ]
          },
          "metadata": {},
          "execution_count": 4
        }
      ]
    },
    {
      "cell_type": "markdown",
      "metadata": {
        "id": "Ituk9wA4Idib"
      },
      "source": [
        "### **Popularity-Based Recommendation Systems**"
      ]
    },
    {
      "cell_type": "markdown",
      "metadata": {
        "id": "462hsbxaI1ED"
      },
      "source": [
        "Let's take the count and sum of play counts of the songs and build the popularity recommendation systems based on the sum of play counts."
      ]
    },
    {
      "cell_type": "code",
      "source": [
        "# Calculating average play_count\n",
        "average_count = df_final.groupby('song_id').mean()['play_count']        # Hint: Use groupby function on the song_id column\n",
        "\n",
        "# Calculating the frequency a song is played\n",
        "play_freq = df_final.groupby('song_id').count()['play_count']           # Hint: Use groupby function on the song_id column"
      ],
      "metadata": {
        "id": "UXhBZlDE-jEu"
      },
      "execution_count": null,
      "outputs": []
    },
    {
      "cell_type": "code",
      "metadata": {
        "id": "v2XYdXvWdyys",
        "colab": {
          "base_uri": "https://localhost:8080/",
          "height": 237
        },
        "outputId": "e81c6055-5568-4470-da73-22e1a645d9f7"
      },
      "source": [
        "# Making a dataframe with the average_count and play_freq\n",
        "final_play = pd.DataFrame({'avg_count': average_count, 'play_freq': play_freq})\n",
        "\n",
        "# Let us see the first five records of the final_play dataset\n",
        "final_play.head()"
      ],
      "execution_count": null,
      "outputs": [
        {
          "output_type": "execute_result",
          "data": {
            "text/plain": [
              "                    avg_count  play_freq\n",
              "song_id                                 \n",
              "SOABJBU12A8C13F63F   1.622642        265\n",
              "SOABJTC12A58A7DE0E   1.492424        132\n",
              "SOADJQJ12A8C141D38   1.729216        421\n",
              "SOADQPP12A67020C82   1.728070        114\n",
              "SOAFQGA12A8C1367FA   1.452174        115"
            ],
            "text/html": [
              "\n",
              "  <div id=\"df-ccf189e4-72fe-457b-a532-14065239c2a0\">\n",
              "    <div class=\"colab-df-container\">\n",
              "      <div>\n",
              "<style scoped>\n",
              "    .dataframe tbody tr th:only-of-type {\n",
              "        vertical-align: middle;\n",
              "    }\n",
              "\n",
              "    .dataframe tbody tr th {\n",
              "        vertical-align: top;\n",
              "    }\n",
              "\n",
              "    .dataframe thead th {\n",
              "        text-align: right;\n",
              "    }\n",
              "</style>\n",
              "<table border=\"1\" class=\"dataframe\">\n",
              "  <thead>\n",
              "    <tr style=\"text-align: right;\">\n",
              "      <th></th>\n",
              "      <th>avg_count</th>\n",
              "      <th>play_freq</th>\n",
              "    </tr>\n",
              "    <tr>\n",
              "      <th>song_id</th>\n",
              "      <th></th>\n",
              "      <th></th>\n",
              "    </tr>\n",
              "  </thead>\n",
              "  <tbody>\n",
              "    <tr>\n",
              "      <th>SOABJBU12A8C13F63F</th>\n",
              "      <td>1.622642</td>\n",
              "      <td>265</td>\n",
              "    </tr>\n",
              "    <tr>\n",
              "      <th>SOABJTC12A58A7DE0E</th>\n",
              "      <td>1.492424</td>\n",
              "      <td>132</td>\n",
              "    </tr>\n",
              "    <tr>\n",
              "      <th>SOADJQJ12A8C141D38</th>\n",
              "      <td>1.729216</td>\n",
              "      <td>421</td>\n",
              "    </tr>\n",
              "    <tr>\n",
              "      <th>SOADQPP12A67020C82</th>\n",
              "      <td>1.728070</td>\n",
              "      <td>114</td>\n",
              "    </tr>\n",
              "    <tr>\n",
              "      <th>SOAFQGA12A8C1367FA</th>\n",
              "      <td>1.452174</td>\n",
              "      <td>115</td>\n",
              "    </tr>\n",
              "  </tbody>\n",
              "</table>\n",
              "</div>\n",
              "      <button class=\"colab-df-convert\" onclick=\"convertToInteractive('df-ccf189e4-72fe-457b-a532-14065239c2a0')\"\n",
              "              title=\"Convert this dataframe to an interactive table.\"\n",
              "              style=\"display:none;\">\n",
              "        \n",
              "  <svg xmlns=\"http://www.w3.org/2000/svg\" height=\"24px\"viewBox=\"0 0 24 24\"\n",
              "       width=\"24px\">\n",
              "    <path d=\"M0 0h24v24H0V0z\" fill=\"none\"/>\n",
              "    <path d=\"M18.56 5.44l.94 2.06.94-2.06 2.06-.94-2.06-.94-.94-2.06-.94 2.06-2.06.94zm-11 1L8.5 8.5l.94-2.06 2.06-.94-2.06-.94L8.5 2.5l-.94 2.06-2.06.94zm10 10l.94 2.06.94-2.06 2.06-.94-2.06-.94-.94-2.06-.94 2.06-2.06.94z\"/><path d=\"M17.41 7.96l-1.37-1.37c-.4-.4-.92-.59-1.43-.59-.52 0-1.04.2-1.43.59L10.3 9.45l-7.72 7.72c-.78.78-.78 2.05 0 2.83L4 21.41c.39.39.9.59 1.41.59.51 0 1.02-.2 1.41-.59l7.78-7.78 2.81-2.81c.8-.78.8-2.07 0-2.86zM5.41 20L4 18.59l7.72-7.72 1.47 1.35L5.41 20z\"/>\n",
              "  </svg>\n",
              "      </button>\n",
              "      \n",
              "  <style>\n",
              "    .colab-df-container {\n",
              "      display:flex;\n",
              "      flex-wrap:wrap;\n",
              "      gap: 12px;\n",
              "    }\n",
              "\n",
              "    .colab-df-convert {\n",
              "      background-color: #E8F0FE;\n",
              "      border: none;\n",
              "      border-radius: 50%;\n",
              "      cursor: pointer;\n",
              "      display: none;\n",
              "      fill: #1967D2;\n",
              "      height: 32px;\n",
              "      padding: 0 0 0 0;\n",
              "      width: 32px;\n",
              "    }\n",
              "\n",
              "    .colab-df-convert:hover {\n",
              "      background-color: #E2EBFA;\n",
              "      box-shadow: 0px 1px 2px rgba(60, 64, 67, 0.3), 0px 1px 3px 1px rgba(60, 64, 67, 0.15);\n",
              "      fill: #174EA6;\n",
              "    }\n",
              "\n",
              "    [theme=dark] .colab-df-convert {\n",
              "      background-color: #3B4455;\n",
              "      fill: #D2E3FC;\n",
              "    }\n",
              "\n",
              "    [theme=dark] .colab-df-convert:hover {\n",
              "      background-color: #434B5C;\n",
              "      box-shadow: 0px 1px 3px 1px rgba(0, 0, 0, 0.15);\n",
              "      filter: drop-shadow(0px 1px 2px rgba(0, 0, 0, 0.3));\n",
              "      fill: #FFFFFF;\n",
              "    }\n",
              "  </style>\n",
              "\n",
              "      <script>\n",
              "        const buttonEl =\n",
              "          document.querySelector('#df-ccf189e4-72fe-457b-a532-14065239c2a0 button.colab-df-convert');\n",
              "        buttonEl.style.display =\n",
              "          google.colab.kernel.accessAllowed ? 'block' : 'none';\n",
              "\n",
              "        async function convertToInteractive(key) {\n",
              "          const element = document.querySelector('#df-ccf189e4-72fe-457b-a532-14065239c2a0');\n",
              "          const dataTable =\n",
              "            await google.colab.kernel.invokeFunction('convertToInteractive',\n",
              "                                                     [key], {});\n",
              "          if (!dataTable) return;\n",
              "\n",
              "          const docLinkHtml = 'Like what you see? Visit the ' +\n",
              "            '<a target=\"_blank\" href=https://colab.research.google.com/notebooks/data_table.ipynb>data table notebook</a>'\n",
              "            + ' to learn more about interactive tables.';\n",
              "          element.innerHTML = '';\n",
              "          dataTable['output_type'] = 'display_data';\n",
              "          await google.colab.output.renderOutput(dataTable, element);\n",
              "          const docLink = document.createElement('div');\n",
              "          docLink.innerHTML = docLinkHtml;\n",
              "          element.appendChild(docLink);\n",
              "        }\n",
              "      </script>\n",
              "    </div>\n",
              "  </div>\n",
              "  "
            ]
          },
          "metadata": {},
          "execution_count": 6
        }
      ]
    },
    {
      "cell_type": "markdown",
      "metadata": {
        "id": "WnCT-A7RK_5g"
      },
      "source": [
        "Now, let's create a function to find the top n songs for a recommendation based on the average play count of song. We can also add a threshold for a minimum number of playcounts for a song to be considered for recommendation."
      ]
    },
    {
      "cell_type": "code",
      "metadata": {
        "id": "QiT9FV3GNCrb"
      },
      "source": [
        "# Build the function to find top n songs\n",
        "\n",
        "def top_n_products(final_play, n, min_interaction):\n",
        "    \n",
        "    # Finding products with minimum number of interactions\n",
        "    recommendations = final_play[final_play['play_freq'] > min_interaction]\n",
        "    \n",
        "    # Sorting values with respect to average rating \n",
        "    recommendations = recommendations.sort_values(by='avg_count', ascending=False)\n",
        "    \n",
        "    return recommendations.index[:n]"
      ],
      "execution_count": null,
      "outputs": []
    },
    {
      "cell_type": "code",
      "metadata": {
        "id": "GpZt_BeXgz4F",
        "outputId": "586bbb35-7c21-4fd7-b23e-0506f4ea3fff",
        "colab": {
          "base_uri": "https://localhost:8080/"
        }
      },
      "source": [
        "# Recommend top 10 songs using the function defined above\n",
        "list(top_n_products(final_play, 10, 50))"
      ],
      "execution_count": null,
      "outputs": [
        {
          "output_type": "execute_result",
          "data": {
            "text/plain": [
              "['SOSJSSU12A6D4F8F41',\n",
              " 'SOVIZNF12AF72A710A',\n",
              " 'SOQGSUC12A8C13B66D',\n",
              " 'SOZVVRE12A8C143150',\n",
              " 'SONYKOW12AB01849C9',\n",
              " 'SOOGNOZ12AAF3B2936',\n",
              " 'SOVWBYM12A6D4F8A22',\n",
              " 'SOFRQTD12A81C233C0',\n",
              " 'SOBRHVR12A8C133F35',\n",
              " 'SOBONKR12A58A7A7E0']"
            ]
          },
          "metadata": {},
          "execution_count": 8
        }
      ]
    },
    {
      "cell_type": "markdown",
      "metadata": {
        "id": "gf13HrPPJeWT"
      },
      "source": [
        "### **User User Similarity-Based Collaborative Filtering**"
      ]
    },
    {
      "cell_type": "markdown",
      "source": [
        "To build the user-user-similarity-based and subsequent models we will use the \"surprise\" library."
      ],
      "metadata": {
        "id": "ROcEpduohdua"
      }
    },
    {
      "cell_type": "code",
      "execution_count": null,
      "metadata": {
        "id": "aKLrKn8IfGjk",
        "colab": {
          "base_uri": "https://localhost:8080/"
        },
        "outputId": "ea938060-b561-41c8-fbf4-d6a13e17050e"
      },
      "outputs": [
        {
          "output_type": "stream",
          "name": "stdout",
          "text": [
            "Looking in indexes: https://pypi.org/simple, https://us-python.pkg.dev/colab-wheels/public/simple/\n",
            "Collecting surprise\n",
            "  Downloading surprise-0.1-py2.py3-none-any.whl (1.8 kB)\n",
            "Collecting scikit-surprise\n",
            "  Downloading scikit-surprise-1.1.1.tar.gz (11.8 MB)\n",
            "\u001b[K     |████████████████████████████████| 11.8 MB 4.8 MB/s \n",
            "\u001b[?25hRequirement already satisfied: joblib>=0.11 in /usr/local/lib/python3.7/dist-packages (from scikit-surprise->surprise) (1.2.0)\n",
            "Requirement already satisfied: numpy>=1.11.2 in /usr/local/lib/python3.7/dist-packages (from scikit-surprise->surprise) (1.21.6)\n",
            "Requirement already satisfied: scipy>=1.0.0 in /usr/local/lib/python3.7/dist-packages (from scikit-surprise->surprise) (1.7.3)\n",
            "Requirement already satisfied: six>=1.10.0 in /usr/local/lib/python3.7/dist-packages (from scikit-surprise->surprise) (1.15.0)\n",
            "Building wheels for collected packages: scikit-surprise\n",
            "  Building wheel for scikit-surprise (setup.py) ... \u001b[?25l\u001b[?25hdone\n",
            "  Created wheel for scikit-surprise: filename=scikit_surprise-1.1.1-cp37-cp37m-linux_x86_64.whl size=1633986 sha256=863e14078297c18f428eee9d336513344f57aec2d7b83a5d0807b8b8c7793ca1\n",
            "  Stored in directory: /root/.cache/pip/wheels/76/44/74/b498c42be47b2406bd27994e16c5188e337c657025ab400c1c\n",
            "Successfully built scikit-surprise\n",
            "Installing collected packages: scikit-surprise, surprise\n",
            "Successfully installed scikit-surprise-1.1.1 surprise-0.1\n"
          ]
        }
      ],
      "source": [
        "# Install the surprise package using pip.\n",
        "!pip install surprise "
      ]
    },
    {
      "cell_type": "code",
      "execution_count": null,
      "metadata": {
        "id": "UJ1wEylUpexj"
      },
      "outputs": [],
      "source": [
        "# Import necessary libraries\n",
        "\n",
        "# To compute the accuracy of models\n",
        "from surprise import accuracy\n",
        "\n",
        "# This class is used to parse a file containing play_counts, data should be in structure - user; item; play_count\n",
        "from surprise.reader import Reader\n",
        "\n",
        "# Class for loading datasets\n",
        "from surprise.dataset import Dataset\n",
        "\n",
        "# For tuning model hyperparameters\n",
        "from surprise.model_selection import GridSearchCV\n",
        "\n",
        "# For splitting the data in train and test dataset\n",
        "from surprise.model_selection import train_test_split\n",
        "\n",
        "# For implementing similarity-based recommendation system\n",
        "from surprise.prediction_algorithms.knns import KNNBasic\n",
        "\n",
        "# For implementing matrix factorization based recommendation system\n",
        "from surprise.prediction_algorithms.matrix_factorization import SVD\n",
        "\n",
        "# For implementing KFold cross-validation\n",
        "from surprise.model_selection import KFold\n",
        "\n",
        "# For implementing clustering-based recommendation system\n",
        "from surprise import CoClustering"
      ]
    },
    {
      "cell_type": "markdown",
      "metadata": {
        "id": "jBW4BUhWTsnm"
      },
      "source": [
        "### Some useful functions"
      ]
    },
    {
      "cell_type": "markdown",
      "source": [
        "Below is the function to calculate precision@k and recall@k, RMSE and F1_Score@k to evaluate the model performance."
      ],
      "metadata": {
        "id": "ZhFa_4aHHchr"
      }
    },
    {
      "cell_type": "markdown",
      "source": [
        "**Think About It:** Which metric should be used for this problem to compare different models?"
      ],
      "metadata": {
        "id": "ZOvOgjGWrMVV"
      }
    },
    {
      "cell_type": "code",
      "execution_count": null,
      "metadata": {
        "id": "Rxn-GahOTsnm"
      },
      "outputs": [],
      "source": [
        "# The function to calulate the RMSE, precision@k, recall@k, and F_1 score\n",
        "def precision_recall_at_k(model, k = 30, threshold = 1.5):\n",
        "    \"\"\"Return precision and recall at k metrics for each user\"\"\"\n",
        "\n",
        "    # First map the predictions to each user.\n",
        "    user_est_true = defaultdict(list)\n",
        "    \n",
        "    # Making predictions on the test data\n",
        "    predictions=model.test(testset)\n",
        "    \n",
        "    for uid, _, true_r, est, _ in predictions:\n",
        "        user_est_true[uid].append((est, true_r))\n",
        "\n",
        "    precisions = dict()\n",
        "    recalls = dict()\n",
        "    for uid, user_ratings in user_est_true.items():\n",
        "\n",
        "        # Sort user ratings by estimated value\n",
        "        user_ratings.sort(key = lambda x : x[0], reverse = True)\n",
        "\n",
        "        # Number of relevant items\n",
        "        n_rel = sum((true_r >= threshold) for (_, true_r) in user_ratings)\n",
        "\n",
        "        # Number of recommended items in top k\n",
        "        n_rec_k = sum((est >= threshold) for (est, _) in user_ratings[ : k])\n",
        "\n",
        "        # Number of relevant and recommended items in top k\n",
        "        n_rel_and_rec_k = sum(((true_r >= threshold) and (est >= threshold))\n",
        "                              for (est, true_r) in user_ratings[ : k])\n",
        "\n",
        "        # Precision@K: Proportion of recommended items that are relevant\n",
        "        # When n_rec_k is 0, Precision is undefined. We here set Precision to 0 when n_rec_k is 0\n",
        "\n",
        "        precisions[uid] = n_rel_and_rec_k / n_rec_k if n_rec_k != 0 else 0\n",
        "\n",
        "        # Recall@K: Proportion of relevant items that are recommended\n",
        "        # When n_rel is 0, Recall is undefined. We here set Recall to 0 when n_rel is 0\n",
        "\n",
        "        recalls[uid] = n_rel_and_rec_k / n_rel if n_rel != 0 else 0\n",
        "    \n",
        "    # Mean of all the predicted precisions are calculated\n",
        "    precision = round((sum(prec for prec in precisions.values()) / len(precisions)), 3)\n",
        "\n",
        "    # Mean of all the predicted recalls are calculated\n",
        "    recall = round((sum(rec for rec in recalls.values()) / len(recalls)), 3)\n",
        "    \n",
        "    accuracy.rmse(predictions)\n",
        "\n",
        "    # Command to print the overall precision\n",
        "    print('Precision: ', precision)\n",
        "\n",
        "    # Command to print the overall recall\n",
        "    print('Recall: ', recall)\n",
        "    \n",
        "    # Formula to compute the F-1 score\n",
        "    print('F_1 score: ', round((2 * precision * recall) / (precision + recall), 3))"
      ]
    },
    {
      "cell_type": "markdown",
      "source": [
        "**Think About It:** In the function precision_recall_at_k above the threshold value used is 1.5. How precision and recall are affected by changing the threshold? What is the intuition behind using the threshold value of 1.5? "
      ],
      "metadata": {
        "id": "PcmLRxH4IjfG"
      }
    },
    {
      "cell_type": "code",
      "execution_count": null,
      "metadata": {
        "id": "rGfYDiOCpe4X"
      },
      "outputs": [],
      "source": [
        "# Instantiating Reader scale with expected rating scale \n",
        "reader = Reader(rating_scale = (0, 5)) #use rating scale (0, 5)\n",
        "\n",
        "# Loading the dataset\n",
        "data = Dataset.load_from_df(df_final[['user_id', 'song_id', 'play_count']], reader) # Take only \"user_id\",\"song_id\", and \"play_count\"\n",
        "\n",
        "# Splitting the data into train and test dataset\n",
        "trainset, testset = train_test_split(data, test_size=0.4, random_state = 42) # Take test_size = 0.4"
      ]
    },
    {
      "cell_type": "markdown",
      "source": [
        "**Think About It:** How changing the test size would change the results and outputs?"
      ],
      "metadata": {
        "id": "CuTmLjUP1aED"
      }
    },
    {
      "cell_type": "code",
      "execution_count": null,
      "metadata": {
        "id": "vO3FL7iape8A",
        "scrolled": false,
        "colab": {
          "base_uri": "https://localhost:8080/"
        },
        "outputId": "16e1015c-851f-4bda-fd05-f61e344f7dbe"
      },
      "outputs": [
        {
          "output_type": "stream",
          "name": "stdout",
          "text": [
            "Computing the msd similarity matrix...\n",
            "Done computing similarity matrix.\n",
            "RMSE: 1.0626\n",
            "Precision:  0.009\n",
            "Recall:  0.003\n",
            "F_1 score:  0.004\n"
          ]
        }
      ],
      "source": [
        "# Build the default user-user-similarity model\n",
        "sim_options = {'name': 'cosine',\n",
        "               'user_based':True}\n",
        "\n",
        "# KNN algorithm is used to find desired similar items\n",
        "sim_user_user = KNNBasic(random_state=1) # Use random_state = 1 \n",
        "\n",
        "# Train the algorithm on the trainset, and predict play_count for the testset\n",
        "sim_user_user.fit(trainset)\n",
        "\n",
        "# Let us compute precision@k, recall@k, and f_1 score with k = 30\n",
        "precision_recall_at_k(sim_user_user) # Use sim_user_user model"
      ]
    },
    {
      "cell_type": "markdown",
      "source": [
        "💡 **Observations and Insights:**\n",
        "\n",
        "\n",
        "*   F_1 score is 0.492 meaning this model could be a lot better in predicting methods\n",
        "*   RMSE is 1.0626 also indicating that this model has lots of room for imporovement\n",
        "*   The precision is 0.413 meaning that out of 30 recommended items 0.413 were relevant to the user \n",
        "*   The recall is 0.608 meaning that out of 30 relevant products 0.608 are recommended\n",
        "\n"
      ],
      "metadata": {
        "id": "mzcdlWmer6GA"
      }
    },
    {
      "cell_type": "code",
      "execution_count": null,
      "metadata": {
        "id": "Sxd23bZ9pe_x",
        "colab": {
          "base_uri": "https://localhost:8080/"
        },
        "outputId": "e6fdbb3d-cebb-407e-f7f3-b21d8fb48aa1"
      },
      "outputs": [
        {
          "output_type": "stream",
          "name": "stdout",
          "text": [
            "user: 6958       item: 1671       r_ui = 2.00   est = 1.70   {'was_impossible': True, 'reason': 'User and/or item is unknown.'}\n"
          ]
        },
        {
          "output_type": "execute_result",
          "data": {
            "text/plain": [
              "Prediction(uid='6958', iid='1671', r_ui=2, est=1.6989607635206787, details={'was_impossible': True, 'reason': 'User and/or item is unknown.'})"
            ]
          },
          "metadata": {},
          "execution_count": 17
        }
      ],
      "source": [
        "# Predicting play_count for a sample user with a listened song\n",
        "sim_user_user.predict('6958', '1671', r_ui = 2, verbose = True) # Use user id 6958 and song_id 1671"
      ]
    },
    {
      "cell_type": "code",
      "execution_count": null,
      "metadata": {
        "id": "PbFcBj1PpfEV",
        "colab": {
          "base_uri": "https://localhost:8080/"
        },
        "outputId": "597a5280-0434-4907-b4fc-c339799371c2"
      },
      "outputs": [
        {
          "output_type": "stream",
          "name": "stdout",
          "text": [
            "user: 6958       item: 3232       r_ui = None   est = 1.70   {'was_impossible': True, 'reason': 'User and/or item is unknown.'}\n"
          ]
        },
        {
          "output_type": "execute_result",
          "data": {
            "text/plain": [
              "Prediction(uid='6958', iid='3232', r_ui=None, est=1.6989607635206787, details={'was_impossible': True, 'reason': 'User and/or item is unknown.'})"
            ]
          },
          "metadata": {},
          "execution_count": 18
        }
      ],
      "source": [
        "# Predicting play_count for a sample user with a song not-listened by the user\n",
        "sim_user_user.predict('6958', '3232', verbose = True) # Use user_id 6958 and song_id 3232"
      ]
    },
    {
      "cell_type": "markdown",
      "source": [
        "\n",
        "💡 **Observations and Insights:**\n",
        "\n",
        "*    Per the initial prediction of user 6958 and song 1671 the recommendation r_ui is 2 while my model predicted 1.6989 which proves observations above that the model is not as efficient as it could be. \n",
        "*    There is a 0.3011 discrepency between the r_ui and the user-to-user prediction\n",
        "*   Per the second predictor r_ui is unknown as the song 3232 has not been listened to by user, the model predicted a 1.70 reccomendation rating\n"
      ],
      "metadata": {
        "id": "P9EVM7DysC47"
      }
    },
    {
      "cell_type": "markdown",
      "source": [
        "Now, let's try to tune the model and see if we can improve the model performance."
      ],
      "metadata": {
        "id": "Lt1QBiylsIOm"
      }
    },
    {
      "cell_type": "code",
      "execution_count": null,
      "metadata": {
        "id": "T3diJPL7-tVw"
      },
      "outputs": [],
      "source": [
        "# Setting up parameter grid to tune the hyperparameters\n",
        "param_grid = {'k': [10, 20, 30], 'min_k': [3, 6, 9],\n",
        "              'sim_options': {'name': [\"cosine\", 'pearson', \"pearson_baseline\"],\n",
        "                              'user_based': [True], \"min_support\": [2, 4]}\n",
        "              }\n",
        "\n",
        "# Performing 3-fold cross-validation to tune the hyperparameters\n",
        "gs = GridSearchCV(KNNBasic, param_grid, measures = ['rmse'], cv = 3, n_jobs = -1)\n",
        "\n",
        "# Fitting the data\n",
        "gs.fit(data) # Use entire data for GridSearch\n",
        "\n",
        "# Best RMSE score\n",
        "print(gs.best_score['rmse'])\n",
        "\n",
        "# Combination of parameters that gave the best RMSE score\n",
        "print(gs.best_params['rmse'])"
      ]
    },
    {
      "cell_type": "code",
      "execution_count": null,
      "metadata": {
        "id": "PujRJA8X_JEJ",
        "colab": {
          "base_uri": "https://localhost:8080/"
        },
        "outputId": "3b519ce7-d311-460f-9840-4809fdbb4e89"
      },
      "outputs": [
        {
          "output_type": "stream",
          "name": "stdout",
          "text": [
            "Estimating biases using als...\n",
            "Computing the pearson_baseline similarity matrix...\n",
            "Done computing similarity matrix.\n",
            "RMSE: 1.0534\n",
            "Precision:  0.414\n",
            "Recall:  0.703\n",
            "F_1 score:  0.521\n"
          ]
        }
      ],
      "source": [
        "# Using the optimal similarity measure for item-item based collaborative filtering\n",
        "sim_options = {'name': 'pearson_baseline',\n",
        "               'user_based': True}\n",
        "\n",
        "# Creating an instance of KNNBasic with optimal hyperparameter values\n",
        "sim_user_user_optimized = KNNBasic(sim_options=sim_options, k =30 , min_k =6, random_state = 1, verbose = True)\n",
        "\n",
        "# Training the algorithm on the trainset\n",
        "sim_user_user_optimized.fit(trainset)\n",
        "\n",
        "# Let us compute precision@k and recall@k also with k =10\n",
        "precision_recall_at_k(sim_user_user_optimized)"
      ]
    },
    {
      "cell_type": "markdown",
      "source": [
        "💡 **Observations and Insights:**\n",
        "\n",
        "*   f_1 score went from 0.492 to 0.521 after optimization of hyperparameters \n",
        "*   After implmeenting hyperparameters precision and recall both incresed meaning that tuning the model increased efficienciy in the model\n",
        "*   Tuning the model increased model performance \n",
        "*   RMSE\t1.0534\n",
        "*   Precision\t0.414\n",
        "*   Recall\t0.703\n",
        "\n",
        "\n"
      ],
      "metadata": {
        "id": "MH5OBZ7Nse6m"
      }
    },
    {
      "cell_type": "code",
      "execution_count": null,
      "metadata": {
        "id": "FgV63lHiq1TV",
        "colab": {
          "base_uri": "https://localhost:8080/"
        },
        "outputId": "a8fcce46-a80a-4fb9-eadd-aab7dc458e63"
      },
      "outputs": [
        {
          "output_type": "stream",
          "name": "stdout",
          "text": [
            "user: 6958       item: 1671       r_ui = 2.00   est = 1.70   {'was_impossible': True, 'reason': 'User and/or item is unknown.'}\n"
          ]
        },
        {
          "output_type": "execute_result",
          "data": {
            "text/plain": [
              "Prediction(uid='6958', iid='1671', r_ui=2, est=1.6989607635206787, details={'was_impossible': True, 'reason': 'User and/or item is unknown.'})"
            ]
          },
          "metadata": {},
          "execution_count": 27
        }
      ],
      "source": [
        "# Predict the play count for a user who has listened to the song. Take user_id 6958, song_id 1671 and r_ui = 2\n",
        "sim_user_user_optimized.predict(\"6958\", \"1671\", r_ui = 2, verbose = True)"
      ]
    },
    {
      "cell_type": "code",
      "execution_count": null,
      "metadata": {
        "id": "HXO2Ztjhq1bN",
        "colab": {
          "base_uri": "https://localhost:8080/"
        },
        "outputId": "2b0900af-5fad-4750-9690-9f60ba71ca67"
      },
      "outputs": [
        {
          "output_type": "stream",
          "name": "stdout",
          "text": [
            "user: 6958       item: 3232       r_ui = None   est = 1.70   {'was_impossible': True, 'reason': 'User and/or item is unknown.'}\n"
          ]
        },
        {
          "output_type": "execute_result",
          "data": {
            "text/plain": [
              "Prediction(uid='6958', iid='3232', r_ui=None, est=1.6989607635206787, details={'was_impossible': True, 'reason': 'User and/or item is unknown.'})"
            ]
          },
          "metadata": {},
          "execution_count": 28
        }
      ],
      "source": [
        "# Predict the play count for a song that is not listened to by the user (with user_id 6958) \n",
        "sim_user_user_optimized.predict(\"6958\", \"3232\", verbose = True) # Use user_id 6958 and song_id 3232"
      ]
    },
    {
      "cell_type": "markdown",
      "source": [
        "💡 **Observations and Insights:**\n",
        "\n",
        "*    Per the initial prediction of user 6958 and song 1671 the recommendation r_ui is 2 while my model predicted 1.70  \n",
        "*    There is a 0.3 discrepency between the r_ui and the user-to-user prediction\n",
        "*   Per the second predictor r_ui is unknown as the song 3232 has not been listened to by user, the model predicted a 1.70 reccomendation rating similiar to the user to user model prior to tuning\n",
        "\n"
      ],
      "metadata": {
        "id": "SdpJ--8QWuzz"
      }
    },
    {
      "cell_type": "markdown",
      "source": [
        "**Think About It:** Along with making predictions on listened and unknown songs can we get 5 nearest neighbors (most similar) to a certain song?"
      ],
      "metadata": {
        "id": "SQ9M4pplNbWS"
      }
    },
    {
      "cell_type": "code",
      "execution_count": null,
      "metadata": {
        "id": "TbFle7cKmBJG",
        "colab": {
          "base_uri": "https://localhost:8080/"
        },
        "outputId": "266df751-9a8a-41f7-8389-80555bdfa720"
      },
      "outputs": [
        {
          "output_type": "execute_result",
          "data": {
            "text/plain": [
              "[42, 1131, 17, 186, 249]"
            ]
          },
          "metadata": {},
          "execution_count": 29
        }
      ],
      "source": [
        "# Use inner id 0\n",
        "sim_user_user_optimized.get_neighbors(0, k = 5)"
      ]
    },
    {
      "cell_type": "markdown",
      "metadata": {
        "id": "U3ESobDynVNI"
      },
      "source": [
        "Below we will be implementing a function where the input parameters are:\n",
        "\n",
        "- data: A **song** dataset\n",
        "- user_id: A user-id **against which we want the recommendations**\n",
        "- top_n: The **number of songs we want to recommend**\n",
        "- algo: The algorithm we want to use **for predicting the play_count**\n",
        "- The output of the function is a **set of top_n items** recommended for the given user_id based on the given algorithm"
      ]
    },
    {
      "cell_type": "code",
      "execution_count": null,
      "metadata": {
        "id": "vW9V1Tk65HlY"
      },
      "outputs": [],
      "source": [
        "def get_recommendations(data, user_id, top_n, algo):\n",
        "    \n",
        "    # Creating an empty list to store the recommended product ids\n",
        "    recommendations = []\n",
        "    \n",
        "    # Creating an user item interactions matrix \n",
        "    user_item_interactions_matrix = data.pivot_table(index = 'user_id', columns = 'song_id', values = 'play_count')\n",
        "    \n",
        "    # Extracting those business ids which the user_id has not visited yet\n",
        "    non_interacted_products = user_item_interactions_matrix.loc[user_id][user_item_interactions_matrix.loc[user_id].isnull()].index.tolist()\n",
        "    \n",
        "    # Looping through each of the business ids which user_id has not interacted yet\n",
        "    for item_id in non_interacted_products:\n",
        "        \n",
        "        # Predicting the ratings for those non visited restaurant ids by this user\n",
        "        est = algo.predict(user_id, item_id).est\n",
        "        \n",
        "        # Appending the predicted ratings\n",
        "        recommendations.append((item_id, est))\n",
        "\n",
        "    # Sorting the predicted ratings in descending order\n",
        "    recommendations.sort(key = lambda x : x[1], reverse = True)\n",
        "\n",
        "    return recommendations[:top_n] # Returing top n highest predicted rating products for this user"
      ]
    },
    {
      "cell_type": "code",
      "execution_count": null,
      "metadata": {
        "id": "qWbR85mI5Hrk"
      },
      "outputs": [],
      "source": [
        "# Make top 5 recommendations for user_id 6958 with a similarity-based recommendation engine\n",
        "recommendations = get_recommendations(df_final, 6958, 5, sim_user_user_optimized)"
      ]
    },
    {
      "cell_type": "code",
      "execution_count": null,
      "metadata": {
        "id": "b5WfIX0Z6_q2",
        "colab": {
          "base_uri": "https://localhost:8080/",
          "height": 206
        },
        "outputId": "9dd47702-d34a-451a-8d4f-1e864e5c534f"
      },
      "outputs": [
        {
          "output_type": "execute_result",
          "data": {
            "text/plain": [
              "              song_id  predicted_ratings\n",
              "0  SOSJSSU12A6D4F8F41           3.672605\n",
              "1  SOQGOPT12AAF3B2B27           2.571082\n",
              "2  SONYKOW12AB01849C9           2.553335\n",
              "3  SOAUWYT12A81C206F1           2.518269\n",
              "4  SOMDVSL12A6D4F7230           2.498731"
            ],
            "text/html": [
              "\n",
              "  <div id=\"df-0f22b641-9991-4880-ab81-16e7ffb7cbda\">\n",
              "    <div class=\"colab-df-container\">\n",
              "      <div>\n",
              "<style scoped>\n",
              "    .dataframe tbody tr th:only-of-type {\n",
              "        vertical-align: middle;\n",
              "    }\n",
              "\n",
              "    .dataframe tbody tr th {\n",
              "        vertical-align: top;\n",
              "    }\n",
              "\n",
              "    .dataframe thead th {\n",
              "        text-align: right;\n",
              "    }\n",
              "</style>\n",
              "<table border=\"1\" class=\"dataframe\">\n",
              "  <thead>\n",
              "    <tr style=\"text-align: right;\">\n",
              "      <th></th>\n",
              "      <th>song_id</th>\n",
              "      <th>predicted_ratings</th>\n",
              "    </tr>\n",
              "  </thead>\n",
              "  <tbody>\n",
              "    <tr>\n",
              "      <th>0</th>\n",
              "      <td>SOSJSSU12A6D4F8F41</td>\n",
              "      <td>3.672605</td>\n",
              "    </tr>\n",
              "    <tr>\n",
              "      <th>1</th>\n",
              "      <td>SOQGOPT12AAF3B2B27</td>\n",
              "      <td>2.571082</td>\n",
              "    </tr>\n",
              "    <tr>\n",
              "      <th>2</th>\n",
              "      <td>SONYKOW12AB01849C9</td>\n",
              "      <td>2.553335</td>\n",
              "    </tr>\n",
              "    <tr>\n",
              "      <th>3</th>\n",
              "      <td>SOAUWYT12A81C206F1</td>\n",
              "      <td>2.518269</td>\n",
              "    </tr>\n",
              "    <tr>\n",
              "      <th>4</th>\n",
              "      <td>SOMDVSL12A6D4F7230</td>\n",
              "      <td>2.498731</td>\n",
              "    </tr>\n",
              "  </tbody>\n",
              "</table>\n",
              "</div>\n",
              "      <button class=\"colab-df-convert\" onclick=\"convertToInteractive('df-0f22b641-9991-4880-ab81-16e7ffb7cbda')\"\n",
              "              title=\"Convert this dataframe to an interactive table.\"\n",
              "              style=\"display:none;\">\n",
              "        \n",
              "  <svg xmlns=\"http://www.w3.org/2000/svg\" height=\"24px\"viewBox=\"0 0 24 24\"\n",
              "       width=\"24px\">\n",
              "    <path d=\"M0 0h24v24H0V0z\" fill=\"none\"/>\n",
              "    <path d=\"M18.56 5.44l.94 2.06.94-2.06 2.06-.94-2.06-.94-.94-2.06-.94 2.06-2.06.94zm-11 1L8.5 8.5l.94-2.06 2.06-.94-2.06-.94L8.5 2.5l-.94 2.06-2.06.94zm10 10l.94 2.06.94-2.06 2.06-.94-2.06-.94-.94-2.06-.94 2.06-2.06.94z\"/><path d=\"M17.41 7.96l-1.37-1.37c-.4-.4-.92-.59-1.43-.59-.52 0-1.04.2-1.43.59L10.3 9.45l-7.72 7.72c-.78.78-.78 2.05 0 2.83L4 21.41c.39.39.9.59 1.41.59.51 0 1.02-.2 1.41-.59l7.78-7.78 2.81-2.81c.8-.78.8-2.07 0-2.86zM5.41 20L4 18.59l7.72-7.72 1.47 1.35L5.41 20z\"/>\n",
              "  </svg>\n",
              "      </button>\n",
              "      \n",
              "  <style>\n",
              "    .colab-df-container {\n",
              "      display:flex;\n",
              "      flex-wrap:wrap;\n",
              "      gap: 12px;\n",
              "    }\n",
              "\n",
              "    .colab-df-convert {\n",
              "      background-color: #E8F0FE;\n",
              "      border: none;\n",
              "      border-radius: 50%;\n",
              "      cursor: pointer;\n",
              "      display: none;\n",
              "      fill: #1967D2;\n",
              "      height: 32px;\n",
              "      padding: 0 0 0 0;\n",
              "      width: 32px;\n",
              "    }\n",
              "\n",
              "    .colab-df-convert:hover {\n",
              "      background-color: #E2EBFA;\n",
              "      box-shadow: 0px 1px 2px rgba(60, 64, 67, 0.3), 0px 1px 3px 1px rgba(60, 64, 67, 0.15);\n",
              "      fill: #174EA6;\n",
              "    }\n",
              "\n",
              "    [theme=dark] .colab-df-convert {\n",
              "      background-color: #3B4455;\n",
              "      fill: #D2E3FC;\n",
              "    }\n",
              "\n",
              "    [theme=dark] .colab-df-convert:hover {\n",
              "      background-color: #434B5C;\n",
              "      box-shadow: 0px 1px 3px 1px rgba(0, 0, 0, 0.15);\n",
              "      filter: drop-shadow(0px 1px 2px rgba(0, 0, 0, 0.3));\n",
              "      fill: #FFFFFF;\n",
              "    }\n",
              "  </style>\n",
              "\n",
              "      <script>\n",
              "        const buttonEl =\n",
              "          document.querySelector('#df-0f22b641-9991-4880-ab81-16e7ffb7cbda button.colab-df-convert');\n",
              "        buttonEl.style.display =\n",
              "          google.colab.kernel.accessAllowed ? 'block' : 'none';\n",
              "\n",
              "        async function convertToInteractive(key) {\n",
              "          const element = document.querySelector('#df-0f22b641-9991-4880-ab81-16e7ffb7cbda');\n",
              "          const dataTable =\n",
              "            await google.colab.kernel.invokeFunction('convertToInteractive',\n",
              "                                                     [key], {});\n",
              "          if (!dataTable) return;\n",
              "\n",
              "          const docLinkHtml = 'Like what you see? Visit the ' +\n",
              "            '<a target=\"_blank\" href=https://colab.research.google.com/notebooks/data_table.ipynb>data table notebook</a>'\n",
              "            + ' to learn more about interactive tables.';\n",
              "          element.innerHTML = '';\n",
              "          dataTable['output_type'] = 'display_data';\n",
              "          await google.colab.output.renderOutput(dataTable, element);\n",
              "          const docLink = document.createElement('div');\n",
              "          docLink.innerHTML = docLinkHtml;\n",
              "          element.appendChild(docLink);\n",
              "        }\n",
              "      </script>\n",
              "    </div>\n",
              "  </div>\n",
              "  "
            ]
          },
          "metadata": {},
          "execution_count": 31
        }
      ],
      "source": [
        "# Building the dataframe for above recommendations with columns \"song_id\" and \"predicted_ratings\"\n",
        "pd.DataFrame(recommendations, columns = ['song_id', 'predicted_ratings'])"
      ]
    },
    {
      "cell_type": "markdown",
      "source": [
        "💡 **Observations and Insights:**\n",
        "\n",
        "\n",
        "*    After adding input paramaters I was able to compute a list of song_ids with their predicted ratings\n",
        "*   This is still using a user-user, so this is comparing data from similiar users listened to songs and provided recommendations based on this"
      ],
      "metadata": {
        "id": "kyhThMOttWjj"
      }
    },
    {
      "cell_type": "markdown",
      "metadata": {
        "id": "ghwEJY2e7INB"
      },
      "source": [
        "### Correcting the play_counts and Ranking the above songs"
      ]
    },
    {
      "cell_type": "code",
      "execution_count": null,
      "metadata": {
        "id": "39Hs7ZbO9v3O"
      },
      "outputs": [],
      "source": [
        "def ranking_songs(recommendations, final_rating):\n",
        "  # Sort the songs based on play counts\n",
        "  ranked_songs = final_rating.loc[[items[0] for items in recommendations]].sort_values('play_freq', ascending = False)[['play_freq']].reset_index()\n",
        "\n",
        "  # Merge with the recommended songs to get predicted play_count\n",
        "  ranked_songs = ranked_songs.merge(pd.DataFrame(recommendations, columns = ['song_id', 'predicted_ratings']), on = 'song_id', how = 'inner')\n",
        "\n",
        "  # Rank the songs based on corrected play_counts\n",
        "  ranked_songs['corrected_ratings'] = ranked_songs['predicted_ratings'] - 1 / np.sqrt(ranked_songs['play_freq'])\n",
        "\n",
        "  # Sort the songs based on corrected play_counts\n",
        "  ranked_songs = ranked_songs.sort_values('corrected_ratings', ascending = False)\n",
        "  \n",
        "  return ranked_songs\n",
        "  print()"
      ]
    },
    {
      "cell_type": "markdown",
      "source": [
        "**Think About It:** In the above function to correct the predicted play_count a quantity 1/np.sqrt(n) is subtracted. What is the intuition behind it? Is it also possible to add this quantity instead of subtracting?"
      ],
      "metadata": {
        "id": "zQvst41lOoMX"
      }
    },
    {
      "cell_type": "code",
      "execution_count": null,
      "metadata": {
        "id": "xoiAL_vH8miC",
        "colab": {
          "base_uri": "https://localhost:8080/",
          "height": 206
        },
        "outputId": "bde67c21-0f0c-44be-81e6-ca2f02493f7f"
      },
      "outputs": [
        {
          "output_type": "execute_result",
          "data": {
            "text/plain": [
              "              song_id  play_freq  predicted_ratings  corrected_ratings\n",
              "3  SOSJSSU12A6D4F8F41        107           3.672605           3.575932\n",
              "0  SONYKOW12AB01849C9        618           2.553335           2.513109\n",
              "2  SOQGOPT12AAF3B2B27        109           2.571082           2.475299\n",
              "1  SOAUWYT12A81C206F1        411           2.518269           2.468943\n",
              "4  SOMDVSL12A6D4F7230         97           2.498731           2.397196"
            ],
            "text/html": [
              "\n",
              "  <div id=\"df-b74b93e4-58e4-4ffa-baf4-98014fff49da\">\n",
              "    <div class=\"colab-df-container\">\n",
              "      <div>\n",
              "<style scoped>\n",
              "    .dataframe tbody tr th:only-of-type {\n",
              "        vertical-align: middle;\n",
              "    }\n",
              "\n",
              "    .dataframe tbody tr th {\n",
              "        vertical-align: top;\n",
              "    }\n",
              "\n",
              "    .dataframe thead th {\n",
              "        text-align: right;\n",
              "    }\n",
              "</style>\n",
              "<table border=\"1\" class=\"dataframe\">\n",
              "  <thead>\n",
              "    <tr style=\"text-align: right;\">\n",
              "      <th></th>\n",
              "      <th>song_id</th>\n",
              "      <th>play_freq</th>\n",
              "      <th>predicted_ratings</th>\n",
              "      <th>corrected_ratings</th>\n",
              "    </tr>\n",
              "  </thead>\n",
              "  <tbody>\n",
              "    <tr>\n",
              "      <th>3</th>\n",
              "      <td>SOSJSSU12A6D4F8F41</td>\n",
              "      <td>107</td>\n",
              "      <td>3.672605</td>\n",
              "      <td>3.575932</td>\n",
              "    </tr>\n",
              "    <tr>\n",
              "      <th>0</th>\n",
              "      <td>SONYKOW12AB01849C9</td>\n",
              "      <td>618</td>\n",
              "      <td>2.553335</td>\n",
              "      <td>2.513109</td>\n",
              "    </tr>\n",
              "    <tr>\n",
              "      <th>2</th>\n",
              "      <td>SOQGOPT12AAF3B2B27</td>\n",
              "      <td>109</td>\n",
              "      <td>2.571082</td>\n",
              "      <td>2.475299</td>\n",
              "    </tr>\n",
              "    <tr>\n",
              "      <th>1</th>\n",
              "      <td>SOAUWYT12A81C206F1</td>\n",
              "      <td>411</td>\n",
              "      <td>2.518269</td>\n",
              "      <td>2.468943</td>\n",
              "    </tr>\n",
              "    <tr>\n",
              "      <th>4</th>\n",
              "      <td>SOMDVSL12A6D4F7230</td>\n",
              "      <td>97</td>\n",
              "      <td>2.498731</td>\n",
              "      <td>2.397196</td>\n",
              "    </tr>\n",
              "  </tbody>\n",
              "</table>\n",
              "</div>\n",
              "      <button class=\"colab-df-convert\" onclick=\"convertToInteractive('df-b74b93e4-58e4-4ffa-baf4-98014fff49da')\"\n",
              "              title=\"Convert this dataframe to an interactive table.\"\n",
              "              style=\"display:none;\">\n",
              "        \n",
              "  <svg xmlns=\"http://www.w3.org/2000/svg\" height=\"24px\"viewBox=\"0 0 24 24\"\n",
              "       width=\"24px\">\n",
              "    <path d=\"M0 0h24v24H0V0z\" fill=\"none\"/>\n",
              "    <path d=\"M18.56 5.44l.94 2.06.94-2.06 2.06-.94-2.06-.94-.94-2.06-.94 2.06-2.06.94zm-11 1L8.5 8.5l.94-2.06 2.06-.94-2.06-.94L8.5 2.5l-.94 2.06-2.06.94zm10 10l.94 2.06.94-2.06 2.06-.94-2.06-.94-.94-2.06-.94 2.06-2.06.94z\"/><path d=\"M17.41 7.96l-1.37-1.37c-.4-.4-.92-.59-1.43-.59-.52 0-1.04.2-1.43.59L10.3 9.45l-7.72 7.72c-.78.78-.78 2.05 0 2.83L4 21.41c.39.39.9.59 1.41.59.51 0 1.02-.2 1.41-.59l7.78-7.78 2.81-2.81c.8-.78.8-2.07 0-2.86zM5.41 20L4 18.59l7.72-7.72 1.47 1.35L5.41 20z\"/>\n",
              "  </svg>\n",
              "      </button>\n",
              "      \n",
              "  <style>\n",
              "    .colab-df-container {\n",
              "      display:flex;\n",
              "      flex-wrap:wrap;\n",
              "      gap: 12px;\n",
              "    }\n",
              "\n",
              "    .colab-df-convert {\n",
              "      background-color: #E8F0FE;\n",
              "      border: none;\n",
              "      border-radius: 50%;\n",
              "      cursor: pointer;\n",
              "      display: none;\n",
              "      fill: #1967D2;\n",
              "      height: 32px;\n",
              "      padding: 0 0 0 0;\n",
              "      width: 32px;\n",
              "    }\n",
              "\n",
              "    .colab-df-convert:hover {\n",
              "      background-color: #E2EBFA;\n",
              "      box-shadow: 0px 1px 2px rgba(60, 64, 67, 0.3), 0px 1px 3px 1px rgba(60, 64, 67, 0.15);\n",
              "      fill: #174EA6;\n",
              "    }\n",
              "\n",
              "    [theme=dark] .colab-df-convert {\n",
              "      background-color: #3B4455;\n",
              "      fill: #D2E3FC;\n",
              "    }\n",
              "\n",
              "    [theme=dark] .colab-df-convert:hover {\n",
              "      background-color: #434B5C;\n",
              "      box-shadow: 0px 1px 3px 1px rgba(0, 0, 0, 0.15);\n",
              "      filter: drop-shadow(0px 1px 2px rgba(0, 0, 0, 0.3));\n",
              "      fill: #FFFFFF;\n",
              "    }\n",
              "  </style>\n",
              "\n",
              "      <script>\n",
              "        const buttonEl =\n",
              "          document.querySelector('#df-b74b93e4-58e4-4ffa-baf4-98014fff49da button.colab-df-convert');\n",
              "        buttonEl.style.display =\n",
              "          google.colab.kernel.accessAllowed ? 'block' : 'none';\n",
              "\n",
              "        async function convertToInteractive(key) {\n",
              "          const element = document.querySelector('#df-b74b93e4-58e4-4ffa-baf4-98014fff49da');\n",
              "          const dataTable =\n",
              "            await google.colab.kernel.invokeFunction('convertToInteractive',\n",
              "                                                     [key], {});\n",
              "          if (!dataTable) return;\n",
              "\n",
              "          const docLinkHtml = 'Like what you see? Visit the ' +\n",
              "            '<a target=\"_blank\" href=https://colab.research.google.com/notebooks/data_table.ipynb>data table notebook</a>'\n",
              "            + ' to learn more about interactive tables.';\n",
              "          element.innerHTML = '';\n",
              "          dataTable['output_type'] = 'display_data';\n",
              "          await google.colab.output.renderOutput(dataTable, element);\n",
              "          const docLink = document.createElement('div');\n",
              "          docLink.innerHTML = docLinkHtml;\n",
              "          element.appendChild(docLink);\n",
              "        }\n",
              "      </script>\n",
              "    </div>\n",
              "  </div>\n",
              "  "
            ]
          },
          "metadata": {},
          "execution_count": 33
        }
      ],
      "source": [
        "# Applying the ranking_songs function on the final_play data\n",
        "ranking_songs(recommendations, final_play)"
      ]
    },
    {
      "cell_type": "markdown",
      "source": [
        "💡 **Observations and Insights:**\n",
        "\n",
        "*   Predicted ratings in this model are higher than the actual rating\n",
        "*    Its interesting to note that these song_ids are supposed to be the top n songs. Howevever, I argue that the actual ratings of theses songs are lower than what I would expect. I originally thought that users would have top songs that they play over and over but as you notice song _id SONYKOW12AB01849C9 is played roughly 618 times with a predicted rating of 2.55 and actual rating of 2.51\n",
        "\n",
        "\n"
      ],
      "metadata": {
        "id": "KOwwGsH8toLG"
      }
    },
    {
      "cell_type": "markdown",
      "metadata": {
        "id": "QgbzJKk7Tsnr"
      },
      "source": [
        "### Item Item Similarity-based collaborative filtering recommendation systems "
      ]
    },
    {
      "cell_type": "code",
      "execution_count": null,
      "metadata": {
        "id": "W5RMcdzjTsns",
        "scrolled": false,
        "colab": {
          "base_uri": "https://localhost:8080/"
        },
        "outputId": "0399882c-8e22-432f-e428-901635561c7a"
      },
      "outputs": [
        {
          "output_type": "stream",
          "name": "stdout",
          "text": [
            "Computing the cosine similarity matrix...\n",
            "Done computing similarity matrix.\n",
            "RMSE: 1.0394\n",
            "Precision:  0.307\n",
            "Recall:  0.562\n",
            "F_1 score:  0.397\n"
          ]
        }
      ],
      "source": [
        "# Apply the item-item similarity collaborative filtering model with random_state = 1 and evaluate the model performance\n",
        "# Declaring the similarity options\n",
        "sim_options = {'name': 'cosine',\n",
        "               'user_based': False}\n",
        "\n",
        "# KNN algorithm is used to find desired similar items\n",
        "sim_item_item = KNNBasic(sim_options = sim_options, random_state = 1, verbose = True)\n",
        "\n",
        "# Train the algorithm on the trainset, and predict ratings for the test set\n",
        "sim_item_item.fit(trainset)\n",
        "\n",
        "# Let us compute precision@k, recall@k, and f_1 score with k = 10\n",
        "precision_recall_at_k(sim_item_item)"
      ]
    },
    {
      "cell_type": "markdown",
      "source": [
        "💡 **Observations and Insights:**\n",
        "\n",
        "*   Root mean square error (RMSE) is 0.9576 meaning our algorithm worked but could be better. \n",
        "*   The precision is 0.307 meaning that out of the recommended items 0.307 were relevant to the user. \n",
        "*   The recall is 0.562 meaning that out of the relevant products 0.562 products are recommended.\n",
        "*  With an F_1 score of 0.397 which is representative of both recall and precision.\n",
        "*  Based on the F_1 score this model is not great"
      ],
      "metadata": {
        "id": "JfdIJ6XWunx0"
      }
    },
    {
      "cell_type": "code",
      "execution_count": null,
      "metadata": {
        "id": "5yILOxXRTsns",
        "colab": {
          "base_uri": "https://localhost:8080/"
        },
        "outputId": "61860b92-f155-4ce3-a23a-4bc068b4ef4c"
      },
      "outputs": [
        {
          "output_type": "stream",
          "name": "stdout",
          "text": [
            "user: 6958       item: 1671       r_ui = 2.00   est = 1.70   {'was_impossible': True, 'reason': 'User and/or item is unknown.'}\n"
          ]
        },
        {
          "output_type": "execute_result",
          "data": {
            "text/plain": [
              "Prediction(uid='6958', iid='1671', r_ui=2, est=1.6989607635206787, details={'was_impossible': True, 'reason': 'User and/or item is unknown.'})"
            ]
          },
          "metadata": {},
          "execution_count": 35
        }
      ],
      "source": [
        "# Predicting play count for a sample user_id 6958 and song (with song_id 1671) heard by the user\n",
        "sim_item_item.predict(\"6958\", \"1671\", r_ui =2, verbose = True)"
      ]
    },
    {
      "cell_type": "code",
      "source": [
        "# Predict the play count for a user that has not listened to the song (with song_id 1671)\n",
        "sim_item_item.predict(\"6958\", \"3232\",  verbose = True) # Use user_id 6958 and song_id 3232"
      ],
      "metadata": {
        "id": "jSn8oK3JZsTc",
        "colab": {
          "base_uri": "https://localhost:8080/"
        },
        "outputId": "758e2ff5-56a9-4458-bbc7-90a03038a27c"
      },
      "execution_count": null,
      "outputs": [
        {
          "output_type": "stream",
          "name": "stdout",
          "text": [
            "user: 6958       item: 3232       r_ui = None   est = 1.70   {'was_impossible': True, 'reason': 'User and/or item is unknown.'}\n"
          ]
        },
        {
          "output_type": "execute_result",
          "data": {
            "text/plain": [
              "Prediction(uid='6958', iid='3232', r_ui=None, est=1.6989607635206787, details={'was_impossible': True, 'reason': 'User and/or item is unknown.'})"
            ]
          },
          "metadata": {},
          "execution_count": 36
        }
      ]
    },
    {
      "cell_type": "markdown",
      "source": [
        "💡 **Observations and Insights:**\n",
        "\n",
        "*    The predicted rate compared to r_ui is 1.70 this is the same predicted rate as song_id 3232 for the same user  "
      ],
      "metadata": {
        "id": "dxE9fJ8Dupby"
      }
    },
    {
      "cell_type": "code",
      "execution_count": null,
      "metadata": {
        "id": "f5bcZ3HgTsnt"
      },
      "outputs": [],
      "source": [
        "# Apply grid search for enhancing model performance\n",
        "\n",
        "# Setting up parameter grid to tune the hyperparameters\n",
        "param_grid = {'k': [10, 20, 30], 'min_k': [3, 6, 9],\n",
        "              'sim_options': {'name': [\"cosine\", 'pearson', \"pearson_baseline\"],\n",
        "                              'user_based': [False], \"min_support\": [2, 4]}\n",
        "              }\n",
        "\n",
        "# Performing 3-fold cross-validation to tune the hyperparameters\n",
        "gs = GridSearchCV(KNNBasic, param_grid, measures = ['rmse'], cv = 3, n_jobs = -1)\n",
        "\n",
        "# Fitting the data\n",
        "gs.fit(data)\n",
        "\n",
        "# Find the best RMSE score\n",
        "print(gs.best_score['rmse'])\n",
        "\n",
        "# Extract the combination of parameters that gave the best RMSE score\n",
        "print(gs.best_params['rmse'])"
      ]
    },
    {
      "cell_type": "markdown",
      "source": [
        "**Think About It:** How do the parameters affect the performance of the model? Can we improve the performance of the model further? Check the list of hyperparameters [here](https://surprise.readthedocs.io/en/stable/knn_inspired.html)."
      ],
      "metadata": {
        "id": "SXLxjLEQYvWk"
      }
    },
    {
      "cell_type": "code",
      "execution_count": null,
      "metadata": {
        "id": "dSeiM1qeTsnt",
        "colab": {
          "base_uri": "https://localhost:8080/"
        },
        "outputId": "0d405523-d2c3-4374-c310-a05fc4319d36"
      },
      "outputs": [
        {
          "output_type": "stream",
          "name": "stdout",
          "text": [
            "Computing the msd similarity matrix...\n",
            "Done computing similarity matrix.\n",
            "RMSE: 1.0423\n",
            "Precision:  0.34\n",
            "Recall:  0.563\n",
            "F_1 score:  0.424\n"
          ]
        }
      ],
      "source": [
        "# Apply the best modle found in the grid search\n",
        "# Using the optimal similarity measure for item-item based collaborative filtering\n",
        "sim_options = {'name': 'msd', 'user_based': False}\n",
        "\n",
        "# Creating an instance of KNNBasic with optimal hyperparameter values\n",
        "sim_item_item_optimized = KNNBasic(sim_options=sim_options, k =30 , min_k =6, random_state = 1, verbose = True)\n",
        "\n",
        "# Training the algorithm on the trainset\n",
        "sim_item_item_optimized.fit(trainset)\n",
        "\n",
        "# Let us compute precision@k and recall@k, f1_score and RMSE\n",
        "precision_recall_at_k(sim_item_item_optimized)"
      ]
    },
    {
      "cell_type": "markdown",
      "source": [
        "💡 **Observations and Insights:**\n",
        "\n",
        "\n",
        "*   Root mean square error (RMSE) is 1.0423 \n",
        "*   The precision is 0.34 meaning that out of the recommended items 0.34 were relevant to the user. \n",
        "*   The recall is 0.563 meaning that out of the relevant products 0.563 products are recommended.\n",
        "*  With an F_1 score of 0.424 which is representative of both recall and precision."
      ],
      "metadata": {
        "id": "XxXelRIluvfh"
      }
    },
    {
      "cell_type": "code",
      "execution_count": null,
      "metadata": {
        "id": "gIBRRvdoTsnt",
        "colab": {
          "base_uri": "https://localhost:8080/"
        },
        "outputId": "e23b8bbc-d6fd-4720-8903-2b0aab03ea2c"
      },
      "outputs": [
        {
          "output_type": "stream",
          "name": "stdout",
          "text": [
            "user: 6958       item: 1671       r_ui = None   est = 1.70   {'was_impossible': True, 'reason': 'User and/or item is unknown.'}\n"
          ]
        },
        {
          "output_type": "execute_result",
          "data": {
            "text/plain": [
              "Prediction(uid='6958', iid='1671', r_ui=None, est=1.6989607635206787, details={'was_impossible': True, 'reason': 'User and/or item is unknown.'})"
            ]
          },
          "metadata": {},
          "execution_count": 39
        }
      ],
      "source": [
        "# Predict the play_count by a user(user_id 6958) for the song (song_id 1671)\n",
        "sim_item_item_optimized.predict(\"6958\", \"1671\", verbose = True)"
      ]
    },
    {
      "cell_type": "code",
      "execution_count": null,
      "metadata": {
        "id": "LNEgcI9PTsnu",
        "colab": {
          "base_uri": "https://localhost:8080/"
        },
        "outputId": "068795bd-ef48-4c01-eb23-72d7c9b54289"
      },
      "outputs": [
        {
          "output_type": "stream",
          "name": "stdout",
          "text": [
            "user: 6958       item: 3232       r_ui = None   est = 1.70   {'was_impossible': True, 'reason': 'User and/or item is unknown.'}\n"
          ]
        },
        {
          "output_type": "execute_result",
          "data": {
            "text/plain": [
              "Prediction(uid='6958', iid='3232', r_ui=None, est=1.6989607635206787, details={'was_impossible': True, 'reason': 'User and/or item is unknown.'})"
            ]
          },
          "metadata": {},
          "execution_count": 40
        }
      ],
      "source": [
        "# Predicting play count for a sample user_id 6958 with song_id 3232 which is not heard by the user\n",
        "sim_item_item_optimized.predict(\"6958\", \"3232\", verbose = True)"
      ]
    },
    {
      "cell_type": "code",
      "execution_count": null,
      "metadata": {
        "id": "ZRJS4oDFTsnu",
        "colab": {
          "base_uri": "https://localhost:8080/"
        },
        "outputId": "abc6c966-0ffa-45da-9977-a3a496688b94"
      },
      "outputs": [
        {
          "output_type": "execute_result",
          "data": {
            "text/plain": [
              "[3, 10, 24, 30, 36]"
            ]
          },
          "metadata": {},
          "execution_count": 41
        }
      ],
      "source": [
        "# Find five most similar items to the item with inner id 0\n",
        "sim_item_item_optimized.get_neighbors(0, k = 5)"
      ]
    },
    {
      "cell_type": "code",
      "execution_count": null,
      "metadata": {
        "id": "rzoEbuZFTsnu"
      },
      "outputs": [],
      "source": [
        "# Making top 5 recommendations for user_id 6958 with item_item_similarity-based recommendation engine\n",
        "recommendations = get_recommendations(df_final, 6958, 5, sim_item_item_optimized)"
      ]
    },
    {
      "cell_type": "code",
      "execution_count": null,
      "metadata": {
        "id": "_kXVTiysTsnv",
        "colab": {
          "base_uri": "https://localhost:8080/",
          "height": 206
        },
        "outputId": "57210a20-86ca-46bb-e967-d3196133befd"
      },
      "outputs": [
        {
          "output_type": "execute_result",
          "data": {
            "text/plain": [
              "              song_id  predicted_play_count\n",
              "0  SOZVVRE12A8C143150              2.048219\n",
              "1  SOHEMBB12A6701E907              1.949116\n",
              "2  SOHRQFL12A6D4F3C8A              1.885211\n",
              "3  SOMLYJD12A58A7B155              1.771190\n",
              "4  SOEHWGF12A6D4F8B2B              1.743513"
            ],
            "text/html": [
              "\n",
              "  <div id=\"df-2f46a790-8c15-4604-9d6b-d2aa34d8bf84\">\n",
              "    <div class=\"colab-df-container\">\n",
              "      <div>\n",
              "<style scoped>\n",
              "    .dataframe tbody tr th:only-of-type {\n",
              "        vertical-align: middle;\n",
              "    }\n",
              "\n",
              "    .dataframe tbody tr th {\n",
              "        vertical-align: top;\n",
              "    }\n",
              "\n",
              "    .dataframe thead th {\n",
              "        text-align: right;\n",
              "    }\n",
              "</style>\n",
              "<table border=\"1\" class=\"dataframe\">\n",
              "  <thead>\n",
              "    <tr style=\"text-align: right;\">\n",
              "      <th></th>\n",
              "      <th>song_id</th>\n",
              "      <th>predicted_play_count</th>\n",
              "    </tr>\n",
              "  </thead>\n",
              "  <tbody>\n",
              "    <tr>\n",
              "      <th>0</th>\n",
              "      <td>SOZVVRE12A8C143150</td>\n",
              "      <td>2.048219</td>\n",
              "    </tr>\n",
              "    <tr>\n",
              "      <th>1</th>\n",
              "      <td>SOHEMBB12A6701E907</td>\n",
              "      <td>1.949116</td>\n",
              "    </tr>\n",
              "    <tr>\n",
              "      <th>2</th>\n",
              "      <td>SOHRQFL12A6D4F3C8A</td>\n",
              "      <td>1.885211</td>\n",
              "    </tr>\n",
              "    <tr>\n",
              "      <th>3</th>\n",
              "      <td>SOMLYJD12A58A7B155</td>\n",
              "      <td>1.771190</td>\n",
              "    </tr>\n",
              "    <tr>\n",
              "      <th>4</th>\n",
              "      <td>SOEHWGF12A6D4F8B2B</td>\n",
              "      <td>1.743513</td>\n",
              "    </tr>\n",
              "  </tbody>\n",
              "</table>\n",
              "</div>\n",
              "      <button class=\"colab-df-convert\" onclick=\"convertToInteractive('df-2f46a790-8c15-4604-9d6b-d2aa34d8bf84')\"\n",
              "              title=\"Convert this dataframe to an interactive table.\"\n",
              "              style=\"display:none;\">\n",
              "        \n",
              "  <svg xmlns=\"http://www.w3.org/2000/svg\" height=\"24px\"viewBox=\"0 0 24 24\"\n",
              "       width=\"24px\">\n",
              "    <path d=\"M0 0h24v24H0V0z\" fill=\"none\"/>\n",
              "    <path d=\"M18.56 5.44l.94 2.06.94-2.06 2.06-.94-2.06-.94-.94-2.06-.94 2.06-2.06.94zm-11 1L8.5 8.5l.94-2.06 2.06-.94-2.06-.94L8.5 2.5l-.94 2.06-2.06.94zm10 10l.94 2.06.94-2.06 2.06-.94-2.06-.94-.94-2.06-.94 2.06-2.06.94z\"/><path d=\"M17.41 7.96l-1.37-1.37c-.4-.4-.92-.59-1.43-.59-.52 0-1.04.2-1.43.59L10.3 9.45l-7.72 7.72c-.78.78-.78 2.05 0 2.83L4 21.41c.39.39.9.59 1.41.59.51 0 1.02-.2 1.41-.59l7.78-7.78 2.81-2.81c.8-.78.8-2.07 0-2.86zM5.41 20L4 18.59l7.72-7.72 1.47 1.35L5.41 20z\"/>\n",
              "  </svg>\n",
              "      </button>\n",
              "      \n",
              "  <style>\n",
              "    .colab-df-container {\n",
              "      display:flex;\n",
              "      flex-wrap:wrap;\n",
              "      gap: 12px;\n",
              "    }\n",
              "\n",
              "    .colab-df-convert {\n",
              "      background-color: #E8F0FE;\n",
              "      border: none;\n",
              "      border-radius: 50%;\n",
              "      cursor: pointer;\n",
              "      display: none;\n",
              "      fill: #1967D2;\n",
              "      height: 32px;\n",
              "      padding: 0 0 0 0;\n",
              "      width: 32px;\n",
              "    }\n",
              "\n",
              "    .colab-df-convert:hover {\n",
              "      background-color: #E2EBFA;\n",
              "      box-shadow: 0px 1px 2px rgba(60, 64, 67, 0.3), 0px 1px 3px 1px rgba(60, 64, 67, 0.15);\n",
              "      fill: #174EA6;\n",
              "    }\n",
              "\n",
              "    [theme=dark] .colab-df-convert {\n",
              "      background-color: #3B4455;\n",
              "      fill: #D2E3FC;\n",
              "    }\n",
              "\n",
              "    [theme=dark] .colab-df-convert:hover {\n",
              "      background-color: #434B5C;\n",
              "      box-shadow: 0px 1px 3px 1px rgba(0, 0, 0, 0.15);\n",
              "      filter: drop-shadow(0px 1px 2px rgba(0, 0, 0, 0.3));\n",
              "      fill: #FFFFFF;\n",
              "    }\n",
              "  </style>\n",
              "\n",
              "      <script>\n",
              "        const buttonEl =\n",
              "          document.querySelector('#df-2f46a790-8c15-4604-9d6b-d2aa34d8bf84 button.colab-df-convert');\n",
              "        buttonEl.style.display =\n",
              "          google.colab.kernel.accessAllowed ? 'block' : 'none';\n",
              "\n",
              "        async function convertToInteractive(key) {\n",
              "          const element = document.querySelector('#df-2f46a790-8c15-4604-9d6b-d2aa34d8bf84');\n",
              "          const dataTable =\n",
              "            await google.colab.kernel.invokeFunction('convertToInteractive',\n",
              "                                                     [key], {});\n",
              "          if (!dataTable) return;\n",
              "\n",
              "          const docLinkHtml = 'Like what you see? Visit the ' +\n",
              "            '<a target=\"_blank\" href=https://colab.research.google.com/notebooks/data_table.ipynb>data table notebook</a>'\n",
              "            + ' to learn more about interactive tables.';\n",
              "          element.innerHTML = '';\n",
              "          dataTable['output_type'] = 'display_data';\n",
              "          await google.colab.output.renderOutput(dataTable, element);\n",
              "          const docLink = document.createElement('div');\n",
              "          docLink.innerHTML = docLinkHtml;\n",
              "          element.appendChild(docLink);\n",
              "        }\n",
              "      </script>\n",
              "    </div>\n",
              "  </div>\n",
              "  "
            ]
          },
          "metadata": {},
          "execution_count": 43
        }
      ],
      "source": [
        "# Building the dataframe for above recommendations with columns \"song_id\" and \"predicted_play_count\"\n",
        "pd.DataFrame(recommendations, columns = ['song_id', 'predicted_play_count'])"
      ]
    },
    {
      "cell_type": "code",
      "execution_count": null,
      "metadata": {
        "id": "7gewfmTATsnv",
        "colab": {
          "base_uri": "https://localhost:8080/",
          "height": 206
        },
        "outputId": "4d5f3e97-fbb1-438c-f55f-ed8447f44742"
      },
      "outputs": [
        {
          "output_type": "execute_result",
          "data": {
            "text/plain": [
              "              song_id  play_freq  predicted_ratings  corrected_ratings\n",
              "3  SOZVVRE12A8C143150        150           2.048219           1.966570\n",
              "2  SOHEMBB12A6701E907        232           1.949116           1.883463\n",
              "1  SOHRQFL12A6D4F3C8A        233           1.885211           1.819698\n",
              "4  SOMLYJD12A58A7B155        133           1.771190           1.684479\n",
              "0  SOEHWGF12A6D4F8B2B        249           1.743513           1.680140"
            ],
            "text/html": [
              "\n",
              "  <div id=\"df-15efceeb-1974-4896-862b-d789022a7698\">\n",
              "    <div class=\"colab-df-container\">\n",
              "      <div>\n",
              "<style scoped>\n",
              "    .dataframe tbody tr th:only-of-type {\n",
              "        vertical-align: middle;\n",
              "    }\n",
              "\n",
              "    .dataframe tbody tr th {\n",
              "        vertical-align: top;\n",
              "    }\n",
              "\n",
              "    .dataframe thead th {\n",
              "        text-align: right;\n",
              "    }\n",
              "</style>\n",
              "<table border=\"1\" class=\"dataframe\">\n",
              "  <thead>\n",
              "    <tr style=\"text-align: right;\">\n",
              "      <th></th>\n",
              "      <th>song_id</th>\n",
              "      <th>play_freq</th>\n",
              "      <th>predicted_ratings</th>\n",
              "      <th>corrected_ratings</th>\n",
              "    </tr>\n",
              "  </thead>\n",
              "  <tbody>\n",
              "    <tr>\n",
              "      <th>3</th>\n",
              "      <td>SOZVVRE12A8C143150</td>\n",
              "      <td>150</td>\n",
              "      <td>2.048219</td>\n",
              "      <td>1.966570</td>\n",
              "    </tr>\n",
              "    <tr>\n",
              "      <th>2</th>\n",
              "      <td>SOHEMBB12A6701E907</td>\n",
              "      <td>232</td>\n",
              "      <td>1.949116</td>\n",
              "      <td>1.883463</td>\n",
              "    </tr>\n",
              "    <tr>\n",
              "      <th>1</th>\n",
              "      <td>SOHRQFL12A6D4F3C8A</td>\n",
              "      <td>233</td>\n",
              "      <td>1.885211</td>\n",
              "      <td>1.819698</td>\n",
              "    </tr>\n",
              "    <tr>\n",
              "      <th>4</th>\n",
              "      <td>SOMLYJD12A58A7B155</td>\n",
              "      <td>133</td>\n",
              "      <td>1.771190</td>\n",
              "      <td>1.684479</td>\n",
              "    </tr>\n",
              "    <tr>\n",
              "      <th>0</th>\n",
              "      <td>SOEHWGF12A6D4F8B2B</td>\n",
              "      <td>249</td>\n",
              "      <td>1.743513</td>\n",
              "      <td>1.680140</td>\n",
              "    </tr>\n",
              "  </tbody>\n",
              "</table>\n",
              "</div>\n",
              "      <button class=\"colab-df-convert\" onclick=\"convertToInteractive('df-15efceeb-1974-4896-862b-d789022a7698')\"\n",
              "              title=\"Convert this dataframe to an interactive table.\"\n",
              "              style=\"display:none;\">\n",
              "        \n",
              "  <svg xmlns=\"http://www.w3.org/2000/svg\" height=\"24px\"viewBox=\"0 0 24 24\"\n",
              "       width=\"24px\">\n",
              "    <path d=\"M0 0h24v24H0V0z\" fill=\"none\"/>\n",
              "    <path d=\"M18.56 5.44l.94 2.06.94-2.06 2.06-.94-2.06-.94-.94-2.06-.94 2.06-2.06.94zm-11 1L8.5 8.5l.94-2.06 2.06-.94-2.06-.94L8.5 2.5l-.94 2.06-2.06.94zm10 10l.94 2.06.94-2.06 2.06-.94-2.06-.94-.94-2.06-.94 2.06-2.06.94z\"/><path d=\"M17.41 7.96l-1.37-1.37c-.4-.4-.92-.59-1.43-.59-.52 0-1.04.2-1.43.59L10.3 9.45l-7.72 7.72c-.78.78-.78 2.05 0 2.83L4 21.41c.39.39.9.59 1.41.59.51 0 1.02-.2 1.41-.59l7.78-7.78 2.81-2.81c.8-.78.8-2.07 0-2.86zM5.41 20L4 18.59l7.72-7.72 1.47 1.35L5.41 20z\"/>\n",
              "  </svg>\n",
              "      </button>\n",
              "      \n",
              "  <style>\n",
              "    .colab-df-container {\n",
              "      display:flex;\n",
              "      flex-wrap:wrap;\n",
              "      gap: 12px;\n",
              "    }\n",
              "\n",
              "    .colab-df-convert {\n",
              "      background-color: #E8F0FE;\n",
              "      border: none;\n",
              "      border-radius: 50%;\n",
              "      cursor: pointer;\n",
              "      display: none;\n",
              "      fill: #1967D2;\n",
              "      height: 32px;\n",
              "      padding: 0 0 0 0;\n",
              "      width: 32px;\n",
              "    }\n",
              "\n",
              "    .colab-df-convert:hover {\n",
              "      background-color: #E2EBFA;\n",
              "      box-shadow: 0px 1px 2px rgba(60, 64, 67, 0.3), 0px 1px 3px 1px rgba(60, 64, 67, 0.15);\n",
              "      fill: #174EA6;\n",
              "    }\n",
              "\n",
              "    [theme=dark] .colab-df-convert {\n",
              "      background-color: #3B4455;\n",
              "      fill: #D2E3FC;\n",
              "    }\n",
              "\n",
              "    [theme=dark] .colab-df-convert:hover {\n",
              "      background-color: #434B5C;\n",
              "      box-shadow: 0px 1px 3px 1px rgba(0, 0, 0, 0.15);\n",
              "      filter: drop-shadow(0px 1px 2px rgba(0, 0, 0, 0.3));\n",
              "      fill: #FFFFFF;\n",
              "    }\n",
              "  </style>\n",
              "\n",
              "      <script>\n",
              "        const buttonEl =\n",
              "          document.querySelector('#df-15efceeb-1974-4896-862b-d789022a7698 button.colab-df-convert');\n",
              "        buttonEl.style.display =\n",
              "          google.colab.kernel.accessAllowed ? 'block' : 'none';\n",
              "\n",
              "        async function convertToInteractive(key) {\n",
              "          const element = document.querySelector('#df-15efceeb-1974-4896-862b-d789022a7698');\n",
              "          const dataTable =\n",
              "            await google.colab.kernel.invokeFunction('convertToInteractive',\n",
              "                                                     [key], {});\n",
              "          if (!dataTable) return;\n",
              "\n",
              "          const docLinkHtml = 'Like what you see? Visit the ' +\n",
              "            '<a target=\"_blank\" href=https://colab.research.google.com/notebooks/data_table.ipynb>data table notebook</a>'\n",
              "            + ' to learn more about interactive tables.';\n",
              "          element.innerHTML = '';\n",
              "          dataTable['output_type'] = 'display_data';\n",
              "          await google.colab.output.renderOutput(dataTable, element);\n",
              "          const docLink = document.createElement('div');\n",
              "          docLink.innerHTML = docLinkHtml;\n",
              "          element.appendChild(docLink);\n",
              "        }\n",
              "      </script>\n",
              "    </div>\n",
              "  </div>\n",
              "  "
            ]
          },
          "metadata": {},
          "execution_count": 44
        }
      ],
      "source": [
        "# Applying the ranking_songs function\n",
        "ranking_songs(recommendations, final_play)"
      ]
    },
    {
      "cell_type": "markdown",
      "source": [
        "💡 **Observations and Insights:**\n",
        "\n",
        "*    The larger the frequency the smaller gap between predicted and corrected ratings\n",
        "*    There are not significant outliers between predicted and corrected ratings\n",
        "\n"
      ],
      "metadata": {
        "id": "Ore9XTFgv5Np"
      }
    },
    {
      "cell_type": "markdown",
      "metadata": {
        "id": "rKgJpSA9vOOL"
      },
      "source": [
        "### Model Based Collaborative Filtering - Matrix Factorization"
      ]
    },
    {
      "cell_type": "markdown",
      "source": [
        "Model-based Collaborative Filtering is a **personalized recommendation system**, the recommendations are based on the past behavior of the user and it is not dependent on any additional information. We use **latent features** to find recommendations for each user."
      ],
      "metadata": {
        "id": "hJynidJCw-ti"
      }
    },
    {
      "cell_type": "code",
      "execution_count": null,
      "metadata": {
        "id": "07-2PT5Ssjqm",
        "colab": {
          "base_uri": "https://localhost:8080/"
        },
        "outputId": "15911ad4-534b-446a-bc98-02710ef09782"
      },
      "outputs": [
        {
          "output_type": "stream",
          "name": "stdout",
          "text": [
            "RMSE: 1.0252\n",
            "Precision:  0.41\n",
            "Recall:  0.633\n",
            "F_1 score:  0.498\n"
          ]
        }
      ],
      "source": [
        "# Build baseline model using svd\n",
        "# Using SVD matrix factorization\n",
        "svd = SVD(random_state=1)\n",
        "\n",
        "# Training the algorithm on the trainset\n",
        "svd.fit(trainset)\n",
        "\n",
        "# Use the function precision_recall_at_k to compute precision@k, recall@k, F1-Score, and RMSE\n",
        "precision_recall_at_k(svd)"
      ]
    },
    {
      "cell_type": "code",
      "execution_count": null,
      "metadata": {
        "id": "yWIhfdxXsjqm",
        "colab": {
          "base_uri": "https://localhost:8080/"
        },
        "outputId": "36ee4b76-07c9-4d5f-d611-f1aab9aafc86"
      },
      "outputs": [
        {
          "output_type": "stream",
          "name": "stdout",
          "text": [
            "user: 6958       item: 1671       r_ui = 2.00   est = 1.70   {'was_impossible': False}\n"
          ]
        },
        {
          "output_type": "execute_result",
          "data": {
            "text/plain": [
              "Prediction(uid='6958', iid=1671, r_ui=2, est=1.6989607635206787, details={'was_impossible': False})"
            ]
          },
          "metadata": {},
          "execution_count": 46
        }
      ],
      "source": [
        "# Making prediction for user (with user_id 6958) to song (with song_id 1671), take r_ui = 2\n",
        "svd.predict(\"6958\", 1671, r_ui = 2, verbose = True)"
      ]
    },
    {
      "cell_type": "code",
      "execution_count": null,
      "metadata": {
        "id": "APm-uMSvcAMf",
        "colab": {
          "base_uri": "https://localhost:8080/"
        },
        "outputId": "6fb520bc-426d-477d-f6e9-607aba8b9de6"
      },
      "outputs": [
        {
          "output_type": "stream",
          "name": "stdout",
          "text": [
            "user: 6958       item: 3232       r_ui = None   est = 1.70   {'was_impossible': False}\n"
          ]
        },
        {
          "output_type": "execute_result",
          "data": {
            "text/plain": [
              "Prediction(uid='6958', iid=3232, r_ui=None, est=1.6989607635206787, details={'was_impossible': False})"
            ]
          },
          "metadata": {},
          "execution_count": 47
        }
      ],
      "source": [
        "# Making a prediction for the user who has not listened to the song (song_id 3232)\n",
        "svd.predict(\"6958\", 3232, verbose = True)"
      ]
    },
    {
      "cell_type": "markdown",
      "source": [
        "#### Improving matrix factorization based recommendation system by tuning its hyperparameters"
      ],
      "metadata": {
        "id": "23tnRUJJxWTR"
      }
    },
    {
      "cell_type": "code",
      "execution_count": null,
      "metadata": {
        "id": "4bM81V_hvtwv"
      },
      "outputs": [],
      "source": [
        "# Set the parameter space to tune\n",
        "param_grid = {'n_epochs': [10, 20, 30], 'lr_all': [0.001, 0.005, 0.01],\n",
        "              'reg_all': [0.2, 0.4, 0.6]}\n",
        "\n",
        "# Performe 3-fold grid-search cross-validation\n",
        "gs = GridSearchCV(SVD, param_grid, measures = ['rmse'], cv = 3, n_jobs = -1)\n",
        "\n",
        "# Fitting data\n",
        "gs.fit(data)\n",
        "\n",
        "# Best RMSE score\n",
        "print(gs.best_score['rmse'])\n",
        "\n",
        "# Combination of parameters that gave the best RMSE score\n",
        "print(gs.best_params['rmse'])"
      ]
    },
    {
      "cell_type": "markdown",
      "source": [
        "**Think About It**: How do the parameters affect the performance of the model? Can we improve the performance of the model further? Check the available hyperparameters [here](https://surprise.readthedocs.io/en/stable/matrix_factorization.html)."
      ],
      "metadata": {
        "id": "aSgBRcL1xnVC"
      }
    },
    {
      "cell_type": "code",
      "execution_count": null,
      "metadata": {
        "id": "TA_7xe-nnhuu",
        "colab": {
          "base_uri": "https://localhost:8080/"
        },
        "outputId": "cd82fce2-b8ab-4305-ab9b-9b3156760f78"
      },
      "outputs": [
        {
          "output_type": "stream",
          "name": "stdout",
          "text": [
            "RMSE: 1.0141\n",
            "Precision:  0.415\n",
            "Recall:  0.635\n",
            "F_1 score:  0.502\n"
          ]
        }
      ],
      "source": [
        "# Building the optimized SVD model using optimal hyperparameters\n",
        "svd_optimized = SVD(n_epochs= 30, lr_all= 0.01, reg_all= 0.2, random_state=1)\n",
        "\n",
        "# Train the algorithm on the trainset\n",
        "svd_optimized=svd_optimized.fit(trainset)\n",
        "\n",
        "# Use the function precision_recall_at_k to compute precision@k, recall@k, F1-Score, and RMSE\n",
        "precision_recall_at_k(svd_optimized)\n"
      ]
    },
    {
      "cell_type": "markdown",
      "source": [
        "💡 **Observations and Insights:**\n",
        "\n",
        "*   Root mean square error (RMSE) is 0.___\n",
        "*   The precision is ___ meaning that out of the recommended items ___ were relevant to the user. \n",
        "*   The recall is ___ meaning that out of the relevant products ___ products are recommended.\n",
        "*  With an F_1 score of ___ which is representative of both recall and precision."
      ],
      "metadata": {
        "id": "l3t5JdBmxz8l"
      }
    },
    {
      "cell_type": "code",
      "execution_count": null,
      "metadata": {
        "id": "s6C1PAfboM8_",
        "colab": {
          "base_uri": "https://localhost:8080/"
        },
        "outputId": "15b02ec7-1695-4102-c2f5-741d5ead335d"
      },
      "outputs": [
        {
          "output_type": "stream",
          "name": "stdout",
          "text": [
            "user: 6958       item: 1671       r_ui = None   est = 1.70   {'was_impossible': False}\n"
          ]
        },
        {
          "output_type": "execute_result",
          "data": {
            "text/plain": [
              "Prediction(uid='6958', iid=1671, r_ui=None, est=1.6989607635206787, details={'was_impossible': False})"
            ]
          },
          "metadata": {},
          "execution_count": 49
        }
      ],
      "source": [
        "# Using svd_algo_optimized model to recommend for userId 6958 and song_id 1671\n",
        "svd_optimized.predict('6958', 1671, verbose=True)"
      ]
    },
    {
      "cell_type": "code",
      "execution_count": null,
      "metadata": {
        "id": "k1xjn3kOoQyg",
        "colab": {
          "base_uri": "https://localhost:8080/"
        },
        "outputId": "fa3fd384-e348-42de-9a60-42a85d6c0a0a"
      },
      "outputs": [
        {
          "output_type": "stream",
          "name": "stdout",
          "text": [
            "user: 6958       item: 3232       r_ui = None   est = 1.70   {'was_impossible': False}\n"
          ]
        },
        {
          "output_type": "execute_result",
          "data": {
            "text/plain": [
              "Prediction(uid='6958', iid=3232, r_ui=None, est=1.6989607635206787, details={'was_impossible': False})"
            ]
          },
          "metadata": {},
          "execution_count": 50
        }
      ],
      "source": [
        "# Using svd_algo_optimized model to recommend for userId 6958 and song_id 3232 with unknown baseline rating\n",
        "svd_optimized.predict(\"6958\", 3232, verbose=True)"
      ]
    },
    {
      "cell_type": "markdown",
      "source": [
        "💡 **Observations and Insights:**\n",
        "\n",
        "*    Estimated rating prediction is the same for both song_ids"
      ],
      "metadata": {
        "id": "Qm732Wuvy76R"
      }
    },
    {
      "cell_type": "code",
      "execution_count": null,
      "metadata": {
        "id": "1LGeE2EB_n90"
      },
      "outputs": [],
      "source": [
        "# Getting top 5 recommendations for user_id 6958 using \"svd_optimized\" algorithm\n",
        "svd_recommendations = get_recommendations(df_final, 6958, 5, svd_optimized )"
      ]
    },
    {
      "cell_type": "code",
      "execution_count": null,
      "metadata": {
        "id": "6ngiGSJU818M",
        "colab": {
          "base_uri": "https://localhost:8080/",
          "height": 206
        },
        "outputId": "92c6ac2a-5ff4-430a-c103-f6d97f8bc6e0"
      },
      "outputs": [
        {
          "output_type": "execute_result",
          "data": {
            "text/plain": [
              "              song_id  play_freq  predicted_ratings  corrected_ratings\n",
              "2  SOSJSSU12A6D4F8F41        107           2.601899           2.505225\n",
              "1  SOOGNOZ12AAF3B2936        108           2.108728           2.012502\n",
              "4  SOVIZNF12AF72A710A         96           2.014091           1.912029\n",
              "0  SOZVVRE12A8C143150        150           1.940115           1.858465\n",
              "3  SOQGSUC12A8C13B66D        102           1.952493           1.853478"
            ],
            "text/html": [
              "\n",
              "  <div id=\"df-28b9d85f-0ba7-4b9c-81fd-5ea436f1b61f\">\n",
              "    <div class=\"colab-df-container\">\n",
              "      <div>\n",
              "<style scoped>\n",
              "    .dataframe tbody tr th:only-of-type {\n",
              "        vertical-align: middle;\n",
              "    }\n",
              "\n",
              "    .dataframe tbody tr th {\n",
              "        vertical-align: top;\n",
              "    }\n",
              "\n",
              "    .dataframe thead th {\n",
              "        text-align: right;\n",
              "    }\n",
              "</style>\n",
              "<table border=\"1\" class=\"dataframe\">\n",
              "  <thead>\n",
              "    <tr style=\"text-align: right;\">\n",
              "      <th></th>\n",
              "      <th>song_id</th>\n",
              "      <th>play_freq</th>\n",
              "      <th>predicted_ratings</th>\n",
              "      <th>corrected_ratings</th>\n",
              "    </tr>\n",
              "  </thead>\n",
              "  <tbody>\n",
              "    <tr>\n",
              "      <th>2</th>\n",
              "      <td>SOSJSSU12A6D4F8F41</td>\n",
              "      <td>107</td>\n",
              "      <td>2.601899</td>\n",
              "      <td>2.505225</td>\n",
              "    </tr>\n",
              "    <tr>\n",
              "      <th>1</th>\n",
              "      <td>SOOGNOZ12AAF3B2936</td>\n",
              "      <td>108</td>\n",
              "      <td>2.108728</td>\n",
              "      <td>2.012502</td>\n",
              "    </tr>\n",
              "    <tr>\n",
              "      <th>4</th>\n",
              "      <td>SOVIZNF12AF72A710A</td>\n",
              "      <td>96</td>\n",
              "      <td>2.014091</td>\n",
              "      <td>1.912029</td>\n",
              "    </tr>\n",
              "    <tr>\n",
              "      <th>0</th>\n",
              "      <td>SOZVVRE12A8C143150</td>\n",
              "      <td>150</td>\n",
              "      <td>1.940115</td>\n",
              "      <td>1.858465</td>\n",
              "    </tr>\n",
              "    <tr>\n",
              "      <th>3</th>\n",
              "      <td>SOQGSUC12A8C13B66D</td>\n",
              "      <td>102</td>\n",
              "      <td>1.952493</td>\n",
              "      <td>1.853478</td>\n",
              "    </tr>\n",
              "  </tbody>\n",
              "</table>\n",
              "</div>\n",
              "      <button class=\"colab-df-convert\" onclick=\"convertToInteractive('df-28b9d85f-0ba7-4b9c-81fd-5ea436f1b61f')\"\n",
              "              title=\"Convert this dataframe to an interactive table.\"\n",
              "              style=\"display:none;\">\n",
              "        \n",
              "  <svg xmlns=\"http://www.w3.org/2000/svg\" height=\"24px\"viewBox=\"0 0 24 24\"\n",
              "       width=\"24px\">\n",
              "    <path d=\"M0 0h24v24H0V0z\" fill=\"none\"/>\n",
              "    <path d=\"M18.56 5.44l.94 2.06.94-2.06 2.06-.94-2.06-.94-.94-2.06-.94 2.06-2.06.94zm-11 1L8.5 8.5l.94-2.06 2.06-.94-2.06-.94L8.5 2.5l-.94 2.06-2.06.94zm10 10l.94 2.06.94-2.06 2.06-.94-2.06-.94-.94-2.06-.94 2.06-2.06.94z\"/><path d=\"M17.41 7.96l-1.37-1.37c-.4-.4-.92-.59-1.43-.59-.52 0-1.04.2-1.43.59L10.3 9.45l-7.72 7.72c-.78.78-.78 2.05 0 2.83L4 21.41c.39.39.9.59 1.41.59.51 0 1.02-.2 1.41-.59l7.78-7.78 2.81-2.81c.8-.78.8-2.07 0-2.86zM5.41 20L4 18.59l7.72-7.72 1.47 1.35L5.41 20z\"/>\n",
              "  </svg>\n",
              "      </button>\n",
              "      \n",
              "  <style>\n",
              "    .colab-df-container {\n",
              "      display:flex;\n",
              "      flex-wrap:wrap;\n",
              "      gap: 12px;\n",
              "    }\n",
              "\n",
              "    .colab-df-convert {\n",
              "      background-color: #E8F0FE;\n",
              "      border: none;\n",
              "      border-radius: 50%;\n",
              "      cursor: pointer;\n",
              "      display: none;\n",
              "      fill: #1967D2;\n",
              "      height: 32px;\n",
              "      padding: 0 0 0 0;\n",
              "      width: 32px;\n",
              "    }\n",
              "\n",
              "    .colab-df-convert:hover {\n",
              "      background-color: #E2EBFA;\n",
              "      box-shadow: 0px 1px 2px rgba(60, 64, 67, 0.3), 0px 1px 3px 1px rgba(60, 64, 67, 0.15);\n",
              "      fill: #174EA6;\n",
              "    }\n",
              "\n",
              "    [theme=dark] .colab-df-convert {\n",
              "      background-color: #3B4455;\n",
              "      fill: #D2E3FC;\n",
              "    }\n",
              "\n",
              "    [theme=dark] .colab-df-convert:hover {\n",
              "      background-color: #434B5C;\n",
              "      box-shadow: 0px 1px 3px 1px rgba(0, 0, 0, 0.15);\n",
              "      filter: drop-shadow(0px 1px 2px rgba(0, 0, 0, 0.3));\n",
              "      fill: #FFFFFF;\n",
              "    }\n",
              "  </style>\n",
              "\n",
              "      <script>\n",
              "        const buttonEl =\n",
              "          document.querySelector('#df-28b9d85f-0ba7-4b9c-81fd-5ea436f1b61f button.colab-df-convert');\n",
              "        buttonEl.style.display =\n",
              "          google.colab.kernel.accessAllowed ? 'block' : 'none';\n",
              "\n",
              "        async function convertToInteractive(key) {\n",
              "          const element = document.querySelector('#df-28b9d85f-0ba7-4b9c-81fd-5ea436f1b61f');\n",
              "          const dataTable =\n",
              "            await google.colab.kernel.invokeFunction('convertToInteractive',\n",
              "                                                     [key], {});\n",
              "          if (!dataTable) return;\n",
              "\n",
              "          const docLinkHtml = 'Like what you see? Visit the ' +\n",
              "            '<a target=\"_blank\" href=https://colab.research.google.com/notebooks/data_table.ipynb>data table notebook</a>'\n",
              "            + ' to learn more about interactive tables.';\n",
              "          element.innerHTML = '';\n",
              "          dataTable['output_type'] = 'display_data';\n",
              "          await google.colab.output.renderOutput(dataTable, element);\n",
              "          const docLink = document.createElement('div');\n",
              "          docLink.innerHTML = docLinkHtml;\n",
              "          element.appendChild(docLink);\n",
              "        }\n",
              "      </script>\n",
              "    </div>\n",
              "  </div>\n",
              "  "
            ]
          },
          "metadata": {},
          "execution_count": 52
        }
      ],
      "source": [
        "# Ranking songs based on above recommendations\n",
        "ranking_songs(svd_recommendations, final_play)"
      ]
    },
    {
      "cell_type": "markdown",
      "source": [
        "💡 **Observations and Insights:**\n",
        "\n",
        "*   The closest predicted rating compared to corrected rating song_id is SOZVVRE12A8C143150\n",
        "*   The larger the frequency the smaller gap between predicted and corrected ratings\n",
        "*   It would be interesting to see if we were able to calculate a confidence interval or score on the predicted ratings\n",
        "\n"
      ],
      "metadata": {
        "id": "SepUU1Efy_9Z"
      }
    },
    {
      "cell_type": "markdown",
      "metadata": {
        "id": "57b31de5"
      },
      "source": [
        "### Cluster Based Recommendation System"
      ]
    },
    {
      "cell_type": "markdown",
      "source": [
        "In **clustering-based recommendation systems**, we explore the **similarities and differences** in people's tastes in songs based on how they rate different songs. We cluster similar users together and recommend songs to a user based on play_counts from other users in the same cluster."
      ],
      "metadata": {
        "id": "9Xv2AZCszCdN"
      }
    },
    {
      "cell_type": "code",
      "execution_count": null,
      "metadata": {
        "id": "0c4b20e4",
        "colab": {
          "base_uri": "https://localhost:8080/"
        },
        "outputId": "4b090e31-d0be-4840-958f-2ecda76fc505"
      },
      "outputs": [
        {
          "output_type": "stream",
          "name": "stdout",
          "text": [
            "RMSE: 1.0487\n",
            "Precision:  0.397\n",
            "Recall:  0.582\n",
            "F_1 score:  0.472\n"
          ]
        }
      ],
      "source": [
        "# Make baseline clustering model\n",
        "# Using Co-Clustering algorithm\n",
        "clust_baseline = CoClustering(random_state = 1)\n",
        "\n",
        "# Training the algorithm on the trainset\n",
        "clust_baseline.fit(trainset)\n",
        "\n",
        "# Let us compute precision@k and recall@k with k = 10\n",
        "precision_recall_at_k(clust_baseline)"
      ]
    },
    {
      "cell_type": "code",
      "execution_count": null,
      "metadata": {
        "id": "11dbdc0f",
        "colab": {
          "base_uri": "https://localhost:8080/"
        },
        "outputId": "e00cfd8a-6a6c-468d-838e-b1a6f46e7ccd"
      },
      "outputs": [
        {
          "output_type": "stream",
          "name": "stdout",
          "text": [
            "user: 6958       item: 1671       r_ui = None   est = 1.70   {'was_impossible': False}\n"
          ]
        },
        {
          "output_type": "execute_result",
          "data": {
            "text/plain": [
              "Prediction(uid='6958', iid=1671, r_ui=None, est=1.6989607635206787, details={'was_impossible': False})"
            ]
          },
          "metadata": {},
          "execution_count": 54
        }
      ],
      "source": [
        "# Making prediction for user_id 6958 and song_id 1671\n",
        "clust_baseline.predict('6958', 1671, verbose = True)"
      ]
    },
    {
      "cell_type": "code",
      "execution_count": null,
      "metadata": {
        "id": "dab1aaed",
        "colab": {
          "base_uri": "https://localhost:8080/"
        },
        "outputId": "03a5ac47-107c-4b20-a209-01265f204a5b"
      },
      "outputs": [
        {
          "output_type": "stream",
          "name": "stdout",
          "text": [
            "user: 6958       item: 3232       r_ui = None   est = 1.70   {'was_impossible': False}\n"
          ]
        },
        {
          "output_type": "execute_result",
          "data": {
            "text/plain": [
              "Prediction(uid='6958', iid=3232, r_ui=None, est=1.6989607635206787, details={'was_impossible': False})"
            ]
          },
          "metadata": {},
          "execution_count": 55
        }
      ],
      "source": [
        "# Making prediction for user (userid 6958) for a song(song_id 3232) not heard by the user\n",
        "clust_baseline.predict('6958', 3232, verbose = True)"
      ]
    },
    {
      "cell_type": "markdown",
      "metadata": {
        "id": "c2fd66f5"
      },
      "source": [
        "#### Improving clustering-based recommendation system by tuning its hyper-parameters"
      ]
    },
    {
      "cell_type": "code",
      "execution_count": null,
      "metadata": {
        "id": "efe7d8e6"
      },
      "outputs": [],
      "source": [
        "# Set the parameter space to tune\n",
        "param_grid = {'n_cltr_u': [5, 6, 7, 8], 'n_cltr_i': [5, 6, 7, 8], 'n_epochs': [10, 20, 30]}\n",
        "\n",
        "# Performing 3-fold gridsearch cross validation\n",
        "gs = GridSearchCV(CoClustering, param_grid, measures = ['rmse'], cv = 3, n_jobs = -1)\n",
        "\n",
        "# Fitting data\n",
        "gs.fit(data)\n",
        "\n",
        "# Best RMSE score\n",
        "print(gs.best_score['rmse'])\n",
        "\n",
        "# Combination of parameters that gave the best RMSE score\n",
        "print(gs.best_params['rmse'])"
      ]
    },
    {
      "cell_type": "markdown",
      "source": [
        "**Think About It**: How do the parameters affect the performance of the model? Can we improve the performance of the model further? Check the available hyperparameters [here](https://surprise.readthedocs.io/en/stable/co_clustering.html)."
      ],
      "metadata": {
        "id": "CS6aMVJLyj21"
      }
    },
    {
      "cell_type": "code",
      "execution_count": null,
      "metadata": {
        "id": "5a7a8a30",
        "colab": {
          "base_uri": "https://localhost:8080/"
        },
        "outputId": "976afc21-93ea-4bec-8939-ef111f1f27b8"
      },
      "outputs": [
        {
          "output_type": "stream",
          "name": "stdout",
          "text": [
            "RMSE: 1.0654\n",
            "Precision:  0.394\n",
            "Recall:  0.566\n",
            "F_1 score:  0.465\n"
          ]
        }
      ],
      "source": [
        "# Train the tuned Coclustering algorithm\n",
        "# Using tuned Coclustering algorithm\n",
        "clust_tuned = CoClustering(n_cltr_u = 5,n_cltr_i = 5, n_epochs = 10, random_state = 1)\n",
        "\n",
        "# Training the algorithm on the trainset\n",
        "clust_tuned.fit(trainset)\n",
        "\n",
        "# Let us compute precision@k and recall@k with k = 10\n",
        "precision_recall_at_k(clust_tuned)\n"
      ]
    },
    {
      "cell_type": "markdown",
      "source": [
        "💡 **Observations and Insights:**\n",
        "\n",
        "*   Root mean square error (RMSE) is 1.0654\n",
        "*   The precision is 0.394 meaning that out of the recommended items 0.394 were relevant to the user. \n",
        "*   The recall is 0.566 meaning that out of the relevant products 0.566 products are recommended.\n",
        "*  With an F_1 score of 0.465 which is representative of both recall and precision."
      ],
      "metadata": {
        "id": "l-Jvce1gznKa"
      }
    },
    {
      "cell_type": "code",
      "execution_count": null,
      "metadata": {
        "id": "6ba5b26b",
        "colab": {
          "base_uri": "https://localhost:8080/"
        },
        "outputId": "3027c5e8-3cf1-4e2a-92af-16c96dd7d3dd"
      },
      "outputs": [
        {
          "output_type": "stream",
          "name": "stdout",
          "text": [
            "user: 6958       item: 1671       r_ui = None   est = 1.70   {'was_impossible': False}\n"
          ]
        },
        {
          "output_type": "execute_result",
          "data": {
            "text/plain": [
              "Prediction(uid=6958, iid=1671, r_ui=None, est=1.6989607635206787, details={'was_impossible': False})"
            ]
          },
          "metadata": {},
          "execution_count": 57
        }
      ],
      "source": [
        "# Using co_clustering_optimized model to recommend for userId 6958 and song_id 1671\n",
        "clust_tuned.predict(6958, 1671, verbose = True)"
      ]
    },
    {
      "cell_type": "code",
      "execution_count": null,
      "metadata": {
        "id": "ec582940",
        "colab": {
          "base_uri": "https://localhost:8080/"
        },
        "outputId": "92f5c2ac-404f-43d2-88e6-53d8e0833284"
      },
      "outputs": [
        {
          "output_type": "stream",
          "name": "stdout",
          "text": [
            "user: 6958       item: 3232       r_ui = None   est = 1.70   {'was_impossible': False}\n"
          ]
        },
        {
          "output_type": "execute_result",
          "data": {
            "text/plain": [
              "Prediction(uid=6958, iid=3232, r_ui=None, est=1.6989607635206787, details={'was_impossible': False})"
            ]
          },
          "metadata": {},
          "execution_count": 58
        }
      ],
      "source": [
        "# Use Co_clustering based optimized model to recommend for userId 6958 and song_id 3232 with unknown baseline rating\n",
        "clust_tuned.predict(6958, 3232, verbose = True) "
      ]
    },
    {
      "cell_type": "markdown",
      "source": [
        "💡 **Observations and Insights:**\n",
        "\n",
        "*    Estimated rating prediction is the same for both song_ids"
      ],
      "metadata": {
        "id": "rjGUSMqrzoDH"
      }
    },
    {
      "cell_type": "markdown",
      "metadata": {
        "id": "df9e28ba"
      },
      "source": [
        "#### Implementing the recommendation algorithm based on optimized CoClustering model"
      ]
    },
    {
      "cell_type": "code",
      "source": [
        "def get_recommendations(data, user_id, top_n, algo):\n",
        "    \n",
        "    # Creating an empty list to store the recommended restaurants ids\n",
        "    recommendations = []\n",
        "    \n",
        "    # Creating an user item interactions matrix \n",
        "    user_item_interactions_matrix = data.pivot_table(index = 'user_id', columns = 'song_id', values = 'play_count')\n",
        "    \n",
        "    # Extracting those restaurants ids which the user_id has not interacted yet\n",
        "    non_interacted_restaurants = user_item_interactions_matrix.loc[user_id][user_item_interactions_matrix.loc[user_id].isnull()].index.tolist()\n",
        "    \n",
        "    # Looping through each of the restaurants ids which user_id has not interacted yet\n",
        "    for item_id in non_interacted_restaurants:\n",
        "        \n",
        "        # Predicting the ratings for those non interacted restaurants ids by this user\n",
        "        est = algo.predict(user_id, item_id).est\n",
        "        \n",
        "        # Appending the predicted ratings\n",
        "        recommendations.append((item_id, est))\n",
        "\n",
        "    # Sorting the predicted ratings in descending order\n",
        "    recommendations.sort(key = lambda x: x[1], reverse = True)\n",
        "\n",
        "    # Returing top n highest predicted rating restaurants for this user\n",
        "    return recommendations[:top_n]"
      ],
      "metadata": {
        "id": "c20cCPPHsFKy"
      },
      "execution_count": null,
      "outputs": []
    },
    {
      "cell_type": "code",
      "execution_count": null,
      "metadata": {
        "id": "e0f36e15"
      },
      "outputs": [],
      "source": [
        "# Getting top 5 recommendations for user_id 6958 using \"Co-clustering based optimized\" algorithm\n",
        "clustering_recommendations = get_recommendations(df_final, 6958, 5, clust_tuned)"
      ]
    },
    {
      "cell_type": "markdown",
      "metadata": {
        "id": "f1696941"
      },
      "source": [
        "### Correcting the play_count and Ranking the above songs"
      ]
    },
    {
      "cell_type": "code",
      "execution_count": null,
      "metadata": {
        "id": "c186f13b",
        "scrolled": true,
        "colab": {
          "base_uri": "https://localhost:8080/",
          "height": 206
        },
        "outputId": "4fe881fc-e3dc-432a-e3ac-4ac02109d8ca"
      },
      "outputs": [
        {
          "output_type": "execute_result",
          "data": {
            "text/plain": [
              "              song_id  play_freq  predicted_ratings  corrected_ratings\n",
              "4  SOSJSSU12A6D4F8F41        107           3.711503           3.614829\n",
              "3  SOOGNOZ12AAF3B2936        108           2.903883           2.807658\n",
              "0  SORJICW12A8C13640D        169           2.691043           2.614120\n",
              "1  SOBRHVR12A8C133F35        151           2.606354           2.524975\n",
              "2  SOVWBYM12A6D4F8A22        123           2.582807           2.492640"
            ],
            "text/html": [
              "\n",
              "  <div id=\"df-71953dba-262b-4da8-800a-93e3a92f06f9\">\n",
              "    <div class=\"colab-df-container\">\n",
              "      <div>\n",
              "<style scoped>\n",
              "    .dataframe tbody tr th:only-of-type {\n",
              "        vertical-align: middle;\n",
              "    }\n",
              "\n",
              "    .dataframe tbody tr th {\n",
              "        vertical-align: top;\n",
              "    }\n",
              "\n",
              "    .dataframe thead th {\n",
              "        text-align: right;\n",
              "    }\n",
              "</style>\n",
              "<table border=\"1\" class=\"dataframe\">\n",
              "  <thead>\n",
              "    <tr style=\"text-align: right;\">\n",
              "      <th></th>\n",
              "      <th>song_id</th>\n",
              "      <th>play_freq</th>\n",
              "      <th>predicted_ratings</th>\n",
              "      <th>corrected_ratings</th>\n",
              "    </tr>\n",
              "  </thead>\n",
              "  <tbody>\n",
              "    <tr>\n",
              "      <th>4</th>\n",
              "      <td>SOSJSSU12A6D4F8F41</td>\n",
              "      <td>107</td>\n",
              "      <td>3.711503</td>\n",
              "      <td>3.614829</td>\n",
              "    </tr>\n",
              "    <tr>\n",
              "      <th>3</th>\n",
              "      <td>SOOGNOZ12AAF3B2936</td>\n",
              "      <td>108</td>\n",
              "      <td>2.903883</td>\n",
              "      <td>2.807658</td>\n",
              "    </tr>\n",
              "    <tr>\n",
              "      <th>0</th>\n",
              "      <td>SORJICW12A8C13640D</td>\n",
              "      <td>169</td>\n",
              "      <td>2.691043</td>\n",
              "      <td>2.614120</td>\n",
              "    </tr>\n",
              "    <tr>\n",
              "      <th>1</th>\n",
              "      <td>SOBRHVR12A8C133F35</td>\n",
              "      <td>151</td>\n",
              "      <td>2.606354</td>\n",
              "      <td>2.524975</td>\n",
              "    </tr>\n",
              "    <tr>\n",
              "      <th>2</th>\n",
              "      <td>SOVWBYM12A6D4F8A22</td>\n",
              "      <td>123</td>\n",
              "      <td>2.582807</td>\n",
              "      <td>2.492640</td>\n",
              "    </tr>\n",
              "  </tbody>\n",
              "</table>\n",
              "</div>\n",
              "      <button class=\"colab-df-convert\" onclick=\"convertToInteractive('df-71953dba-262b-4da8-800a-93e3a92f06f9')\"\n",
              "              title=\"Convert this dataframe to an interactive table.\"\n",
              "              style=\"display:none;\">\n",
              "        \n",
              "  <svg xmlns=\"http://www.w3.org/2000/svg\" height=\"24px\"viewBox=\"0 0 24 24\"\n",
              "       width=\"24px\">\n",
              "    <path d=\"M0 0h24v24H0V0z\" fill=\"none\"/>\n",
              "    <path d=\"M18.56 5.44l.94 2.06.94-2.06 2.06-.94-2.06-.94-.94-2.06-.94 2.06-2.06.94zm-11 1L8.5 8.5l.94-2.06 2.06-.94-2.06-.94L8.5 2.5l-.94 2.06-2.06.94zm10 10l.94 2.06.94-2.06 2.06-.94-2.06-.94-.94-2.06-.94 2.06-2.06.94z\"/><path d=\"M17.41 7.96l-1.37-1.37c-.4-.4-.92-.59-1.43-.59-.52 0-1.04.2-1.43.59L10.3 9.45l-7.72 7.72c-.78.78-.78 2.05 0 2.83L4 21.41c.39.39.9.59 1.41.59.51 0 1.02-.2 1.41-.59l7.78-7.78 2.81-2.81c.8-.78.8-2.07 0-2.86zM5.41 20L4 18.59l7.72-7.72 1.47 1.35L5.41 20z\"/>\n",
              "  </svg>\n",
              "      </button>\n",
              "      \n",
              "  <style>\n",
              "    .colab-df-container {\n",
              "      display:flex;\n",
              "      flex-wrap:wrap;\n",
              "      gap: 12px;\n",
              "    }\n",
              "\n",
              "    .colab-df-convert {\n",
              "      background-color: #E8F0FE;\n",
              "      border: none;\n",
              "      border-radius: 50%;\n",
              "      cursor: pointer;\n",
              "      display: none;\n",
              "      fill: #1967D2;\n",
              "      height: 32px;\n",
              "      padding: 0 0 0 0;\n",
              "      width: 32px;\n",
              "    }\n",
              "\n",
              "    .colab-df-convert:hover {\n",
              "      background-color: #E2EBFA;\n",
              "      box-shadow: 0px 1px 2px rgba(60, 64, 67, 0.3), 0px 1px 3px 1px rgba(60, 64, 67, 0.15);\n",
              "      fill: #174EA6;\n",
              "    }\n",
              "\n",
              "    [theme=dark] .colab-df-convert {\n",
              "      background-color: #3B4455;\n",
              "      fill: #D2E3FC;\n",
              "    }\n",
              "\n",
              "    [theme=dark] .colab-df-convert:hover {\n",
              "      background-color: #434B5C;\n",
              "      box-shadow: 0px 1px 3px 1px rgba(0, 0, 0, 0.15);\n",
              "      filter: drop-shadow(0px 1px 2px rgba(0, 0, 0, 0.3));\n",
              "      fill: #FFFFFF;\n",
              "    }\n",
              "  </style>\n",
              "\n",
              "      <script>\n",
              "        const buttonEl =\n",
              "          document.querySelector('#df-71953dba-262b-4da8-800a-93e3a92f06f9 button.colab-df-convert');\n",
              "        buttonEl.style.display =\n",
              "          google.colab.kernel.accessAllowed ? 'block' : 'none';\n",
              "\n",
              "        async function convertToInteractive(key) {\n",
              "          const element = document.querySelector('#df-71953dba-262b-4da8-800a-93e3a92f06f9');\n",
              "          const dataTable =\n",
              "            await google.colab.kernel.invokeFunction('convertToInteractive',\n",
              "                                                     [key], {});\n",
              "          if (!dataTable) return;\n",
              "\n",
              "          const docLinkHtml = 'Like what you see? Visit the ' +\n",
              "            '<a target=\"_blank\" href=https://colab.research.google.com/notebooks/data_table.ipynb>data table notebook</a>'\n",
              "            + ' to learn more about interactive tables.';\n",
              "          element.innerHTML = '';\n",
              "          dataTable['output_type'] = 'display_data';\n",
              "          await google.colab.output.renderOutput(dataTable, element);\n",
              "          const docLink = document.createElement('div');\n",
              "          docLink.innerHTML = docLinkHtml;\n",
              "          element.appendChild(docLink);\n",
              "        }\n",
              "      </script>\n",
              "    </div>\n",
              "  </div>\n",
              "  "
            ]
          },
          "metadata": {},
          "execution_count": 61
        }
      ],
      "source": [
        "# Ranking songs based on the above recommendations\n",
        "ranking_songs(clustering_recommendations, final_play)"
      ]
    },
    {
      "cell_type": "markdown",
      "source": [
        "💡 **Observations and Insights:**\n",
        "\n",
        "\n",
        "*    Play_freq average is less than item to item play frequency songs\n",
        "*    The highest predicted rating is 3.7 which is close to the corrected rating of 3.6"
      ],
      "metadata": {
        "id": "_uJ_nZjBzvKH"
      }
    },
    {
      "cell_type": "markdown",
      "metadata": {
        "id": "5U56oSNsR-F2"
      },
      "source": [
        "### Content Based Recommendation Systems"
      ]
    },
    {
      "cell_type": "markdown",
      "metadata": {
        "id": "9aTEqaOjhoEg"
      },
      "source": [
        "**Think About It:** So far we have only used the play_count of songs to find recommendations but we have other information/features on songs as well. Can we take those song features into account?"
      ]
    },
    {
      "cell_type": "code",
      "execution_count": null,
      "metadata": {
        "id": "RhUx2jgp4frC"
      },
      "outputs": [],
      "source": [
        "df_small = df_final"
      ]
    },
    {
      "cell_type": "code",
      "source": [
        "# Concatenate the \"title\", \"release\", \"artist_name\" columns to create a different column named \"text\"\n",
        "df_small['text'] = df_small['title'] + ' ' + df_small['release'] + ' ' + df_small['artist_name']"
      ],
      "metadata": {
        "id": "FgeNYlP0FW82"
      },
      "execution_count": null,
      "outputs": []
    },
    {
      "cell_type": "code",
      "execution_count": null,
      "metadata": {
        "id": "WdXw4U-wR-F4",
        "colab": {
          "base_uri": "https://localhost:8080/",
          "height": 666
        },
        "outputId": "d98bc150-9e61-43ca-d33f-9a772542deca"
      },
      "outputs": [
        {
          "output_type": "execute_result",
          "data": {
            "text/plain": [
              "                                 user_id             song_id  play_count  \\\n",
              "title                                                                      \n",
              "Daisy And Prudence                  6958  SOBDVAK12AC90759A2           1   \n",
              "The Ballad of Michael Valentine     6958  SOBIMTY12A6D4F931F           1   \n",
              "I Stand Corrected (Album)           6958  SOBKRVG12A8C133269           1   \n",
              "They Might Follow You               6958  SOBUBLL12A58A795A8           1   \n",
              "Monkey Man                          6958  SOBVKFF12A8C137A79           1   \n",
              "\n",
              "                                              release      artist_name  year  \\\n",
              "title                                                                          \n",
              "Daisy And Prudence                       Distillation     Erin McKeown  2000   \n",
              "The Ballad of Michael Valentine               Sawdust      The Killers  2004   \n",
              "I Stand Corrected (Album)             Vampire Weekend  Vampire Weekend  2007   \n",
              "They Might Follow You                     Tiny Vipers      Tiny Vipers  2007   \n",
              "Monkey Man                       You Know I'm No Good    Amy Winehouse  2007   \n",
              "\n",
              "                                 business_id  \\\n",
              "title                                          \n",
              "Daisy And Prudence                       447   \n",
              "The Ballad of Michael Valentine          512   \n",
              "I Stand Corrected (Album)                549   \n",
              "They Might Follow You                    703   \n",
              "Monkey Man                               719   \n",
              "\n",
              "                                                                              text  \n",
              "title                                                                               \n",
              "Daisy And Prudence                    Daisy And Prudence Distillation Erin McKeown  \n",
              "The Ballad of Michael Valentine  The Ballad of Michael Valentine Sawdust The Ki...  \n",
              "I Stand Corrected (Album)        I Stand Corrected (Album) Vampire Weekend Vamp...  \n",
              "They Might Follow You                They Might Follow You Tiny Vipers Tiny Vipers  \n",
              "Monkey Man                           Monkey Man You Know I'm No Good Amy Winehouse  "
            ],
            "text/html": [
              "\n",
              "  <div id=\"df-9408dc4d-6029-43d0-915a-0d7dbfc04a37\">\n",
              "    <div class=\"colab-df-container\">\n",
              "      <div>\n",
              "<style scoped>\n",
              "    .dataframe tbody tr th:only-of-type {\n",
              "        vertical-align: middle;\n",
              "    }\n",
              "\n",
              "    .dataframe tbody tr th {\n",
              "        vertical-align: top;\n",
              "    }\n",
              "\n",
              "    .dataframe thead th {\n",
              "        text-align: right;\n",
              "    }\n",
              "</style>\n",
              "<table border=\"1\" class=\"dataframe\">\n",
              "  <thead>\n",
              "    <tr style=\"text-align: right;\">\n",
              "      <th></th>\n",
              "      <th>user_id</th>\n",
              "      <th>song_id</th>\n",
              "      <th>play_count</th>\n",
              "      <th>release</th>\n",
              "      <th>artist_name</th>\n",
              "      <th>year</th>\n",
              "      <th>business_id</th>\n",
              "      <th>text</th>\n",
              "    </tr>\n",
              "    <tr>\n",
              "      <th>title</th>\n",
              "      <th></th>\n",
              "      <th></th>\n",
              "      <th></th>\n",
              "      <th></th>\n",
              "      <th></th>\n",
              "      <th></th>\n",
              "      <th></th>\n",
              "      <th></th>\n",
              "    </tr>\n",
              "  </thead>\n",
              "  <tbody>\n",
              "    <tr>\n",
              "      <th>Daisy And Prudence</th>\n",
              "      <td>6958</td>\n",
              "      <td>SOBDVAK12AC90759A2</td>\n",
              "      <td>1</td>\n",
              "      <td>Distillation</td>\n",
              "      <td>Erin McKeown</td>\n",
              "      <td>2000</td>\n",
              "      <td>447</td>\n",
              "      <td>Daisy And Prudence Distillation Erin McKeown</td>\n",
              "    </tr>\n",
              "    <tr>\n",
              "      <th>The Ballad of Michael Valentine</th>\n",
              "      <td>6958</td>\n",
              "      <td>SOBIMTY12A6D4F931F</td>\n",
              "      <td>1</td>\n",
              "      <td>Sawdust</td>\n",
              "      <td>The Killers</td>\n",
              "      <td>2004</td>\n",
              "      <td>512</td>\n",
              "      <td>The Ballad of Michael Valentine Sawdust The Ki...</td>\n",
              "    </tr>\n",
              "    <tr>\n",
              "      <th>I Stand Corrected (Album)</th>\n",
              "      <td>6958</td>\n",
              "      <td>SOBKRVG12A8C133269</td>\n",
              "      <td>1</td>\n",
              "      <td>Vampire Weekend</td>\n",
              "      <td>Vampire Weekend</td>\n",
              "      <td>2007</td>\n",
              "      <td>549</td>\n",
              "      <td>I Stand Corrected (Album) Vampire Weekend Vamp...</td>\n",
              "    </tr>\n",
              "    <tr>\n",
              "      <th>They Might Follow You</th>\n",
              "      <td>6958</td>\n",
              "      <td>SOBUBLL12A58A795A8</td>\n",
              "      <td>1</td>\n",
              "      <td>Tiny Vipers</td>\n",
              "      <td>Tiny Vipers</td>\n",
              "      <td>2007</td>\n",
              "      <td>703</td>\n",
              "      <td>They Might Follow You Tiny Vipers Tiny Vipers</td>\n",
              "    </tr>\n",
              "    <tr>\n",
              "      <th>Monkey Man</th>\n",
              "      <td>6958</td>\n",
              "      <td>SOBVKFF12A8C137A79</td>\n",
              "      <td>1</td>\n",
              "      <td>You Know I'm No Good</td>\n",
              "      <td>Amy Winehouse</td>\n",
              "      <td>2007</td>\n",
              "      <td>719</td>\n",
              "      <td>Monkey Man You Know I'm No Good Amy Winehouse</td>\n",
              "    </tr>\n",
              "  </tbody>\n",
              "</table>\n",
              "</div>\n",
              "      <button class=\"colab-df-convert\" onclick=\"convertToInteractive('df-9408dc4d-6029-43d0-915a-0d7dbfc04a37')\"\n",
              "              title=\"Convert this dataframe to an interactive table.\"\n",
              "              style=\"display:none;\">\n",
              "        \n",
              "  <svg xmlns=\"http://www.w3.org/2000/svg\" height=\"24px\"viewBox=\"0 0 24 24\"\n",
              "       width=\"24px\">\n",
              "    <path d=\"M0 0h24v24H0V0z\" fill=\"none\"/>\n",
              "    <path d=\"M18.56 5.44l.94 2.06.94-2.06 2.06-.94-2.06-.94-.94-2.06-.94 2.06-2.06.94zm-11 1L8.5 8.5l.94-2.06 2.06-.94-2.06-.94L8.5 2.5l-.94 2.06-2.06.94zm10 10l.94 2.06.94-2.06 2.06-.94-2.06-.94-.94-2.06-.94 2.06-2.06.94z\"/><path d=\"M17.41 7.96l-1.37-1.37c-.4-.4-.92-.59-1.43-.59-.52 0-1.04.2-1.43.59L10.3 9.45l-7.72 7.72c-.78.78-.78 2.05 0 2.83L4 21.41c.39.39.9.59 1.41.59.51 0 1.02-.2 1.41-.59l7.78-7.78 2.81-2.81c.8-.78.8-2.07 0-2.86zM5.41 20L4 18.59l7.72-7.72 1.47 1.35L5.41 20z\"/>\n",
              "  </svg>\n",
              "      </button>\n",
              "      \n",
              "  <style>\n",
              "    .colab-df-container {\n",
              "      display:flex;\n",
              "      flex-wrap:wrap;\n",
              "      gap: 12px;\n",
              "    }\n",
              "\n",
              "    .colab-df-convert {\n",
              "      background-color: #E8F0FE;\n",
              "      border: none;\n",
              "      border-radius: 50%;\n",
              "      cursor: pointer;\n",
              "      display: none;\n",
              "      fill: #1967D2;\n",
              "      height: 32px;\n",
              "      padding: 0 0 0 0;\n",
              "      width: 32px;\n",
              "    }\n",
              "\n",
              "    .colab-df-convert:hover {\n",
              "      background-color: #E2EBFA;\n",
              "      box-shadow: 0px 1px 2px rgba(60, 64, 67, 0.3), 0px 1px 3px 1px rgba(60, 64, 67, 0.15);\n",
              "      fill: #174EA6;\n",
              "    }\n",
              "\n",
              "    [theme=dark] .colab-df-convert {\n",
              "      background-color: #3B4455;\n",
              "      fill: #D2E3FC;\n",
              "    }\n",
              "\n",
              "    [theme=dark] .colab-df-convert:hover {\n",
              "      background-color: #434B5C;\n",
              "      box-shadow: 0px 1px 3px 1px rgba(0, 0, 0, 0.15);\n",
              "      filter: drop-shadow(0px 1px 2px rgba(0, 0, 0, 0.3));\n",
              "      fill: #FFFFFF;\n",
              "    }\n",
              "  </style>\n",
              "\n",
              "      <script>\n",
              "        const buttonEl =\n",
              "          document.querySelector('#df-9408dc4d-6029-43d0-915a-0d7dbfc04a37 button.colab-df-convert');\n",
              "        buttonEl.style.display =\n",
              "          google.colab.kernel.accessAllowed ? 'block' : 'none';\n",
              "\n",
              "        async function convertToInteractive(key) {\n",
              "          const element = document.querySelector('#df-9408dc4d-6029-43d0-915a-0d7dbfc04a37');\n",
              "          const dataTable =\n",
              "            await google.colab.kernel.invokeFunction('convertToInteractive',\n",
              "                                                     [key], {});\n",
              "          if (!dataTable) return;\n",
              "\n",
              "          const docLinkHtml = 'Like what you see? Visit the ' +\n",
              "            '<a target=\"_blank\" href=https://colab.research.google.com/notebooks/data_table.ipynb>data table notebook</a>'\n",
              "            + ' to learn more about interactive tables.';\n",
              "          element.innerHTML = '';\n",
              "          dataTable['output_type'] = 'display_data';\n",
              "          await google.colab.output.renderOutput(dataTable, element);\n",
              "          const docLink = document.createElement('div');\n",
              "          docLink.innerHTML = docLinkHtml;\n",
              "          element.appendChild(docLink);\n",
              "        }\n",
              "      </script>\n",
              "    </div>\n",
              "  </div>\n",
              "  "
            ]
          },
          "metadata": {},
          "execution_count": 79
        }
      ],
      "source": [
        "# Select the columns 'user_id', 'song_id', 'play_count', 'title', 'text' from df_small data\n",
        "df_small[['user_id', 'song_id', 'play_count', 'title', 'text']]\n",
        "\n",
        "# Drop the duplicates from the title column\n",
        "df_small = df_small.drop_duplicates(subset = ['title'])\n",
        "\n",
        "# Set the title column as the index\n",
        "df_small = df_small.set_index('title')\n",
        "\n",
        "# See the first 5 records of the df_small dataset\n",
        "df_small.head()\n"
      ]
    },
    {
      "cell_type": "code",
      "source": [
        "# Create the series of indices from the data\n",
        "indices = pd.Series(df_small.index)\n",
        "\n",
        "indices[ : 5]"
      ],
      "metadata": {
        "colab": {
          "base_uri": "https://localhost:8080/"
        },
        "id": "OipXNnA2FGNi",
        "outputId": "846f0f4a-2d56-4645-f740-0d41c13e5ba3"
      },
      "execution_count": null,
      "outputs": [
        {
          "output_type": "execute_result",
          "data": {
            "text/plain": [
              "0                 Daisy And Prudence\n",
              "1    The Ballad of Michael Valentine\n",
              "2          I Stand Corrected (Album)\n",
              "3              They Might Follow You\n",
              "4                         Monkey Man\n",
              "Name: title, dtype: object"
            ]
          },
          "metadata": {},
          "execution_count": 80
        }
      ]
    },
    {
      "cell_type": "code",
      "execution_count": null,
      "metadata": {
        "id": "9UINF3Nwvwfr",
        "colab": {
          "base_uri": "https://localhost:8080/"
        },
        "outputId": "0251a8e9-f76e-4e74-bc32-21a36d80d583"
      },
      "outputs": [
        {
          "output_type": "stream",
          "name": "stderr",
          "text": [
            "[nltk_data] Downloading package omw-1.4 to /root/nltk_data...\n",
            "[nltk_data]   Package omw-1.4 is already up-to-date!\n",
            "[nltk_data] Downloading package punkt to /root/nltk_data...\n",
            "[nltk_data]   Package punkt is already up-to-date!\n",
            "[nltk_data] Downloading package stopwords to /root/nltk_data...\n",
            "[nltk_data]   Package stopwords is already up-to-date!\n",
            "[nltk_data] Downloading package wordnet to /root/nltk_data...\n",
            "[nltk_data]   Package wordnet is already up-to-date!\n"
          ]
        }
      ],
      "source": [
        "# Importing necessary packages to work with text data\n",
        "import nltk\n",
        "nltk.download('omw-1.4')\n",
        "\n",
        "# Download punkt library\n",
        "nltk.download(\"punkt\")\n",
        "\n",
        "# Download stopwords library\n",
        "nltk.download(\"stopwords\")\n",
        "\n",
        "# Download wordnet \n",
        "nltk.download(\"wordnet\")\n",
        "\n",
        "# Import regular expression\n",
        "import re\n",
        "\n",
        "# Import word_tokenizer\n",
        "from nltk import word_tokenize\n",
        "\n",
        "# Import WordNetLemmatizer\n",
        "from nltk.stem import WordNetLemmatizer\n",
        "\n",
        "# Import stopwords\n",
        "from nltk.corpus import stopwords\n",
        "\n",
        "# Import CountVectorizer and TfidfVectorizer\n",
        "from sklearn.feature_extraction.text import CountVectorizer, TfidfVectorizer"
      ]
    },
    {
      "cell_type": "markdown",
      "metadata": {
        "id": "Jt2vitlnhoEg"
      },
      "source": [
        "We will create a **function to pre-process the text data:**"
      ]
    },
    {
      "cell_type": "code",
      "execution_count": null,
      "metadata": {
        "id": "j5QSSeUvR-F6"
      },
      "outputs": [],
      "source": [
        "# Function to tokenize the text\n",
        "def tokenize(text):\n",
        "    \n",
        "    text = re.sub(r\"[^a-zA-Z]\",\" \", text.lower())\n",
        "    \n",
        "    tokens = word_tokenize(text)\n",
        "    \n",
        "    words = [word for word in tokens if word not in stopwords.words('english')]  # Use stopwords of english\n",
        "    \n",
        "    text_lems = [WordNetLemmatizer().lemmatize(lem).strip() for lem in words]\n",
        "\n",
        "    return text_lems\n"
      ]
    },
    {
      "cell_type": "code",
      "execution_count": null,
      "metadata": {
        "id": "RI_onIGdR-F6"
      },
      "outputs": [],
      "source": [
        "# Create tfidf vectorizer \n",
        "tfidf = TfidfVectorizer(tokenizer = tokenize)\n",
        "\n",
        "# Fit_transfrom the above vectorizer on the text column and then convert the output into an array\n",
        "song_tfidf = tfidf.fit_transform(df_small['text'].values).toarray()"
      ]
    },
    {
      "cell_type": "code",
      "execution_count": null,
      "metadata": {
        "id": "Beak6ODRR-F7",
        "colab": {
          "base_uri": "https://localhost:8080/"
        },
        "outputId": "2861ad67-5642-455b-d836-fa92b44b20d3"
      },
      "outputs": [
        {
          "output_type": "execute_result",
          "data": {
            "text/plain": [
              "array([[1., 0., 0., ..., 0., 0., 0.],\n",
              "       [0., 1., 0., ..., 0., 0., 0.],\n",
              "       [0., 0., 1., ..., 0., 0., 0.],\n",
              "       ...,\n",
              "       [0., 0., 0., ..., 1., 0., 0.],\n",
              "       [0., 0., 0., ..., 0., 1., 0.],\n",
              "       [0., 0., 0., ..., 0., 0., 1.]])"
            ]
          },
          "metadata": {},
          "execution_count": 84
        }
      ],
      "source": [
        "# Compute the cosine similarity for the tfidf above output\n",
        "similar_songs = cosine_similarity(song_tfidf, song_tfidf)\n",
        "\n",
        "similar_songs"
      ]
    },
    {
      "cell_type": "markdown",
      "metadata": {
        "id": "3Jjo3UHKhoEh"
      },
      "source": [
        " Finally, let's create a function to find most similar songs to recommend for a given song."
      ]
    },
    {
      "cell_type": "code",
      "source": [
        "# Function that takes in song title as input and returns the top 10 recommended songs\n",
        "def recommendations(title, similar_songs):\n",
        "    \n",
        "    recommended_songs = []\n",
        "    \n",
        "    # Getting the index of the song that matches the title\n",
        "    idx = indices[indices == title].index[0]\n",
        "\n",
        "    # Creating a Series with the similarity scores in descending order\n",
        "    score_series = pd.Series(similar_songs[idx]).sort_values(ascending = False)\n",
        "\n",
        "    # Getting the indexes of the 10 most similar songs\n",
        "    top_10_indexes = list(score_series.iloc[1 : 11].index)\n",
        "    print(top_10_indexes)\n",
        "    \n",
        "    # Populating the list with the titles of the best 10 matching songs\n",
        "    for i in top_10_indexes:\n",
        "        recommended_songs.append(list(df_small.index)[i])\n",
        "        \n",
        "    return recommended_songs"
      ],
      "metadata": {
        "id": "5U3q8JK8Dbm4"
      },
      "execution_count": null,
      "outputs": []
    },
    {
      "cell_type": "markdown",
      "metadata": {
        "id": "o4EINBmkR-F8"
      },
      "source": [
        "Recommending 10 songs similar to Learn to Fly"
      ]
    },
    {
      "cell_type": "code",
      "execution_count": null,
      "metadata": {
        "id": "ohEK5dkVR-F8",
        "colab": {
          "base_uri": "https://localhost:8080/"
        },
        "outputId": "41c6ae6a-2fdf-4389-880e-d32b3c2671f4"
      },
      "outputs": [
        {
          "output_type": "stream",
          "name": "stdout",
          "text": [
            "[509, 234, 423, 345, 394, 370, 371, 372, 373, 375]\n"
          ]
        },
        {
          "output_type": "execute_result",
          "data": {
            "text/plain": [
              "['Everlong',\n",
              " 'The Pretender',\n",
              " 'Nothing Better (Album)',\n",
              " 'From Left To Right',\n",
              " 'Lifespan Of A Fly',\n",
              " 'Under The Gun',\n",
              " 'I Need A Dollar',\n",
              " 'Feel The Love',\n",
              " 'All The Pretty Faces',\n",
              " 'Bones']"
            ]
          },
          "metadata": {},
          "execution_count": 87
        }
      ],
      "source": [
        "# Make the recommendation for the song with title 'Learn To Fly'\n",
        "recommendations('Learn To Fly', similar_songs)"
      ]
    },
    {
      "cell_type": "markdown",
      "source": [
        "**Observations and Insights:**"
      ],
      "metadata": {
        "id": "UQ7iI5QJ0oem"
      }
    },
    {
      "cell_type": "markdown",
      "metadata": {
        "id": "6k0w-Ci6vYY4"
      },
      "source": [
        "## **Conclusion and Recommendations:** \n",
        "\n",
        "Refined insights: Spotify Recommendations Module 2\n",
        "\n",
        "  |           | User-Based Filtering                   | Item-Based Filtering                   | Matrix Factorization                   | Cluster-Based Model                   |\n",
        "| --------- | -------------------------------------- | -------------------------------------- | -------------------------------------- | ------------------------------------- |\n",
        "| RMSE      | 1.0626                                 | 1.0394                                 | 1.0252                                 | 1.0487                                |\n",
        "| Precision | 0.413                                  | 0.307                                  | 0.41                                   | 0.397                                 |\n",
        "| Recall    | 0.608                                  | 0.562                                  | 0.633                                  | 0.582                                 |\n",
        "| F_1 score | 0.492                                  | 0.397                                  | 0.498                                  | 0.472                                 |\n",
        "|           | User-Based Filtering w/Hyperparameters | Item-Based Filtering w/Hyperparameters | Matrix Factorization w/Hyperparameters | Cluster-Based Model w/Hyperparameters |\n",
        "| RMSE      | 1.0534                                 | 1.0423                                 | **1.0141**                             | 1.0654                                |\n",
        "| Precision | 0.414                                  | 0.34                                   | **0.415**                              | 0.394                                 |\n",
        "| Recall    | **0.703**                              | 0.563                                  | 0.635                                  | 0.566                                 |\n",
        "| F_1 score | 0.521                                  | 0.424                                  | 0.502                                  | 0.465                                 |\n",
        "\n",
        "\n",
        "**What are the most meaningful insights from the data relevant to the\n",
        "problem?**\n",
        "\n",
        "-   After completing two individual recommendation systems I realized\n",
        "    that the most appropriate model depends on the data that is\n",
        "    provided. No one model works for every recommendation system.\n",
        "    Various techniques range from a simple model to a more complex and\n",
        "    layered one. The most appropriate model is determined through what\n",
        "    can provide the most accurate prediction rating and this varies\n",
        "    based on the business ask.\n",
        "\n",
        "-   User to User filtering models with and without hyperparameters have\n",
        "    the largest discrepancies between F_1 score values. This indicates\n",
        "    that tuning the model can make a significant impact on your model\n",
        "    performance. Matrix factorization considers the user to item\n",
        "    filtering, this allows for a more personalized recommendation system\n",
        "    that is strictly based on past behaviors of the user. I am surprised\n",
        "    this does not have a higher F_1 score but it was the second highest.\n",
        "    Additionally, I would like to explore the models with different\n",
        "    parameters and test sizes. Will increasing test size and decreasing\n",
        "    parameters for specific models drastically change the result we are\n",
        "    already seeing?\n",
        "\n",
        "**Comparison of various techniques and their relative performance:**\n",
        "\n",
        "**How do different techniques perform?**\n",
        "\n",
        "-   Item Based Filter was the least efficient model, realistically this\n",
        "    makes sense. Item to Item modeling was filtered on song_id and\n",
        "    recommended similar songs according to the data. This is difficult\n",
        "    to conduct without grouping/clustering into something such as\n",
        "    genres. Users listen to varying types of songs and a singular song\n",
        "    may fall into two opposite categories. To make the item filtering\n",
        "    more efficient we would want to follow a cluster-based modeling on a\n",
        "    grouping such as a genre. Item-to-item-based filtering with and\n",
        "    without tuning did not lead to promising results. Per the reference\n",
        "    chart above it was the worst-performing model based on the F_1\n",
        "    score. Matrix factorization led to the second-highest scores\n",
        "    compared to other models.\n",
        "\n",
        "**Which one is performing better?­­­**\n",
        "\n",
        "-   User to User w/Hyperparameters has indicated the highest F_1 score\n",
        "    compared to all the filtering models with a 0.521 score. Tuning\n",
        "    improved the F_1 score the most compared to other models and\n",
        "    contains the highest recall rate.\n",
        "\n",
        "**Is there scope to improve the performance further?**\n",
        "\n",
        "-   To improve the performance there are additional data points that I\n",
        "    would like to help organize the data. Additional data may include\n",
        "    genre, mood tags, and producer credits. Adding these aspects into\n",
        "    models will help clarify a more direct recommendation without adding\n",
        "    too much noise. Mood tags can help group songs into themes and\n",
        "    finding out at what times of the day a user listens to a specific\n",
        "    mood can enhance recommendations. Producers tend to write a similar\n",
        "    style of songs thus producer credits can recommend more songs not by\n",
        "    artist popularity but by producer popularity.\n",
        "\n",
        "**Proposal for the final solution design:**\n",
        "\n",
        "**What model do you propose to be adopted? Why is this the best solution\n",
        "to adopt?**\n",
        "\n",
        "-   I propose User-Based Filtering w/Hyperparameters because of the F_1\n",
        "    score, this is a major indicator of how accurate the predictions for\n",
        "    the said model will be. After testing this with r_ui I was able to\n",
        "    determine that the prediction was closest to the real rating by\n",
        "    0.30. As previously mentioned, adding items such as genre, mood\n",
        "    tags, and producer credits can enhance the product and are easy to\n",
        "    implement for an item-based model. Users tend to not explore outside\n",
        "    of their initial preferred artists or genres which could lead to a\n",
        "    linear experience. Spotify prides itself on being able to conduct a\n",
        "    musical experience through its recommendations. When focusing on\n",
        "    items such as song_id it is not based on previous individual user\n",
        "    insights but more tailored towards similar songs recently listened\n",
        "    to or popularly played. This allows for a more precise prediction.\n",
        "\n",
        "\n",
        "\n"
      ]
    },
    {
      "cell_type": "code",
      "source": [],
      "metadata": {
        "id": "Z5f8nj7cmBAQ"
      },
      "execution_count": null,
      "outputs": []
    }
  ]
}